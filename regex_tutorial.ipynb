{
  "nbformat": 4,
  "nbformat_minor": 0,
  "metadata": {
    "colab": {
      "provenance": []
    },
    "kernelspec": {
      "name": "python3",
      "display_name": "Python 3"
    },
    "language_info": {
      "name": "python"
    }
  },
  "cells": [
    {
      "cell_type": "markdown",
      "source": [
        "# Introduction to regular expressions with Python\n",
        "\n",
        "---\n",
        "Nicholas A. Lester\n"
      ],
      "metadata": {
        "id": "zh6z_om_y_ze"
      }
    },
    {
      "cell_type": "markdown",
      "source": [
        "This file will \n",
        "- introduce the basics of regular expressions\n",
        "- show how they are implemented in Python\n",
        "- show how they can be applied to textual analysis using the `re` library \n",
        "\n",
        "There is much more to regex than is covered here. To learn more, visit the documentation for the `re` library [here](https://docs.python.org/3/library/re.html)."
      ],
      "metadata": {
        "id": "QVU-LLsXv4Ip"
      }
    },
    {
      "cell_type": "markdown",
      "source": [
        "## What are regular expressions?\n",
        "\n",
        "\n",
        "---\n",
        "\n",
        "\n",
        "Regular expressions, or **regex**, comprise a formal language for matching (sub)strings. \n",
        "\n",
        "Regex are formally **finite state automata**, or **FSAs**. FSAs encode transitions between states (e.g., transitions between characters in a string of text). \n",
        "\n",
        "A simple FSA is presented below:\n",
        "\n",
        "<center><img src=\"https://github.com/nalester/LING_5405/blob/main/Fig_fsa.png?raw=true\", width=300></center>\n",
        "\n",
        "\n",
        "In this representation, \n",
        "- the circles indicate states\n",
        "= the arrows show the possibilities for moving between states\n",
        "- the double-circle indicates a possible ending state\n",
        "\n",
        "To see what strings it can match, simply follow the arrows until you reach the double-circle. The b cell has an optional repeating arrow, making this a *non-deterministic* FSA or NFSA.\n",
        "\n",
        "As the figure shows, this FSA will match any sequence that consists of \n",
        "- exacrtly one *a*\n",
        "- followed by any number of *b*\n",
        "- followed by exactly one *c* \n",
        "\n",
        "Other strings, such as a single *a*, or any sequence that goes against the flow of the arrows (e.g., *bac*) will not be matched. \n",
        "\n",
        "\n",
        "---\n",
        "\n",
        "#### **An example**\n",
        "To demonstrate why this is useful, imagine that the above FSA is your search term. You can now move through a string or document one character at a time. The first *a* that you find is an initial starting point for the match. If it is not followed by *b*, keep moving. If it is followed by *b*, then we can still entertain the potential match, and the process continues. \n",
        "\n",
        "**Sample string**  \n",
        "*aababbbccbabcb*\n",
        "\n",
        "**Moving through the example on character at a time:**\n",
        "- <font color=\"green\">green</font> marks the starting character for a possible matching sequence along with any following characters that continue to be consistent\n",
        "- <font color=\"darkorange\">orange</font> marks ends of matching sequences\n",
        "- <font color=\"lightgrey\">grey</font> marks incompatible substrings\n",
        "\n",
        "<center>\n",
        "\n",
        "<font color=\"green\">a</font>ababbbbccbabcb  \n",
        "\n",
        "<font color=\"lightgrey\">a</font><font color=\"green\">ab</font>abbbbccbabcb  \n",
        "\n",
        "<font color=\"lightgrey\">aab</font><font color=\"green\">a</font>bbbbccbabcb  \n",
        "\n",
        "<font color=\"lightgrey\">aab</font><font color=\"green\">abb</font>bbccbabcb  \n",
        "\n",
        "<font color=\"lightgrey\">aab</font><font color=\"green\">abbb</font>bccbabcb  \n",
        "\n",
        "<font color=\"lightgrey\">aab</font><font color=\"green\">abbbb</font>ccbabcb  \n",
        "\n",
        "<font color=\"lightgrey\">aab</font><font color=\"green\">abbbb</font><font color=\"darkorange\">c</font>cbabcb\n",
        "\n",
        "<font color=\"lightgrey\">aab</font><font color=\"green\">abbbb</font><font color=\"darkorange\">c</font><font color=\"lightgrey\">c</font>babcb         \n",
        "<font color=\"lightgrey\">aab</font><font color=\"green\">abbbb</font><font color=\"darkorange\">c</font><font color=\"lightgrey\">cb</font>abcb  \n",
        "\n",
        "<font color=\"lightgrey\">aab</font><font color=\"green\">abbbb</font><font color=\"darkorange\">c</font><font color=\"lightgrey\">cb</font><font color=\"green\">a</font>bcb  \n",
        "\n",
        "<font color=\"lightgrey\">aab</font><font color=\"green\">abbbb</font><font color=\"darkorange\">c</font><font color=\"lightgrey\">cb</font><font color=\"green\">ab</font>cb \n",
        "\n",
        "<font color=\"lightgrey\">aab</font><font color=\"green\">abbbb</font><font color=\"darkorange\">c</font><font color=\"lightgrey\">cb</font><font color=\"green\">ab</font><font color=\"darkorange\">c</font>b\n",
        "\n",
        "<font color=\"lightgrey\">aab</font><font color=\"green\">abbbb</font><font color=\"darkorange\">c</font><font color=\"lightgrey\">cb</font><font color=\"green\">ab</font><font color=\"darkorange\">c</font><font color=\"lightgrey\">b</font>\n",
        "\n",
        "</center>"
      ],
      "metadata": {
        "id": "-xRfYyeg0XcT"
      }
    },
    {
      "cell_type": "markdown",
      "source": [
        "Thus, in the total string, we have two substrings that are compatible with the FSA defined above: **abbbbc** (starting at character 3 in 0-initialized counting) and **abc** (starting at character 11). \n",
        "\n",
        "The matching substrings can then be \"clipped out\" (either because we want to keep them or discard them). "
      ],
      "metadata": {
        "id": "DvcsVBki55kw"
      }
    },
    {
      "cell_type": "markdown",
      "source": [
        "This example should hint at the possibility for **searching and segmenting text**. With more interesting regex, we can search for *any* substring, including words, sentences, and so on. \n",
        "\n",
        "All we need to know is how the words, sentences, etc. are demarcated in the document and what they can consist of internally. "
      ],
      "metadata": {
        "id": "PawoDX7v6TJ-"
      }
    },
    {
      "cell_type": "markdown",
      "source": [
        "**A quick note**: the method of search through the string is independent of the regex. Here, we see a **greedy** approach. \n",
        "\n",
        "**Greedy matching** grabs the longest substring that is compatible with the search term. Only once the \"furthest\" possible endpoint has been reached is the next character considered a possible start for the next substring. "
      ],
      "metadata": {
        "id": "Il8yWZSa7W-C"
      }
    },
    {
      "cell_type": "markdown",
      "source": [
        "## Regex Notation\n",
        "\n",
        "---\n",
        "\n",
        "**How do we \"write out\" an FSA like in the example above?**\n",
        "\n",
        "Regex come with several types of special characters, in addition to the standard alphanumeric and punctuation set that we use on a daily basis (and which will comprise the majority of any human-language text). \n",
        "\n",
        "To start, regex are traditionally indicated by <font color=\"darkred\">//</font>.\n",
        "\n",
        "Example: <font color=\"darkred\">/some_regex/</font> \n",
        "\n",
        "**NB**: This is NOT how regex are written in Python; we will cover that below."
      ],
      "metadata": {
        "id": "6_QVXSjy_YgX"
      }
    },
    {
      "cell_type": "markdown",
      "source": [
        "#### **Identity matching**\n",
        "\n",
        "\n",
        "---\n",
        "You can match any standard character simply by typing it. These matches are case-sensitive.\n",
        "\n",
        "**Example**  \n",
        "- <font color=\"darkred\">/cat/</font> matches *cat* but not *Cat*\n",
        "\n",
        "Numbers work the same way.\n",
        "\n",
        "Some punctuation marks need to be combined with a special character -- the **escape** character <font color=\"darkred\">/\\\\/</font> in order to be interpreted as true punctuation.\n",
        "\n",
        "This is because they are used on their own as special characters in regex. \n",
        "\n",
        "For example, the period \".\" is a special character. If you want to search for a string that contains an actual period, you must combine it with the escape character to form <font color=\"darkred\">/\\\\./</font>.\n",
        "\n",
        "<br>\n",
        "\n",
        "**Disjunction** \n",
        "\n",
        "\n",
        "---\n",
        "\n",
        "\n",
        "You can specify alternative identity matches using *disjunction*. \n",
        "\n",
        "The disjunction character is the pipe <font color=\"darkred\">/|/</font>. It is best to combine the pipe with parentheses to demarcate the limits of the options.\n",
        "\n",
        "<br>\n",
        "\n",
        "**Example**  \n",
        "- <font color=\"darkred\">/(cat|dog|mouse)/</font> matches exactly *cat* **OR** *dog* **OR** *mouse*. \n",
        "\n",
        "- It **does not** match *ca* or *ous* or any other substring from among the alternatives."
      ],
      "metadata": {
        "id": "TQUfDBcBBHsP"
      }
    },
    {
      "cell_type": "markdown",
      "source": [
        "#### **Positional matching**\n",
        "\n",
        "\n",
        "---\n",
        "\n",
        "You can specify where you want to look for a match relative to the beginning or ending of strings. \n",
        "\n",
        "- <font color=\"darkred\">/^/</font> matches the beginning of a string\n",
        "- <font color=\"darkred\">/$/</font>  matches the ending of a string\n",
        "\n",
        "**Examples**  \n",
        "- <font color=\"darkred\">/^word/</font> matches any string that **starts with** the character string \"word\". \n",
        "\n",
        "- <font color=\"darkred\">/word$/</font> matches any string that **ends with** the character string \"word\".\n",
        "\n",
        "- <font color=\"darkred\">/^word$/</font> matches any string that **is exactly** the character string \"word\"."
      ],
      "metadata": {
        "id": "9mLArF9lC7V7"
      }
    },
    {
      "cell_type": "markdown",
      "source": [
        "#### **Set matching**\n",
        "\n",
        "\n",
        "---\n",
        "\n",
        "We can also match characters from a set of possibilities.\n",
        "\n",
        "Say **we don't know ahead of time how each string will look**, but we know that we want it to be composed only from certain characters, possibly in different combinations.\n",
        "\n",
        "Or say **we don't care about the specific characters at all**, but only that *some* character or characters are there.\n",
        "\n",
        "How can we code what we don't know ahead of time?\n",
        "\n",
        "We define a **set**!\n",
        "\n",
        "<br>\n",
        "\n",
        "**Types of sets**\n",
        "\n",
        "\n",
        "---\n",
        "\n",
        "\n",
        "- <font color=\"darkred\">/./</font>  \n",
        "  **Wildcard**: stands for the set of all possible characters. Matches any character.\n",
        "\n",
        "- <font color=\"darkred\">/[abc]/</font>  \n",
        "  **Character set**: matches **any one** character from the characters in the square brackets (here, *a* **OR** *b* **OR** *c*).   \n",
        "\n",
        "- <font color=\"darkred\">/[A-Za-z0-9]/</font>  \n",
        "  **Character range**: some special sets are defined as ranges. For example, <font color=\"darkred\">/[A-Z]/</font> matches any uppercase latin letter from *A* to *Z*. It is therefore equivalent to <font color=\"darkred\">/[ABCDEFGHIJKLMNOPQRSTUVWXYZ]/</font>. The same logic applies to <font color=\"darkred\">/[a-z]/</font> for lowercase latin letters and <font color=\"darkred\">/0-9/</font> for numerals.\n",
        "\n",
        "- <font color=\"darkred\">/\\\\*x*/</font>   \n",
        "  **Metacharacters**: more special sets. The general convention for **set-oriented metacharacters** is that lowercase *x* is a positive match (\"look for this\"), and uppercase *X* is a negative match (\"look for anything that is not this\").\n",
        "  - <font color=\"darkred\">/\\d/</font>: digits\n",
        "  - <font color=\"darkred\">/\\D/</font>: non-digits\n",
        "  - <font color=\"darkred\">/\\w/</font>: word characters (= <font color=\"darkred\">/[A-Za-z0-9_]/</font>)\n",
        "  - <font color=\"darkred\">/\\W/</font>: non-word characters   \n",
        "\n",
        "<br>\n",
        "\n",
        "**Negating any set manually**\n",
        "\n",
        "\n",
        "---\n",
        "\n",
        "\n",
        "Finally, for any set defined in square brackets, e.g., <font color=\"darkred\">/[abc]/</font>, you can manually say \"not one of these\" using <font color=\"darkred\">/[^...]/</font>.\n",
        "  - <font color=\"darkred\">/[^abc]/</font> means \"**NOT** (*a* **OR** *b* **OR** *c*)\"\n",
        "  - <font color=\"darkred\">/[^\\w]/</font> means <font color=\"darkred\">/\\W/</font>"
      ],
      "metadata": {
        "id": "bhClNqnbZnLj"
      }
    },
    {
      "cell_type": "markdown",
      "source": [
        "#### **Quantifiers**\n",
        "\n",
        "\n",
        "---\n",
        "\n",
        "Quantifiers allow us to say **how many times a character or substring may be repeated** (like the circular arrow in the FSA above).\n",
        "\n",
        "They are placed immediately after the unit that they control.\n",
        "\n",
        "There are two basic types\n",
        "- **special characters**\n",
        "- **brace notation** \n",
        "\n",
        "<br>\n",
        "\n",
        "**Special characters**\n",
        "\n",
        "\n",
        "---\n",
        "\n",
        "The special characters are <font color=\"darkred\">/*/</font>, <font color=\"darkred\">/+/</font>, and <font color=\"darkred\">/?/</font>.\n",
        "\n",
        "- <font color=\"darkred\">/<i>x</i>\\*/</font>  \n",
        "  Matches 0 or more *x*\n",
        "\n",
        "- <font color=\"darkred\">/<i>x</i>\\+/</font>  \n",
        "  Matches 1 or more *x*\n",
        "\n",
        "- <font color=\"darkred\">/<i>x</i>\\?/</font>  \n",
        "  Matches 0 or 1 *x*\n",
        "\n",
        "**Examples**\n",
        "- <font color=\"darkred\">/a\\*/</font> matches nothing (empty string, i.e., 0 *a*) **OR** *a*, *aa*, *aaaaaaaaaaaa*, etc.\n",
        "\n",
        "- <font color=\"darkred\">/a\\+/</font> matches *a*, *aa*, *aaaaaaaaaaaa*, etc. \n",
        "\n",
        "- <font color=\"darkred\">/a\\?/</font> matches nothing **OR** *a*.\n",
        "\n",
        "<br>\n",
        "\n",
        "**Brace notation**\n",
        "\n",
        "\n",
        "---\n",
        "\n",
        "You can customize the number and/or range of repetitions directly using curly braces <font color=\"darkred\">/{*x*, *y*}/</font>, where *x* and *y* are any number.\n",
        "\n",
        "- <font color=\"darkred\">/a{4}/</font>  \n",
        "  Matches **exactly 4** instances of *a*\n",
        "  - *aaaa*\n",
        "\n",
        "- <font color=\"darkred\">/a{,4}/</font>  \n",
        "  Matches 0 **up to** 4 instances of *a*, or *aaaa*\n",
        "  - nothing **OR** *a*, *aa*, *aaa*, *aaaa*\n",
        "\n",
        "- <font color=\"darkred\">/a{4,}/</font>  \n",
        "  Matches **4 or more** instances of *a*\n",
        "  - *aaaa*, *aaaaa*, ..., *aaaaaaaaaaa*, etc.\n",
        "\n",
        "- <font color=\"darkred\">/a{4, 6}/</font>  \n",
        "  Matches **from 4 to 6** instances of *a*\n",
        "  - *aaaa*, *aaaaa*, *aaaaaa*\n",
        "\n",
        "<br>\n",
        "\n",
        "**Repeating longer substrings**\n",
        "\n",
        "\n",
        "---\n",
        "\n",
        "You can repeat longer substrings by applying the quantifier to a unit in parentheses: <font color=\"darkred\">/(...)QUANT/</font> \n",
        "\n",
        "- <font color=\"darkred\">/(cat)\\+/</font> matches *cat*, *catcat*, *catcatcatcatcat*, etc. \n",
        "\n",
        "- <font color=\"darkred\">/(cat){2, 5}/</font> matches *catcat*, *catcatcat*, *catcatcatcat*, *catcatcatcatacat*"
      ],
      "metadata": {
        "id": "RBT-gJ8YqqPp"
      }
    },
    {
      "cell_type": "markdown",
      "source": [
        "#### **Other useful metacharacters**\n",
        "\n",
        "\n",
        "---\n",
        "\n",
        "These metacharacters refer to individual characters, rather than sets. \n",
        "\n",
        "- <font color=\"darkred\">/\\b/</font>: word boundary\n",
        "\n",
        "  This is useful when you need to ensure that you match whole words (rather than substrings). It also falls between words and non-word-internal punctuation (period, comma, etc.). Thus, you can use it to make sure that you don't get hits like \"car,\" or \"there!\" when you only want the word itself.\n",
        "  \n",
        "  **Example**  \n",
        "  If you want to match the word *ate* only (and not, say, the sequence *ate* in the word *infl<b>ate</b>*), you can specify <font color=\"darkred\">/\\bate\\b/</font>\n",
        "\n",
        "- <font color=\"darkred\">/\\t/</font>: tab-stop\n",
        "\n",
        "  The tab-stop is useful when you want to add or remove tabs. For example, one common way to organize data into columns is to separate each value by inserting a tab between them. Or you may want to change a tab-separated dataset into a comma-separated dataset by exchanging the tabs for commas.  \n",
        "\n",
        "- <font color=\"darkred\">/\\n/</font>: new line character\n",
        "\n",
        "  Marks the end of a line. Sometimes you need to clean these out of a text during initial processing. Or you may want to change the organization of a text visually by inserting new lines. Finally, you can use them to segment texts at the level of lines, however encoded (e.g., each line might be one sentence, and you want a list of the sentences). \n",
        "\n",
        "- <font color=\"darkred\">/\\r/</font>: carriage return\n",
        "\n",
        "  Similar to new line. Some systems use a combination of new line and carriage return to signify the end of lines (e.g., Windoze). Usually, you are trying to get rid of them, or use them to segment a document. \n",
        "\n",
        "- <font color=\"darkred\">/\\s/</font>: white space\n",
        "\n",
        "- <font color=\"darkred\">/\\S/</font>: non-white space"
      ],
      "metadata": {
        "id": "UnrAUeGyNuS-"
      }
    },
    {
      "cell_type": "markdown",
      "source": [
        "#### **Back to the FSA above**\n",
        "\n",
        "\n",
        "---\n",
        "\n",
        "We now have the tools to **rewrite the FSA above as a regex**.\n",
        "\n",
        "We need \n",
        "- exactly one *a*\n",
        "- followed by one or more *b*\n",
        "- followed by exactly one *c*\n",
        "\n",
        "or...\n",
        "\n",
        "<font color=\"darkred\">/ab+c/</font> "
      ],
      "metadata": {
        "id": "pKRvw06M_Fez"
      }
    },
    {
      "cell_type": "markdown",
      "source": [
        "## Implementing regex in Python\n",
        "\n",
        "To use regex in Python, we need the `re` library. "
      ],
      "metadata": {
        "id": "ZKRvkI1WAOhy"
      }
    },
    {
      "cell_type": "code",
      "execution_count": null,
      "metadata": {
        "id": "lFUeFKe5y2Jl"
      },
      "outputs": [],
      "source": [
        "import re"
      ]
    },
    {
      "cell_type": "markdown",
      "source": [
        "The `re` library comes with a number of **functions that employ regular expressions for string matching**. \n",
        "\n",
        "Some are improved versions of functions we already know. For example, `re.split` functions similarly to `split`, but allows you to state the splitting character as a regex.\n",
        "\n",
        "Regex strings are encoded similar to standard strings, except that the opening quotation mark is preceded by an r. \n",
        "- **standard string**: `\"string\"`\n",
        "- **regex**: `r\"string\"`"
      ],
      "metadata": {
        "id": "wChYjvgbBveJ"
      }
    },
    {
      "cell_type": "code",
      "source": [
        "string = \"string\"\n",
        "print(string)\n",
        "\n",
        "regex = r\"regex\"\n",
        "print(regex)"
      ],
      "metadata": {
        "id": "0c02AkgjDM-Q"
      },
      "execution_count": null,
      "outputs": []
    },
    {
      "cell_type": "markdown",
      "source": [
        "The regex can be elaborated in all the ways described above (without the \"//\"), which can be interpreted appropriately in the functions from `re`."
      ],
      "metadata": {
        "id": "yHkHhUWRDkJ-"
      }
    },
    {
      "cell_type": "markdown",
      "source": [
        "## `re` functions\n",
        "Here are a few useful functions\n",
        "- `re.search()`\n",
        "- `re.match()`\n",
        "- `re.fullmatch()`\n",
        "- `re.findall()`\n",
        "- `re.split()`\n",
        "- `re.sub()`\n",
        "\n",
        "Some of these functions return `match` objects, which need to be \"unpacked.\""
      ],
      "metadata": {
        "id": "TLFvf0gKEcQg"
      }
    },
    {
      "cell_type": "markdown",
      "source": [
        "Before we get into the explanations of these functions, let's grab some data. \n",
        "\n",
        "We read in a an excerpt of Emma as a string and explore its contents."
      ],
      "metadata": {
        "id": "TrKlt85pKh0_"
      }
    },
    {
      "cell_type": "code",
      "source": [
        "# This bit is specfic to loading data into google colab. It is also specific to my set-up. Adjust accordingly for the location of this file in your own system.\n",
        "\n",
        "from google.colab import drive\n",
        "\n",
        "drive.mount('/content/drive')\n",
        "path = '/content/drive/My Drive/austen-emma-excerpt.txt'"
      ],
      "metadata": {
        "id": "YDsN0PSiDRsB"
      },
      "execution_count": null,
      "outputs": []
    },
    {
      "cell_type": "code",
      "source": [
        "with open(path, \"r\") as f:\n",
        "  text = f.read()\n",
        "  f.close()"
      ],
      "metadata": {
        "id": "YAWNL_cRLE9C"
      },
      "execution_count": null,
      "outputs": []
    },
    {
      "cell_type": "code",
      "source": [
        "# Make sure we got what we wanted\n",
        "print(type(text))"
      ],
      "metadata": {
        "id": "QDx2wUaOMBE6"
      },
      "execution_count": null,
      "outputs": []
    },
    {
      "cell_type": "code",
      "source": [
        "# Have a peek\n",
        "print(text[:20])"
      ],
      "metadata": {
        "id": "e3F3n8U4MYBF"
      },
      "execution_count": null,
      "outputs": []
    },
    {
      "cell_type": "code",
      "source": [
        "print(text[-20:])"
      ],
      "metadata": {
        "id": "M5u5aey9Mc1k"
      },
      "execution_count": null,
      "outputs": []
    },
    {
      "cell_type": "code",
      "source": [
        "# Explore types of characters (we will have to think about these when we write regex)\n",
        "character_set = set(list(text))\n",
        "print(character_set)"
      ],
      "metadata": {
        "id": "-Dn8i8HVMtr8"
      },
      "execution_count": null,
      "outputs": []
    },
    {
      "cell_type": "code",
      "source": [
        "#...with normalization\n",
        "norm_character_set = set(list(text.lower()))\n",
        "print(norm_character_set)"
      ],
      "metadata": {
        "id": "5KaixB2TM8iF"
      },
      "execution_count": null,
      "outputs": []
    },
    {
      "cell_type": "markdown",
      "source": [
        "#### `re.search`\n",
        "\n",
        "This function takes two arguments: \n",
        "- *pattern* -- the regex\n",
        "- *string* -- the string to be searched\n",
        "\n",
        "It looks for the **first matching substring** in *string* according to the regex *pattern*.  \n",
        "\n",
        "If there is a match, it returns a `match` object. Use `.group(0)` to obtain that match. \n",
        "\n",
        "If there is no match, it returns `None`. \n",
        "\n",
        "Finally, you can use the `match` object returned by `re.search` as a Boolean (True/False) in conditions. If the substring is matched, the `match` object is treated as `True`; it is `False` otherwise. \n"
      ],
      "metadata": {
        "id": "2Gzw6qSeGomM"
      }
    },
    {
      "cell_type": "markdown",
      "source": [
        "Let's start by looking for the word \"man\"."
      ],
      "metadata": {
        "id": "8YDCI7SrNcZ3"
      }
    },
    {
      "cell_type": "code",
      "source": [
        "regex = r\"\\bthe\\b\" # using word boundaries to make sure we ONLY get \"man\" \n",
        "\n",
        "result = re.search(regex, text)\n",
        "\n",
        "print(result) # tells us that it is a match object, and also the indices at which it was found (the \"span\" bit -- t = 163, h = 164, e = 165)\n",
        "\n",
        "print(result.group(0)) # access the information stored in the match object, i.e., return the matching substring"
      ],
      "metadata": {
        "id": "R_Amsog3Tll9"
      },
      "execution_count": null,
      "outputs": []
    },
    {
      "cell_type": "markdown",
      "source": [
        "Note that there is only one match. That is because all `re.search` cares about is **the first match**.\n",
        "\n",
        "Now we use the result of `re.search` as a condition in an `if` statement."
      ],
      "metadata": {
        "id": "MA2qboXIUmpm"
      }
    },
    {
      "cell_type": "code",
      "source": [
        "test = \"I am a text.\"\n",
        "\n",
        "# A substring that IS in there\n",
        "if re.search(\"text\", test):\n",
        "  print(\"It's in there!\")\n",
        "else:\n",
        "  print(\"Nope!\")\n",
        "\n",
        "# A substring that is not in there\n",
        "if re.search(\"Godzilla\", test):\n",
        "  print(\"It's in there!\")\n",
        "else:\n",
        "  print(\"Nope!\")"
      ],
      "metadata": {
        "id": "mnCPwyZsWF0u"
      },
      "execution_count": null,
      "outputs": []
    },
    {
      "cell_type": "markdown",
      "source": [
        "#### `re.match`\n",
        "\n",
        "This function takes two arguments: \n",
        "- *pattern* -- the regex\n",
        "- *string* -- the string to be searched\n",
        "\n",
        "It looks for a pattern matching the regex **only at the beginning of the string**.  \n",
        "\n",
        "If there is a match, it returns a `match` object. Use `.group(0)` to obtain that match. \n",
        "\n",
        "If there is no match, it returns `None`. \n"
      ],
      "metadata": {
        "id": "nJKCeeVMUv2A"
      }
    },
    {
      "cell_type": "code",
      "source": [
        "regex = r\"\\bthe\\b\" # using word boundaries to make sure we ONLY get \"man\" \n",
        "\n",
        "result = re.match(regex, text)\n",
        "\n",
        "print(result) # no match now (unlike search)\n",
        "\n",
        "regex = text[:10] # the actual first 10 characters\n",
        "\n",
        "result = re.match(regex, text)\n",
        "\n",
        "print(result)\n",
        "\n",
        "print(result.group(0))"
      ],
      "metadata": {
        "id": "UMXU_oQQUcYl"
      },
      "execution_count": null,
      "outputs": []
    },
    {
      "cell_type": "markdown",
      "source": [
        "You can also use the ouput of `re.match` as a condition.\n",
        "\n",
        "Below we recycle the code from above, but replace `.search` with `.match`."
      ],
      "metadata": {
        "id": "Q-fXqho1XUz1"
      }
    },
    {
      "cell_type": "code",
      "source": [
        "test = \"I am a text.\"\n",
        "\n",
        "# A substring that IS in there\n",
        "if re.match(\"I am\", test): # Remember: match only cares about the very beginning of the string\n",
        "  print(\"It's in there!\")\n",
        "else:\n",
        "  print(\"Nope!\")\n",
        "\n",
        "if re.match(\"text\", test): #... so now this doesn't match.\n",
        "  print(\"It's in there!\")\n",
        "else:\n",
        "  print(\"Nope!\")\n",
        "\n",
        "# A substring that is not in there\n",
        "if re.match(\"Godzilla\", test):\n",
        "  print(\"It's in there!\")\n",
        "else:\n",
        "  print(\"Nope!\")"
      ],
      "metadata": {
        "id": "jtWMy2csXaA1"
      },
      "execution_count": null,
      "outputs": []
    },
    {
      "cell_type": "markdown",
      "source": [
        "#### `re.fullmatch`\n",
        "\n",
        "This function takes two arguments: \n",
        "- *pattern* -- the regex\n",
        "- *string* -- the string to be searched\n",
        "\n",
        "It checks whether **the whole string matches the regex**. \n",
        "\n",
        "Otherwise, it is the same as `re.match`"
      ],
      "metadata": {
        "id": "X68Nj5BUYWuN"
      }
    },
    {
      "cell_type": "code",
      "source": [
        "# Looking for a word\n",
        "regex = r\"\\bthe\\b\" # using word boundaries to make sure we ONLY get \"man\" \n",
        "\n",
        "result = re.fullmatch(regex, text)\n",
        "\n",
        "print(result) # no match now (unlike search)\n",
        "\n",
        "# Looking just at the beginning of the string\n",
        "regex = text[:10]\n",
        "\n",
        "result = re.fullmatch(regex, text)\n",
        "\n",
        "print(result) # no match now (unlike match; we didn't match the ENTIRE string)\n",
        "\n",
        "# Now we test the whole string against itself\n",
        "result = re.fullmatch(text, text)\n",
        "\n",
        "print(result.group(0))"
      ],
      "metadata": {
        "id": "TSJDqL37Yx5q"
      },
      "execution_count": null,
      "outputs": []
    },
    {
      "cell_type": "markdown",
      "source": [
        "**Now for some more interesting functions!**"
      ],
      "metadata": {
        "id": "TohiScaxchix"
      }
    },
    {
      "cell_type": "markdown",
      "source": [
        "#### `re.findall`\n",
        "\n",
        "This function takes two arguments: \n",
        "- *pattern* -- the regex\n",
        "- *string* -- the string to be searched\n",
        "\n",
        "It searches (**greedy!**) through the entire string and **returns all matches** to the regex in a list. \n",
        "\n",
        "If there is no match, it returns an empty list. \n",
        "\n",
        "**This is one of the most useful tools for collecting word- or broader-level tokens from a string.** "
      ],
      "metadata": {
        "id": "LmlTz-2jcl8x"
      }
    },
    {
      "cell_type": "code",
      "source": [
        "# Start simple looking for all the's\n",
        "regex = r\"\\bthe\\b\"\n",
        "\n",
        "result = re.findall(regex, text)\n",
        "\n",
        "print(result)\n",
        "\n",
        "# Look for a word that isn't there\n",
        "regex = r\"\\bGodzilla\\b\"\n",
        "\n",
        "result = re.findall(regex, text)\n",
        "\n",
        "print(result)"
      ],
      "metadata": {
        "id": "mtqA10Zzc-qa"
      },
      "execution_count": null,
      "outputs": []
    },
    {
      "cell_type": "markdown",
      "source": [
        "But we can get some more interesting kinds of matches."
      ],
      "metadata": {
        "id": "mu6jk4J4fPIQ"
      }
    },
    {
      "cell_type": "code",
      "source": [
        "# All four-letter words?\n",
        "regex = r\"\\b\\w{4}\\b\"\n",
        "\n",
        "result = re.findall(regex, text)\n",
        "\n",
        "print(set(result))"
      ],
      "metadata": {
        "id": "EJXgHgjpfTLM"
      },
      "execution_count": null,
      "outputs": []
    },
    {
      "cell_type": "code",
      "source": [
        "# All words ending in -ed? (a proxy for past-tense verbs)\n",
        "regex = r\"\\w+ed\\b\"\n",
        "\n",
        "result = re.findall(regex, text)\n",
        "\n",
        "print(set(result))"
      ],
      "metadata": {
        "id": "Hbmr5dtdfvjS"
      },
      "execution_count": null,
      "outputs": []
    },
    {
      "cell_type": "code",
      "source": [
        "# Proper nouns? (capitalized words not at the beginning of sentences)\n",
        "regex = r\" [A-Z]\\w+\\b\" \n",
        "\n",
        "result = re.findall(regex, text)\n",
        "\n",
        "print(set(result))"
      ],
      "metadata": {
        "id": "MKGsZF2vgLw_"
      },
      "execution_count": null,
      "outputs": []
    },
    {
      "cell_type": "markdown",
      "source": [
        "We needed the whitespace at the front to find sentence-medial capitalized words. But it also shows up in our matches -- yuck!\n",
        "\n",
        "We can fix this using parentheses in the regex. `re.findall` will return the same matches, but only the substring from the match that falls within the parentheses. "
      ],
      "metadata": {
        "id": "kp1VDn9yhYVr"
      }
    },
    {
      "cell_type": "code",
      "source": [
        "# Proper nouns without whitespace at front?\n",
        "regex = r\" ([A-Z]\\w+)\\b\" # Note the use of parentheses -- with them, we can use the whitespace TO match, but NOT INCLUDE it in the resulting match.\n",
        "\n",
        "result = re.findall(regex, text)\n",
        "\n",
        "print(set(result))"
      ],
      "metadata": {
        "id": "IXzRJJHShWQJ"
      },
      "execution_count": null,
      "outputs": []
    },
    {
      "cell_type": "markdown",
      "source": [
        "#### `re.split`\n",
        "\n",
        "This function takes two arguments: \n",
        "- *split* -- the regex specifying split character(s)\n",
        "- *string* -- the string to be searched\n",
        "\n",
        "Splits are made at any substring matching the regex. \n",
        "\n",
        "It returns a list of strings, where each element was separated from the others by the split terms. The split term is not included in what is returned. "
      ],
      "metadata": {
        "id": "xYV_TwlbjUiO"
      }
    },
    {
      "cell_type": "code",
      "source": [
        "# Split at whitespace or any punctuation or line endings\n",
        "regex = r\"[ \\{\\}\\(\\)\\[\\]\\,\\.\\!\\?\\n\\;]+\" # I picked this set based on the earlier exploration of the data.\n",
        "\n",
        "result = re.split(regex, text)\n",
        "\n",
        "print(result)"
      ],
      "metadata": {
        "id": "mcX49VI7jkTz"
      },
      "execution_count": null,
      "outputs": []
    },
    {
      "cell_type": "markdown",
      "source": [
        "A simple English **word tokenizer**!\n",
        "\n",
        "What if we want sentences?"
      ],
      "metadata": {
        "id": "-UxPv4qqkhyD"
      }
    },
    {
      "cell_type": "code",
      "source": [
        "# Split at sentence-final punctuation (with trailing space or new line).\n",
        "regex = r\"[\\!\\?\\.][ \\n]+\"\n",
        "\n",
        "result = re.split(regex, text[48:])\n",
        "\n",
        "print(result)"
      ],
      "metadata": {
        "id": "HmgKcyswktLz"
      },
      "execution_count": null,
      "outputs": []
    },
    {
      "cell_type": "markdown",
      "source": [
        "A simple English **sentence tokenizer**!\n",
        "\n",
        "Note that there is still a bunch of rubbish in there, such as sentence-medial new-line characters. \n",
        "\n",
        "We can also use regular expressions to clean up the text."
      ],
      "metadata": {
        "id": "722NjwwBmHBE"
      }
    },
    {
      "cell_type": "markdown",
      "source": [
        "#### `re.sub`\n",
        "\n",
        "This function takes three arguments: \n",
        "- *pattern* -- the regex specifying what you want to BE replaced\n",
        "- *repl* -- the string you want to do the replacing\n",
        "- *string* -- the string to be searched\n",
        "\n",
        "Searches the string from the beginning (**greedy**) and **replaces each match to the regex with the string in *repl***.\n",
        "\n",
        "Returns the whole string with the substitutions in place.\n"
      ],
      "metadata": {
        "id": "i1R506dTmYtE"
      }
    },
    {
      "cell_type": "code",
      "source": [
        "# Replace those pesky new line characters and extra spaces with a single space\n",
        "regex = r\"(\\n+| {2,})\"\n",
        "\n",
        "result = re.sub(regex, \" \", text)\n",
        "\n",
        "print(result)"
      ],
      "metadata": {
        "id": "PnyYiFzFoYo1"
      },
      "execution_count": null,
      "outputs": []
    },
    {
      "cell_type": "code",
      "source": [
        "# Clean out punctuation\n",
        "regex = r\"[\\{\\}\\(\\)\\[\\]\\,\\.\\!\\?\\;]+\"\n",
        "\n",
        "result = re.sub(regex, \"\", text)\n",
        "\n",
        "print(result)"
      ],
      "metadata": {
        "id": "p-oT_xQOpK16"
      },
      "execution_count": null,
      "outputs": []
    },
    {
      "cell_type": "markdown",
      "source": [
        "We can also do other kinds of replacements. Sometimes you want to reduce certain tokens to a class lab.\n",
        "\n",
        "For example, we might not care what pronouns are present; only that there ARE pronouns present.  We could replace all pronouns with \"PRONOUN\""
      ],
      "metadata": {
        "id": "XdKuUkm9qW-f"
      }
    },
    {
      "cell_type": "code",
      "source": [
        "# Replace any pronoun with the label PRONOUN\n",
        "regex = r\"\\b([Hh](is|im|er|ers)|[iI]ts?|[sS]he|[tT]he(ir|y|m)|[whmWHM]e|[oO]ur|[uU]s|I|mine|[Mm]y)\\b\"\n",
        "\n",
        "result = re.sub(regex, \"PRONOUN\", text)\n",
        "\n",
        "print(result)"
      ],
      "metadata": {
        "colab": {
          "base_uri": "https://localhost:8080/"
        },
        "collapsed": true,
        "id": "kmycr5CpnwJI",
        "outputId": "514be2a9-7501-4150-c97b-faa43bd4f14a"
      },
      "execution_count": null,
      "outputs": [
        {
          "output_type": "stream",
          "name": "stdout",
          "text": [
            "Emma by Jane Austen 1816\n",
            "\n",
            "VOLUME PRONOUN\n",
            "\n",
            "CHAPTER PRONOUN\n",
            "\n",
            "\n",
            "Emma Woodhouse, handsome, clever, and rich, with a comfortable home\n",
            "and happy disposition, seemed to unite some of the best blessings\n",
            "of existence; and had lived nearly twenty-one years in the world\n",
            "with very little to distress or vex PRONOUN.\n",
            "\n",
            "PRONOUN was the youngest of the two daughters of a most affectionate,\n",
            "indulgent father; and had, in consequence of PRONOUN sister's marriage,\n",
            "been mistress of PRONOUN house from a very early period.  PRONOUN mother\n",
            "had died too long ago for PRONOUN to have more than an indistinct\n",
            "remembrance of PRONOUN caresses; and PRONOUN place had been supplied\n",
            "by an excellent woman as governess, who had fallen little short\n",
            "of a mother in affection.\n"
          ]
        }
      ]
    },
    {
      "cell_type": "markdown",
      "source": [
        "## Some practice exercises\n",
        "\n",
        "---\n",
        "\n"
      ],
      "metadata": {
        "id": "Nyo3ABdouUOS"
      }
    },
    {
      "cell_type": "markdown",
      "source": [
        "1. Write a regex to match American telephone numbers.   \n",
        "  \n",
        "  Start by making a list of all the different forms a phone number can take:\n",
        "\n",
        "   -  +1 940 555 5483\n",
        "   -  1-940-555-5483\n",
        "   -  (940) 555 5483\n",
        "   - ...\n",
        "  \n",
        "  <font color=\"dodgerblue\">Don't worry about capturing EVERY possible variation. Regex require a tradeoff between **recall** (getting what you want) and **effort** (how long are you willing to keep adding to a -- potentially giant -- regex to get all and only what you want?).</font>  \n",
        "\n",
        "  Once you have it, test it against some different phone number formats to see if it matches what it should."
      ],
      "metadata": {
        "id": "U7fZlUojuXp5"
      }
    },
    {
      "cell_type": "code",
      "source": [
        "# Phone number matcher"
      ],
      "metadata": {
        "id": "F-EIj8mp0h8h"
      },
      "execution_count": null,
      "outputs": []
    },
    {
      "cell_type": "markdown",
      "source": [
        "2. Write a regex to match all names with honorifics (Ms., Dr., Dame, Sir, Esq., M.D.,...).\n",
        "\n",
        "  Remember that they can fall on either side of the name!"
      ],
      "metadata": {
        "id": "msA4619q00JW"
      }
    },
    {
      "cell_type": "code",
      "source": [
        "# Honorable names matcher"
      ],
      "metadata": {
        "id": "j1s4pWG63hn6"
      },
      "execution_count": null,
      "outputs": []
    },
    {
      "cell_type": "markdown",
      "source": [
        "3. Find all instances of -ly adverbs in Emma. Remember to include comparative (-ier) and superlative (-iest) forms. \n",
        "\n",
        "  Be careful with parentheses (should you choose to use them). They will be considered \"capturing\" parentheses and affect your output (only the content within the capturing parentheses will be returned, instead of the entire \"proper\" match). \n",
        "  \n",
        "  If you want to use parentheses just for general regex purposes, use **<font color=\"orange\">non-capturing parentheses</font>** ny adding **<font color=\"orange\">?:</font>** to the right of the opening parenthesis. Like so:\n",
        "\n",
        "  r\"(<font color=\"orange\"><b>?:</b></font>x|y|z)abc\"\n",
        "\n",
        "  Now they will work as expected."
      ],
      "metadata": {
        "id": "T2dCoZ0x3hCY"
      }
    },
    {
      "cell_type": "code",
      "source": [
        "# This bit is specfic to loading data into google colab. It is also specific to my set-up. Adjust accordingly for the location of this file in your own system.\n",
        "path = '/content/drive/My Drive/austen-emma.txt'\n",
        "\n",
        "with open(path, \"r\") as f:\n",
        "  full_text = f.read()\n",
        "  f.close()"
      ],
      "metadata": {
        "id": "l2v68aDX44JV"
      },
      "execution_count": null,
      "outputs": []
    },
    {
      "cell_type": "code",
      "source": [
        "# adverb matcher"
      ],
      "metadata": {
        "id": "DO2vocUh5oVO"
      },
      "execution_count": null,
      "outputs": []
    },
    {
      "cell_type": "markdown",
      "source": [
        "4. How many **unique** (`set`) adverbs end in -ly? -ier? -iest?"
      ],
      "metadata": {
        "id": "do_83ki79jnI"
      }
    },
    {
      "cell_type": "code",
      "source": [
        "# counting adverbs with each ending"
      ],
      "metadata": {
        "id": "Dsdd5jgd-AP2"
      },
      "execution_count": null,
      "outputs": []
    },
    {
      "cell_type": "markdown",
      "source": [
        "5. Extract potential verbs ending in -ing and -ed endings.\n",
        "\n",
        "  Then, stem the list of verbs so that they no longer carry the ending -ing/-ed.\n",
        "  \n",
        "  *Stemming is the process of removing strings known to reflect inflectional morphology from the ends of words to arrive at an approximation of the word's root form.*\n"
      ],
      "metadata": {
        "id": "cER9cCiX9_Kd"
      }
    },
    {
      "cell_type": "code",
      "source": [
        "# finding -ing and -ed verbs"
      ],
      "metadata": {
        "id": "Pw8sxDzH_QKR"
      },
      "execution_count": null,
      "outputs": []
    },
    {
      "cell_type": "markdown",
      "source": [
        "Examine the results. Does it do a good job? Where does it do well? Where does it suffer?"
      ],
      "metadata": {
        "id": "E0de3XwF_QY7"
      }
    },
    {
      "cell_type": "code",
      "source": [
        "# examine results"
      ],
      "metadata": {
        "id": "RjqCyLn7_p8L"
      },
      "execution_count": null,
      "outputs": []
    },
    {
      "cell_type": "markdown",
      "source": [
        "(Summary of performance)"
      ],
      "metadata": {
        "id": "q1sKqTDb_qdf"
      }
    }
  ]
}