{
  "nbformat": 4,
  "nbformat_minor": 0,
  "metadata": {
    "colab": {
      "provenance": []
    },
    "kernelspec": {
      "name": "python3",
      "display_name": "Python 3"
    },
    "language_info": {
      "name": "python"
    }
  },
  "cells": [
    {
      "cell_type": "markdown",
      "source": [
        "# Loading and saving data in Google colab\n",
        "This file gives some tips about how to interact with your Google drive directly (with code).\n",
        "\n",
        "You can also use the \"Mount drive\" feature on the left-hand side of your screen."
      ],
      "metadata": {
        "id": "UecfLLy4K6i_"
      }
    },
    {
      "cell_type": "code",
      "execution_count": null,
      "metadata": {
        "id": "C0gIigTvIlfY"
      },
      "outputs": [],
      "source": [
        "from google.colab import drive"
      ]
    },
    {
      "cell_type": "code",
      "source": [
        "# Mount your Google drive\n",
        "drive.mount('/content/drive')\n",
        "path = '/content/drive/My Drive/austen-emma-excerpt.txt'"
      ],
      "metadata": {
        "id": "mVK8ZSVeIm1D",
        "colab": {
          "base_uri": "https://localhost:8080/"
        },
        "outputId": "a5065d60-f421-45fc-e1e1-0b8b49102f24"
      },
      "execution_count": null,
      "outputs": [
        {
          "output_type": "stream",
          "name": "stdout",
          "text": [
            "Mounted at /content/drive\n"
          ]
        }
      ]
    },
    {
      "cell_type": "code",
      "source": [
        "with open(path, \"r\") as f:\n",
        "  text = f.read()\n",
        "  f.close()"
      ],
      "metadata": {
        "id": "WpiTn-P0VTdD"
      },
      "execution_count": null,
      "outputs": []
    },
    {
      "cell_type": "code",
      "source": [
        "text"
      ],
      "metadata": {
        "id": "eA40phzpV8Xp",
        "colab": {
          "base_uri": "https://localhost:8080/",
          "height": 87
        },
        "outputId": "137542f3-4243-49df-e0e0-606376f68ab4"
      },
      "execution_count": null,
      "outputs": [
        {
          "output_type": "execute_result",
          "data": {
            "text/plain": [
              "\"Emma by Jane Austen 1816\\n\\nVOLUME I\\n\\nCHAPTER I\\n\\n\\nEmma Woodhouse, handsome, clever, and rich, with a comfortable home\\nand happy disposition, seemed to unite some of the best blessings\\nof existence; and had lived nearly twenty-one years in the world\\nwith very little to distress or vex her.\\n\\nShe was the youngest of the two daughters of a most affectionate,\\nindulgent father; and had, in consequence of her sister's marriage,\\nbeen mistress of his house from a very early period.  Her mother\\nhad died too long ago for her to have more than an indistinct\\nremembrance of her caresses; and her place had been supplied\\nby an excellent woman as governess, who had fallen little short\\nof a mother in affection.\""
            ],
            "application/vnd.google.colaboratory.intrinsic+json": {
              "type": "string"
            }
          },
          "metadata": {},
          "execution_count": 5
        }
      ]
    },
    {
      "cell_type": "code",
      "source": [
        "with open(path, \"w\") as f:\n",
        "  text = f.write(text)\n",
        "  f.close()"
      ],
      "metadata": {
        "id": "XSUryBHVoCkB"
      },
      "execution_count": null,
      "outputs": []
    },
    {
      "cell_type": "code",
      "source": [
        "with open(path, \"r\") as f:\n",
        "  text = f.read()\n",
        "  f.close()"
      ],
      "metadata": {
        "id": "eiRulQcGyVYu"
      },
      "execution_count": null,
      "outputs": []
    },
    {
      "cell_type": "code",
      "source": [
        "print(text)"
      ],
      "metadata": {
        "colab": {
          "base_uri": "https://localhost:8080/"
        },
        "id": "YGj9iEdqybVU",
        "outputId": "0f180b68-9789-4705-eaa2-d565cd3e5342"
      },
      "execution_count": null,
      "outputs": [
        {
          "output_type": "stream",
          "name": "stdout",
          "text": [
            "Emma by Jane Austen 1816\n",
            "\n",
            "VOLUME I\n",
            "\n",
            "CHAPTER I\n",
            "\n",
            "\n",
            "Emma Woodhouse, handsome, clever, and rich, with a comfortable home\n",
            "and happy disposition, seemed to unite some of the best blessings\n",
            "of existence; and had lived nearly twenty-one years in the world\n",
            "with very little to distress or vex her.\n",
            "\n",
            "She was the youngest of the two daughters of a most affectionate,\n",
            "indulgent father; and had, in consequence of her sister's marriage,\n",
            "been mistress of his house from a very early period.  Her mother\n",
            "had died too long ago for her to have more than an indistinct\n",
            "remembrance of her caresses; and her place had been supplied\n",
            "by an excellent woman as governess, who had fallen little short\n",
            "of a mother in affection.\n"
          ]
        }
      ]
    },
    {
      "cell_type": "markdown",
      "source": [
        "With `listdir`"
      ],
      "metadata": {
        "id": "wJTxtokEWIow"
      }
    },
    {
      "cell_type": "code",
      "source": [
        "from os import listdir #multiple files can be opened with a list directory as showb below\n",
        "\n",
        "path_dir = '/content/drive/My Drive/arabian_nights/'\n",
        "\n",
        "files = listdir(path_dir)\n",
        "\n",
        "print(files)"
      ],
      "metadata": {
        "colab": {
          "base_uri": "https://localhost:8080/"
        },
        "id": "sWP8TcTVWKng",
        "outputId": "6a6a7d17-7143-47d6-93a3-743a312868b9"
      },
      "execution_count": null,
      "outputs": [
        {
          "output_type": "stream",
          "name": "stdout",
          "text": [
            "['882.txt', '128.txt', '896.txt', '316.txt', '464.txt', '470.txt', '302.txt', '261.txt', '513.txt', '275.txt', '288.txt', '511.txt', '539.txt', '908.txt', '277.txt', '505.txt', '263.txt', '920.txt', '934.txt', '909.txt', '706.txt', '262.txt', '921.txt', '935.txt', '276.txt', '538.txt', '504.txt', '510.txt', '707.txt', '840.txt', '854.txt', '28.txt', '14.txt', '698.txt', '868.txt', '713.txt', '673.txt', '115.txt', '114.txt', '869.txt', '666.txt', '29.txt', '699.txt', '15.txt', '841.txt', '855.txt', '471.txt', '897.txt', '317.txt', '101.txt', '883.txt', '465.txt', '667.txt', '129.txt', '303.txt', '459.txt', '458.txt', '672.txt', '100.txt', '289.txt', '712.txt', '843.txt', '17.txt', '857.txt', '664.txt', '658.txt', '880.txt', '102.txt', '116.txt', '670.txt', '489.txt', '847.txt', '890.txt', '648.txt', '853.txt', '13.txt', '884.txt', '700.txt', '112.txt', '674.txt', '106.txt', '660.txt', '248.txt', '923.txt', '937.txt', '704.txt', '710.txt', '260.txt', '274.txt', '512.txt', '506.txt', '714.txt', '502.txt', '933.txt', '264.txt', '516.txt', '927.txt', '270.txt', '728.txt', '258.txt', '16.txt', '842.txt', '922.txt', '249.txt', '936.txt', '507.txt', '711.txt', '705.txt', '739.txt', '738.txt', '117.txt', '671.txt', '665.txt', '881.txt', '103.txt', '659.txt', '894.txt', '499.txt', '467.txt', '498.txt', '895.txt', '315.txt', '466.txt', '472.txt', '314.txt', '328.txt', '329.txt', '473.txt', '300.txt', '301.txt', '856.txt', '461.txt', '313.txt', '475.txt', '104.txt', '448.txt', '474.txt', '312.txt', '110.txt', '676.txt', '460.txt', '662.txt', '306.txt', '463.txt', '304.txt', '311.txt', '476.txt', '477.txt', '305.txt', '338.txt', '462.txt', '310.txt', '307.txt', '139.txt', '850.txt', '703.txt', '10.txt', '688.txt', '717.txt', '273.txt', '267.txt', '501.txt', '515.txt', '930.txt', '259.txt', '298.txt', '449.txt', '111.txt', '105.txt', '887.txt', '677.txt', '663.txt', '893.txt', '878.txt', '38.txt', '844.txt', '885.txt', '852.txt', '891.txt', '113.txt', '107.txt', '661.txt', '649.txt', '488.txt', '675.txt', '265.txt', '926.txt', '729.txt', '271.txt', '932.txt', '503.txt', '918.txt', '924.txt', '529.txt', '517.txt', '715.txt', '846.txt', '701.txt', '12.txt', '339.txt', '76.txt', '836.txt', '981.txt', '611.txt', '822.txt', '956.txt', '942.txt', '229.txt', '573.txt', '567.txt', '215.txt', '201.txt', '406.txt', '177.txt', '348.txt', '413.txt', '361.txt', '639.txt', '605.txt', '407.txt', '163.txt', '375.txt', '349.txt', '995.txt', '62.txt', '188.txt', '89.txt', '765.txt', '771.txt', '759.txt', '598.txt', '689.txt', '716.txt', '11.txt', '931.txt', '266.txt', '514.txt', '500.txt', '919.txt', '528.txt', '925.txt', '299.txt', '272.txt', '702.txt', '851.txt', '845.txt', '39.txt', '879.txt', '886.txt', '892.txt', '138.txt', '75.txt', '49.txt', '821.txt', '61.txt', '809.txt', '74.txt', '835.txt', '174.txt', '160.txt', '606.txt', '149.txt', '388.txt', '834.txt', '161.txt', '613.txt', '175.txt', '405.txt', '363.txt', '607.txt', '377.txt', '411.txt', '438.txt', '362.txt', '389.txt', '404.txt', '148.txt', '376.txt', '410.txt', '439.txt', '612.txt', '604.txt', '360.txt', '638.txt', '176.txt', '374.txt', '162.txt', '412.txt', '610.txt', '88.txt', '982.txt', '766.txt', '758.txt', '77.txt', '980.txt', '189.txt', '994.txt', '837.txt', '63.txt', '799.txt', '202.txt', '969.txt', '955.txt', '558.txt', '941.txt', '772.txt', '996.txt', '564.txt', '570.txt', '216.txt', '957.txt', '599.txt', '943.txt', '200.txt', '566.txt', '572.txt', '214.txt', '228.txt', '764.txt', '770.txt', '823.txt', '993.txt', '616.txt', '603.txt', '767.txt', '400.txt', '773.txt', '70.txt', '997.txt', '763.txt', '213.txt', '819.txt', '561.txt', '940.txt', '399.txt', '207.txt', '818.txt', '950.txt', '429.txt', '824.txt', '602.txt', '60.txt', '158.txt', '617.txt', '565.txt', '978.txt', '170.txt', '549.txt', '159.txt', '367.txt', '373.txt', '414.txt', '171.txt', '401.txt', '777.txt', '798.txt', '808.txt', '203.txt', '165.txt', '830.txt', '428.txt', '58.txt', '366.txt', '944.txt', '64.txt', '788.txt', '164.txt', '559.txt', '372.txt', '968.txt', '575.txt', '571.txt', '820.txt', '987.txt', '48.txt', '415.txt', '983.txt', '217.txt', '398.txt', '954.txt', '992.txt', '979.txt', '986.txt', '831.txt', '776.txt', '825.txt', '65.txt', '762.txt', '71.txt', '59.txt', '985.txt', '749.txt', '952.txt', '172.txt', '614.txt', '628.txt', '67.txt', '833.txt', '73.txt', '9.txt', '199.txt', '827.txt', '991.txt', '832.txt', '66.txt', '198.txt', '72.txt', '775.txt', '761.txt', '826.txt', '629.txt', '8.txt', '748.txt', '984.txt', '576.txt', '953.txt', '204.txt', '947.txt', '210.txt', '615.txt', '173.txt', '601.txt', '359.txt', '99.txt', '167.txt', '371.txt', '417.txt', '365.txt', '402.txt', '403.txt', '364.txt', '416.txt', '166.txt', '358.txt', '98.txt', '370.txt', '600.txt', '212.txt', '574.txt', '560.txt', '206.txt', '951.txt', '789.txt', '760.txt', '990.txt', '774.txt', '548.txt', '238.txt', '589.txt', '562.txt', '945.txt', '786.txt', '631.txt', '143.txt', '625.txt', '95.txt', '180.txt', '792.txt', '976.txt', '751.txt', '962.txt', '194.txt', '745.txt', '989.txt', '779.txt', '4.txt', '432.txt', '618.txt', '383.txt', '354.txt', '157.txt', '56.txt', '802.txt', '816.txt', '42.txt', '81.txt', '619.txt', '80.txt', '624.txt', '156.txt', '94.txt', '142.txt', '977.txt', '793.txt', '208.txt', '963.txt', '787.txt', '546.txt', '552.txt', '234.txt', '5.txt', '778.txt', '817.txt', '57.txt', '988.txt', '181.txt', '195.txt', '355.txt', '433.txt', '369.txt', '340.txt', '341.txt', '427.txt', '382.txt', '368.txt', '426.txt', '43.txt', '803.txt', '630.txt', '585.txt', '588.txt', '946.txt', '577.txt', '563.txt', '211.txt', '205.txt', '239.txt', '750.txt', '744.txt', '220.txt', '591.txt', '815.txt', '829.txt', '41.txt', '801.txt', '197.txt', '69.txt', '626.txt', '140.txt', '7.txt', '800.txt', '747.txt', '182.txt', '828.txt', '40.txt', '68.txt', '196.txt', '632.txt', '82.txt', '168.txt', '154.txt', '381.txt', '96.txt', '342.txt', '424.txt', '395.txt', '221.txt', '209.txt', '584.txt', '547.txt', '235.txt', '590.txt', '553.txt', '356.txt', '430.txt', '419.txt', '431.txt', '418.txt', '357.txt', '425.txt', '343.txt', '790.txt', '784.txt', '545.txt', '948.txt', '551.txt', '223.txt', '579.txt', '141.txt', '627.txt', '380.txt', '394.txt', '97.txt', '169.txt', '155.txt', '83.txt', '633.txt', '6.txt', '54.txt', '960.txt', '974.txt', '814.txt', '237.txt', '753.txt', '586.txt', '592.txt', '145.txt', '384.txt', '421.txt', '637.txt', '409.txt', '151.txt', '347.txt', '390.txt', '623.txt', '805.txt', '959.txt', '781.txt', '756.txt', '742.txt', '45.txt', '795.txt', '435.txt', '86.txt', '839.txt', '79.txt', '187.txt', '178.txt', '193.txt', '385.txt', '346.txt', '353.txt', '150.txt', '352.txt', '408.txt', '420.txt', '391.txt', '434.txt', '622.txt', '144.txt', '92.txt', '636.txt', '232.txt', '597.txt', '583.txt', '593.txt', '554.txt', '568.txt', '3.txt', '226.txt', '971.txt', '540.txt', '51.txt', '811.txt', '965.txt', '544.txt', '949.txt', '578.txt', '791.txt', '785.txt', '975.txt', '587.txt', '550.txt', '236.txt', '222.txt', '752.txt', '55.txt', '746.txt', '183.txt', '961.txt', '422.txt', '378.txt', '350.txt', '344.txt', '393.txt', '387.txt', '423.txt', '620.txt', '436.txt', '966.txt', '231.txt', '796.txt', '782.txt', '769.txt', '972.txt', '557.txt', '741.txt', '345.txt', '351.txt', '379.txt', '147.txt', '635.txt', '621.txt', '437.txt', '386.txt', '153.txt', '392.txt', '580.txt', '596.txt', '594.txt', '555.txt', '233.txt', '569.txt', '582.txt', '85.txt', '964.txt', '227.txt', '743.txt', '780.txt', '757.txt', '958.txt', '999.txt', '190.txt', '46.txt', '184.txt', '52.txt', '91.txt', '755.txt', '812.txt', '806.txt', '609.txt', '225.txt', '219.txt', '1000.txt', '2.txt', '50.txt', '87.txt', '186.txt', '810.txt', '78.txt', '192.txt', '838.txt', '179.txt', '543.txt', '794.txt', '44.txt', '970.txt', '541.txt', '804.txt', '93.txt', '479.txt', '478.txt', '445.txt', '451.txt', '486.txt', '121.txt', '109.txt', '492.txt', '323.txt', '337.txt', '84.txt', '185.txt', '47.txt', '191.txt', '807.txt', '634.txt', '90.txt', '608.txt', '647.txt', '595.txt', '224.txt', '218.txt', '556.txt', '230.txt', '542.txt', '1001.txt', '754.txt', '740.txt', '53.txt', '768.txt', '797.txt', '998.txt', '783.txt', '813.txt', '20.txt', '848.txt', '684.txt', '135.txt', '690.txt', '860.txt', '34.txt', '653.txt', '874.txt', '733.txt', '914.txt', '531.txt', '727.txt', '525.txt', '519.txt', '900.txt', '928.txt', '257.txt', '243.txt', '581.txt', '280.txt', '294.txt', '967.txt', '973.txt', '1.txt', '152.txt', '146.txt', '730.txt', '917.txt', '254.txt', '532.txt', '297.txt', '283.txt', '526.txt', '268.txt', '240.txt', '530.txt', '901.txt', '256.txt', '915.txt', '929.txt', '518.txt', '493.txt', '108.txt', '646.txt', '322.txt', '336.txt', '450.txt', '444.txt', '487.txt', '875.txt', '21.txt', '861.txt', '652.txt', '242.txt', '295.txt', '524.txt', '903.txt', '281.txt', '732.txt', '691.txt', '849.txt', '685.txt', '35.txt', '726.txt', '134.txt', '120.txt', '686.txt', '692.txt', '123.txt', '22.txt', '137.txt', '36.txt', '889.txt', '862.txt', '876.txt', '645.txt', '651.txt', '490.txt', '321.txt', '679.txt', '484.txt', '447.txt', '453.txt', '335.txt', '309.txt', '308.txt', '452.txt', '888.txt', '491.txt', '678.txt', '334.txt', '136.txt', '650.txt', '446.txt', '320.txt', '485.txt', '644.txt', '877.txt', '37.txt', '863.txt', '122.txt', '23.txt', '693.txt', '724.txt', '718.txt', '687.txt', '495.txt', '318.txt', '324.txt', '442.txt', '457.txt', '443.txt', '330.txt', '456.txt', '331.txt', '866.txt', '735.txt', '721.txt', '26.txt', '906.txt', '709.txt', '325.txt', '537.txt', '286.txt', '282.txt', '251.txt', '523.txt', '279.txt', '296.txt', '292.txt', '899.txt', '655.txt', '494.txt', '133.txt', '127.txt', '669.txt', '319.txt', '641.txt', '480.txt', '682.txt', '872.txt', '32.txt', '696.txt', '912.txt', '245.txt', '269.txt', '916.txt', '731.txt', '902.txt', '719.txt', '725.txt', '533.txt', '527.txt', '241.txt', '255.txt', '898.txt', '668.txt', '640.txt', '126.txt', '132.txt', '654.txt', '708.txt', '522.txt', '907.txt', '913.txt', '734.txt', '244.txt', '33.txt', '720.txt', '27.txt', '867.txt', '873.txt', '683.txt', '697.txt', '481.txt', '250.txt', '293.txt', '278.txt', '291.txt', '246.txt', '285.txt', '287.txt', '520.txt', '508.txt', '536.txt', '244 (1).txt', '455.txt', '18.txt', '482.txt', '657.txt', '119.txt', '496.txt', '125.txt', '131.txt', '643.txt', '858.txt', '469.txt', '333.txt', '497.txt', '736.txt', '905.txt', '722.txt', '911.txt', '252.txt', '939.txt', '327.txt', '441.txt', '440.txt', '326.txt', '468.txt', '454.txt', '332.txt', '483.txt', '250 (1).txt', '291 (1).txt', '287 (1).txt', '536 (1).txt', '246 (1).txt', '508 (1).txt', '293 (1).txt', '278 (1).txt', '656.txt', '130.txt', '25.txt', '31.txt', '871.txt', '534.txt', '642.txt', '124.txt', '118.txt', '859.txt', '695.txt', '19.txt', '681.txt', '865.txt', '867 (1).txt', '907 (1).txt', '734 (1).txt', '27 (1).txt', '720 (1).txt', '522 (1).txt', '913 (1).txt', '708 (1).txt', '520 (1).txt', '285 (1).txt', '33 (1).txt', '904.txt', '290.txt', '535.txt', '253.txt', '521.txt', '509.txt', '247.txt', '870.txt', '30.txt', '24.txt', '864.txt', '694.txt', '680.txt', '284.txt', '723.txt', '938.txt', '737.txt', '910.txt']\n"
          ]
        }
      ]
    }
  ]
}