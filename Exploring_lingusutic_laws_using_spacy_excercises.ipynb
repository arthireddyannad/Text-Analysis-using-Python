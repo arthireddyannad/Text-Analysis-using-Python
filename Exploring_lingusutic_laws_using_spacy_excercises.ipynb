{
  "cells": [
    {
      "cell_type": "markdown",
      "metadata": {
        "id": "PDSaGF6ZEXcj"
      },
      "source": [
        "## Exploring linguistic laws using `spacy` across languages\n",
        "In this tutorial, we will apply what you have learned about processing text using `spacy` to see whether we can replicate certain \"linguistic laws\" concerning the statistical properties of language use. \n",
        "\n",
        "**First steps**  \n",
        "1. Import necessary libraries"
      ]
    },
    {
      "cell_type": "code",
      "execution_count": null,
      "metadata": {
        "id": "HEa5ovyqLdTS"
      },
      "outputs": [],
      "source": [
        "import spacy #full natural language processing nlp python  text(string)-->toeknization_-> lemmatization recognizes the connection between two tokens eg. cat and cats lemmatized as cat-->sematize-represent some meaning and then syntactic parsing to \n",
        "import pandas as pd\n",
        "from numpy import log\n"
      ]
    },
    {
      "cell_type": "markdown",
      "metadata": {
        "id": "YE71JrG5LiPW"
      },
      "source": [
        "2. Download the necessary language models using `spacy.download`\n",
        "\n",
        "\n",
        "| Model           | Description |\n",
        "|-----------------|-------------|\n",
        "|`en_core_web_sm` | English models based on web text |\n",
        "|`es_core_news_sm`| Spanish models based on news articles |\n",
        "|`ja_core_news_sm`| Japanese models based on news articles |\n",
        "\n",
        "To download the language models in Google Colab, we use shell/terminal-style commands. \n",
        "\n",
        "```\n",
        "!python3 -m spacy download <your desired model>\n",
        "```\n",
        "- Note that the line is prefixed with `!`. \n",
        "- `python3` invokes python. \n",
        "- `-m` indicates that a module will be loaded, where that module appears as the next string (in this case `spacy`). \n",
        "- `download` is a function called from `spacy`. \n",
        "- The following string (e.g., `en_core_web_sm`) is an argument indicating which model should be downloaded\n",
        "- `--quiet` supresses unnecessary download information (logs that track the status of each element being downloaded)  "
      ]
    },
    {
      "cell_type": "code",
      "execution_count": null,
      "metadata": {
        "colab": {
          "base_uri": "https://localhost:8080/"
        },
        "id": "RXO-3wSC8l-C",
        "outputId": "227c8f66-3cfd-402f-8c22-fb47c31fed47"
      },
      "outputs": [
        {
          "output_type": "stream",
          "name": "stdout",
          "text": [
            "2022-12-02 20:59:21.868192: E tensorflow/stream_executor/cuda/cuda_driver.cc:271] failed call to cuInit: CUDA_ERROR_NO_DEVICE: no CUDA-capable device is detected\n",
            "\u001b[K     |████████████████████████████████| 42.8 MB 1.4 MB/s \n",
            "\u001b[?25h\u001b[38;5;2m✔ Download and installation successful\u001b[0m\n",
            "You can now load the package via spacy.load('en_core_web_md')\n",
            "2022-12-02 20:59:36.951434: E tensorflow/stream_executor/cuda/cuda_driver.cc:271] failed call to cuInit: CUDA_ERROR_NO_DEVICE: no CUDA-capable device is detected\n",
            "\u001b[K     |████████████████████████████████| 12.9 MB 1.8 MB/s \n",
            "\u001b[?25h\u001b[38;5;2m✔ Download and installation successful\u001b[0m\n",
            "You can now load the package via spacy.load('es_core_news_sm')\n",
            "2022-12-02 20:59:48.107983: E tensorflow/stream_executor/cuda/cuda_driver.cc:271] failed call to cuInit: CUDA_ERROR_NO_DEVICE: no CUDA-capable device is detected\n",
            "\u001b[K     |████████████████████████████████| 12.0 MB 5.3 MB/s \n",
            "\u001b[?25h\u001b[38;5;2m✔ Download and installation successful\u001b[0m\n",
            "You can now load the package via spacy.load('ja_core_news_sm')\n"
          ]
        }
      ],
      "source": [
        "# Download libraries\n",
        "## English\n",
        "!python3 -m spacy download en_core_web_md --quiet  #english one comes from web  #changed sm to md since sm has no vectors\n",
        "\n",
        "## Spanish \n",
        "!python3 -m spacy download es_core_news_sm --quiet #rest comes from news papers\n",
        "\n",
        "## Japanese \n",
        "!python3 -m spacy download ja_core_news_sm --quiet\n"
      ]
    },
    {
      "cell_type": "markdown",
      "metadata": {
        "id": "Fqk1SeqhKRrN"
      },
      "source": [
        "Once we download the models, we also need to load them. We load the models using `.load(<model>)`, as in\n",
        "\n",
        "```nlp_en = spacy.load(\"en_core_web_sm\")```\n",
        "\n",
        "We do this for each language. "
      ]
    },
    {
      "cell_type": "code",
      "execution_count": null,
      "metadata": {
        "id": "q82s9-jn8soF"
      },
      "outputs": [],
      "source": [
        "# English\n",
        "nlp_en = spacy.load(\"en_core_web_sm\")  #nlp_en -->nlp english  spacy.load to load the model and include string inside the spacy model\n",
        "\n",
        "# Spanish\n",
        "nlp_sp = spacy.load(\"es_core_news_sm\")\n",
        "\n",
        "# Japanese\n",
        "nlp_jp = spacy.load(\"ja_core_news_sm\")\n"
      ]
    },
    {
      "cell_type": "markdown",
      "metadata": {
        "id": "4tn2CcTMeEET"
      },
      "source": [
        "Now we define some sample sentences in each language..."
      ]
    },
    {
      "cell_type": "code",
      "execution_count": null,
      "metadata": {
        "id": "X83UJScRMoeM"
      },
      "outputs": [],
      "source": [
        "# Some sample sentences\n",
        "english_sent = \"The cat is on the mat.\"\n",
        "spanish_sent = \"El gato está en la alfombra.\"\n",
        "japanese_sent = \"猫はマットの上にいます。\" # neko wa matto no ue ni imasu. "
      ]
    },
    {
      "cell_type": "markdown",
      "metadata": {
        "id": "sthP_L8SeMnB"
      },
      "source": [
        "... and process each sentence with the appropriate model."
      ]
    },
    {
      "cell_type": "code",
      "execution_count": null,
      "metadata": {
        "id": "xdOpceCJPTdY"
      },
      "outputs": [],
      "source": [
        "# Process the sentences\n",
        "en_proc = nlp_en(english_sent)\n",
        "sp_proc = nlp_sp(spanish_sent)\n",
        "ja_proc = nlp_jp(japanese_sent)"
      ]
    },
    {
      "cell_type": "markdown",
      "metadata": {
        "id": "RqCePgPHeZI5"
      },
      "source": [
        "The text is now processed, so we can access each level of annotation offered by the language model."
      ]
    },
    {
      "cell_type": "code",
      "execution_count": null,
      "metadata": {
        "colab": {
          "base_uri": "https://localhost:8080/"
        },
        "id": "e9iOBZAfMvbt",
        "outputId": "2754f666-cbb0-44c7-9443-a85c54a602b9"
      },
      "outputs": [
        {
          "output_type": "stream",
          "name": "stdout",
          "text": [
            "English The the DET cat det\n",
            "English cat cat NOUN is nsubj\n",
            "English is be AUX is ROOT\n",
            "English on on ADP is prep\n",
            "English the the DET mat det\n",
            "English mat mat NOUN on pobj\n",
            "English . . PUNCT is punct\n",
            "--------------------\n",
            "Spanish El el DET gato det\n",
            "Spanish gato gato NOUN está nsubj\n",
            "Spanish está estar VERB alfombra cop\n",
            "Spanish en en ADP alfombra case\n",
            "Spanish la el DET alfombra det\n",
            "Spanish alfombra alfombra NOUN alfombra ROOT\n",
            "Spanish . . PUNCT alfombra punct\n",
            "--------------------\n",
            "Japanese 猫 猫 NOUN い nsubj\n",
            "Japanese は は ADP 猫 case\n",
            "Japanese マット マット NOUN 上 nmod\n",
            "Japanese の の ADP マット case\n",
            "Japanese 上 上 NOUN い obl\n",
            "Japanese に に ADP 上 case\n",
            "Japanese い いる VERB い ROOT\n",
            "Japanese ます ます AUX い aux\n",
            "Japanese 。 。 PUNCT い punct\n"
          ]
        }
      ],
      "source": [
        "for token in en_proc:\n",
        "  print(\"English\", token.orth_, token.lemma_, token.pos_, token.head.orth_,  token.dep_) \n",
        "# a Doc has a sentence level and word level, print the name of the language and then the token can be subject to .orth_(orthography pure token),   \n",
        "#.lemma (provides the lemmatization for the word),no capitalization\n",
        "#.pos (part of speech eg verb etc), \n",
        "#.head(for any given word, the head of word eg cat is the head in \"the cat\"(),\n",
        "#.dep(what wod is the head and how are they related to each other)\n",
        "#.head.orth_(eg \" the cat, it processes \"the\" and gives cat),\n",
        "#,dep (dependency\n",
        "#DET -deteriner fo the relationship\n",
        "#nsubj-->subjectof the noun)\n",
        "#noun of the \n",
        "#verb\n",
        "#punctuation\n",
        "\n",
        "\n",
        "print(\"-\"*20)\n",
        "\n",
        "for token in sp_proc:\n",
        "  print(\"Spanish\", token.orth_, token.lemma_, token.pos_, token.head.orth_, token.dep_)\n",
        "\n",
        "print(\"-\"*20)\n",
        "\n",
        "for token in ja_proc:\n",
        "  print(\"Japanese\", token.orth_, token.lemma_, token.pos_, token.head.orth_, token.dep_)\n"
      ]
    },
    {
      "cell_type": "markdown",
      "metadata": {
        "id": "-ogNG4zhbvHr"
      },
      "source": [
        "We can use `pandas` to create a nice-looking (and easy to export) dataframe. "
      ]
    },
    {
      "cell_type": "code",
      "execution_count": null,
      "metadata": {
        "colab": {
          "base_uri": "https://localhost:8080/",
          "height": 332
        },
        "id": "Pew-uOANZRi7",
        "outputId": "c502ea69-418d-46e5-9aed-4f1016bb4450"
      },
      "outputs": [
        {
          "output_type": "execute_result",
          "data": {
            "text/plain": [
              "   Language Orthography Lemma    PoS Head.Word Head.Dependency\n",
              "0  Japanese           猫     猫   NOUN         い           nsubj\n",
              "1  Japanese           は     は    ADP         猫            case\n",
              "2  Japanese         マット   マット   NOUN         上            nmod\n",
              "3  Japanese           の     の    ADP       マット            case\n",
              "4  Japanese           上     上   NOUN         い             obl\n",
              "5  Japanese           に     に    ADP         上            case\n",
              "6  Japanese           い    いる   VERB         い            ROOT\n",
              "7  Japanese          ます    ます    AUX         い             aux\n",
              "8  Japanese           。     。  PUNCT         い           punct"
            ],
            "text/html": [
              "\n",
              "  <div id=\"df-b690634e-6c0a-4955-9766-6427b765979b\">\n",
              "    <div class=\"colab-df-container\">\n",
              "      <div>\n",
              "<style scoped>\n",
              "    .dataframe tbody tr th:only-of-type {\n",
              "        vertical-align: middle;\n",
              "    }\n",
              "\n",
              "    .dataframe tbody tr th {\n",
              "        vertical-align: top;\n",
              "    }\n",
              "\n",
              "    .dataframe thead th {\n",
              "        text-align: right;\n",
              "    }\n",
              "</style>\n",
              "<table border=\"1\" class=\"dataframe\">\n",
              "  <thead>\n",
              "    <tr style=\"text-align: right;\">\n",
              "      <th></th>\n",
              "      <th>Language</th>\n",
              "      <th>Orthography</th>\n",
              "      <th>Lemma</th>\n",
              "      <th>PoS</th>\n",
              "      <th>Head.Word</th>\n",
              "      <th>Head.Dependency</th>\n",
              "    </tr>\n",
              "  </thead>\n",
              "  <tbody>\n",
              "    <tr>\n",
              "      <th>0</th>\n",
              "      <td>Japanese</td>\n",
              "      <td>猫</td>\n",
              "      <td>猫</td>\n",
              "      <td>NOUN</td>\n",
              "      <td>い</td>\n",
              "      <td>nsubj</td>\n",
              "    </tr>\n",
              "    <tr>\n",
              "      <th>1</th>\n",
              "      <td>Japanese</td>\n",
              "      <td>は</td>\n",
              "      <td>は</td>\n",
              "      <td>ADP</td>\n",
              "      <td>猫</td>\n",
              "      <td>case</td>\n",
              "    </tr>\n",
              "    <tr>\n",
              "      <th>2</th>\n",
              "      <td>Japanese</td>\n",
              "      <td>マット</td>\n",
              "      <td>マット</td>\n",
              "      <td>NOUN</td>\n",
              "      <td>上</td>\n",
              "      <td>nmod</td>\n",
              "    </tr>\n",
              "    <tr>\n",
              "      <th>3</th>\n",
              "      <td>Japanese</td>\n",
              "      <td>の</td>\n",
              "      <td>の</td>\n",
              "      <td>ADP</td>\n",
              "      <td>マット</td>\n",
              "      <td>case</td>\n",
              "    </tr>\n",
              "    <tr>\n",
              "      <th>4</th>\n",
              "      <td>Japanese</td>\n",
              "      <td>上</td>\n",
              "      <td>上</td>\n",
              "      <td>NOUN</td>\n",
              "      <td>い</td>\n",
              "      <td>obl</td>\n",
              "    </tr>\n",
              "    <tr>\n",
              "      <th>5</th>\n",
              "      <td>Japanese</td>\n",
              "      <td>に</td>\n",
              "      <td>に</td>\n",
              "      <td>ADP</td>\n",
              "      <td>上</td>\n",
              "      <td>case</td>\n",
              "    </tr>\n",
              "    <tr>\n",
              "      <th>6</th>\n",
              "      <td>Japanese</td>\n",
              "      <td>い</td>\n",
              "      <td>いる</td>\n",
              "      <td>VERB</td>\n",
              "      <td>い</td>\n",
              "      <td>ROOT</td>\n",
              "    </tr>\n",
              "    <tr>\n",
              "      <th>7</th>\n",
              "      <td>Japanese</td>\n",
              "      <td>ます</td>\n",
              "      <td>ます</td>\n",
              "      <td>AUX</td>\n",
              "      <td>い</td>\n",
              "      <td>aux</td>\n",
              "    </tr>\n",
              "    <tr>\n",
              "      <th>8</th>\n",
              "      <td>Japanese</td>\n",
              "      <td>。</td>\n",
              "      <td>。</td>\n",
              "      <td>PUNCT</td>\n",
              "      <td>い</td>\n",
              "      <td>punct</td>\n",
              "    </tr>\n",
              "  </tbody>\n",
              "</table>\n",
              "</div>\n",
              "      <button class=\"colab-df-convert\" onclick=\"convertToInteractive('df-b690634e-6c0a-4955-9766-6427b765979b')\"\n",
              "              title=\"Convert this dataframe to an interactive table.\"\n",
              "              style=\"display:none;\">\n",
              "        \n",
              "  <svg xmlns=\"http://www.w3.org/2000/svg\" height=\"24px\"viewBox=\"0 0 24 24\"\n",
              "       width=\"24px\">\n",
              "    <path d=\"M0 0h24v24H0V0z\" fill=\"none\"/>\n",
              "    <path d=\"M18.56 5.44l.94 2.06.94-2.06 2.06-.94-2.06-.94-.94-2.06-.94 2.06-2.06.94zm-11 1L8.5 8.5l.94-2.06 2.06-.94-2.06-.94L8.5 2.5l-.94 2.06-2.06.94zm10 10l.94 2.06.94-2.06 2.06-.94-2.06-.94-.94-2.06-.94 2.06-2.06.94z\"/><path d=\"M17.41 7.96l-1.37-1.37c-.4-.4-.92-.59-1.43-.59-.52 0-1.04.2-1.43.59L10.3 9.45l-7.72 7.72c-.78.78-.78 2.05 0 2.83L4 21.41c.39.39.9.59 1.41.59.51 0 1.02-.2 1.41-.59l7.78-7.78 2.81-2.81c.8-.78.8-2.07 0-2.86zM5.41 20L4 18.59l7.72-7.72 1.47 1.35L5.41 20z\"/>\n",
              "  </svg>\n",
              "      </button>\n",
              "      \n",
              "  <style>\n",
              "    .colab-df-container {\n",
              "      display:flex;\n",
              "      flex-wrap:wrap;\n",
              "      gap: 12px;\n",
              "    }\n",
              "\n",
              "    .colab-df-convert {\n",
              "      background-color: #E8F0FE;\n",
              "      border: none;\n",
              "      border-radius: 50%;\n",
              "      cursor: pointer;\n",
              "      display: none;\n",
              "      fill: #1967D2;\n",
              "      height: 32px;\n",
              "      padding: 0 0 0 0;\n",
              "      width: 32px;\n",
              "    }\n",
              "\n",
              "    .colab-df-convert:hover {\n",
              "      background-color: #E2EBFA;\n",
              "      box-shadow: 0px 1px 2px rgba(60, 64, 67, 0.3), 0px 1px 3px 1px rgba(60, 64, 67, 0.15);\n",
              "      fill: #174EA6;\n",
              "    }\n",
              "\n",
              "    [theme=dark] .colab-df-convert {\n",
              "      background-color: #3B4455;\n",
              "      fill: #D2E3FC;\n",
              "    }\n",
              "\n",
              "    [theme=dark] .colab-df-convert:hover {\n",
              "      background-color: #434B5C;\n",
              "      box-shadow: 0px 1px 3px 1px rgba(0, 0, 0, 0.15);\n",
              "      filter: drop-shadow(0px 1px 2px rgba(0, 0, 0, 0.3));\n",
              "      fill: #FFFFFF;\n",
              "    }\n",
              "  </style>\n",
              "\n",
              "      <script>\n",
              "        const buttonEl =\n",
              "          document.querySelector('#df-b690634e-6c0a-4955-9766-6427b765979b button.colab-df-convert');\n",
              "        buttonEl.style.display =\n",
              "          google.colab.kernel.accessAllowed ? 'block' : 'none';\n",
              "\n",
              "        async function convertToInteractive(key) {\n",
              "          const element = document.querySelector('#df-b690634e-6c0a-4955-9766-6427b765979b');\n",
              "          const dataTable =\n",
              "            await google.colab.kernel.invokeFunction('convertToInteractive',\n",
              "                                                     [key], {});\n",
              "          if (!dataTable) return;\n",
              "\n",
              "          const docLinkHtml = 'Like what you see? Visit the ' +\n",
              "            '<a target=\"_blank\" href=https://colab.research.google.com/notebooks/data_table.ipynb>data table notebook</a>'\n",
              "            + ' to learn more about interactive tables.';\n",
              "          element.innerHTML = '';\n",
              "          dataTable['output_type'] = 'display_data';\n",
              "          await google.colab.output.renderOutput(dataTable, element);\n",
              "          const docLink = document.createElement('div');\n",
              "          docLink.innerHTML = docLinkHtml;\n",
              "          element.appendChild(docLink);\n",
              "        }\n",
              "      </script>\n",
              "    </div>\n",
              "  </div>\n",
              "  "
            ]
          },
          "metadata": {},
          "execution_count": 15
        }
      ],
      "source": [
        "jpn_dataframe = pd.DataFrame(columns = ['Language', 'Orthography', 'Lemma', 'PoS', 'Head.Word', 'Head.Dependency'])\n",
        "\n",
        "i = 0\n",
        "for sent in ja_proc.sents:\n",
        "  for token in sent:\n",
        "      # Add a row for each new word\n",
        "      jpn_dataframe.loc[i] = [\"Japanese\", token.orth_, token.lemma_, token.pos_, token.head.orth_, token.dep_]\n",
        "      i+=1\n",
        "\n",
        "      #need to use .loc for rows, for columns not needed\n",
        "\n",
        "jpn_dataframe"
      ]
    },
    {
      "cell_type": "markdown",
      "metadata": {
        "id": "HqPiW3j2eSfW"
      },
      "source": [
        "Let's define a class:"
      ]
    },
    {
      "cell_type": "code",
      "execution_count": null,
      "metadata": {
        "id": "1Wyy410WeZxL"
      },
      "outputs": [],
      "source": [
        "class ProcText():  #process text\n",
        "  def __init__(self, input_string, model):  #intializing the instance of this class( two arg be input)\n",
        "    self.proc = model(input_string)  #create attribute for processing the string\n",
        "\n",
        "  def tableize(self, language):  #define the model here\n",
        "    df = pd.DataFrame(columns = [\"Sent.ID\", \"Word.ID\", \"Language\", \"Word.Orthographic\", \"Word.Lemma\", \"Word.PoS\", \"Head.Word\", \"Head.Dependency\"])  #sing the panda df for tables\n",
        "    j=0    #for counting the sentences                        #sentence if for the group of the sentencs  # same as the function of the sentence ( we dont have to knwo the full count), #\n",
        "    for sent in self.proc.sents: #go through the sentence\n",
        "      i = 0  #within the sentence counting the word\n",
        "      for word in sent:\n",
        "        new_row = [j, word.idx, language, word.orth_, word.lemma_, word.pos_, word.head.orth_, word.dep_]\n",
        "                      #.idx is for the index of the word, language coming from the local variable of the function\n",
        "        df.loc[i] = new_row  #update the row\n",
        "        i+=1\n",
        "      j += 1\n",
        "    return(df)\n"
      ]
    },
    {
      "cell_type": "code",
      "execution_count": null,
      "metadata": {
        "colab": {
          "base_uri": "https://localhost:8080/",
          "height": 349
        },
        "id": "0bTeTm9bg1n7",
        "outputId": "c59aad25-d289-4e06-a84e-56d0252283be"
      },
      "outputs": [
        {
          "output_type": "stream",
          "name": "stdout",
          "text": [
            "<class 'spacy.tokens.doc.Doc'>\n"
          ]
        },
        {
          "output_type": "execute_result",
          "data": {
            "text/plain": [
              "  Sent.ID Word.ID  Language Word.Orthographic Word.Lemma Word.PoS Head.Word  \\\n",
              "0       0       0  Japanese                 猫          猫     NOUN         い   \n",
              "1       0       1  Japanese                 は          は      ADP         猫   \n",
              "2       0       2  Japanese               マット        マット     NOUN         上   \n",
              "3       0       5  Japanese                 の          の      ADP       マット   \n",
              "4       0       6  Japanese                 上          上     NOUN         い   \n",
              "5       0       7  Japanese                 に          に      ADP         上   \n",
              "6       0       8  Japanese                 い         いる     VERB         い   \n",
              "7       0       9  Japanese                ます         ます      AUX         い   \n",
              "8       0      11  Japanese                 。          。    PUNCT         い   \n",
              "\n",
              "  Head.Dependency  \n",
              "0           nsubj  \n",
              "1            case  \n",
              "2            nmod  \n",
              "3            case  \n",
              "4             obl  \n",
              "5            case  \n",
              "6            ROOT  \n",
              "7             aux  \n",
              "8           punct  "
            ],
            "text/html": [
              "\n",
              "  <div id=\"df-a11e484f-7a4b-47e4-baf2-bf4287454ff8\">\n",
              "    <div class=\"colab-df-container\">\n",
              "      <div>\n",
              "<style scoped>\n",
              "    .dataframe tbody tr th:only-of-type {\n",
              "        vertical-align: middle;\n",
              "    }\n",
              "\n",
              "    .dataframe tbody tr th {\n",
              "        vertical-align: top;\n",
              "    }\n",
              "\n",
              "    .dataframe thead th {\n",
              "        text-align: right;\n",
              "    }\n",
              "</style>\n",
              "<table border=\"1\" class=\"dataframe\">\n",
              "  <thead>\n",
              "    <tr style=\"text-align: right;\">\n",
              "      <th></th>\n",
              "      <th>Sent.ID</th>\n",
              "      <th>Word.ID</th>\n",
              "      <th>Language</th>\n",
              "      <th>Word.Orthographic</th>\n",
              "      <th>Word.Lemma</th>\n",
              "      <th>Word.PoS</th>\n",
              "      <th>Head.Word</th>\n",
              "      <th>Head.Dependency</th>\n",
              "    </tr>\n",
              "  </thead>\n",
              "  <tbody>\n",
              "    <tr>\n",
              "      <th>0</th>\n",
              "      <td>0</td>\n",
              "      <td>0</td>\n",
              "      <td>Japanese</td>\n",
              "      <td>猫</td>\n",
              "      <td>猫</td>\n",
              "      <td>NOUN</td>\n",
              "      <td>い</td>\n",
              "      <td>nsubj</td>\n",
              "    </tr>\n",
              "    <tr>\n",
              "      <th>1</th>\n",
              "      <td>0</td>\n",
              "      <td>1</td>\n",
              "      <td>Japanese</td>\n",
              "      <td>は</td>\n",
              "      <td>は</td>\n",
              "      <td>ADP</td>\n",
              "      <td>猫</td>\n",
              "      <td>case</td>\n",
              "    </tr>\n",
              "    <tr>\n",
              "      <th>2</th>\n",
              "      <td>0</td>\n",
              "      <td>2</td>\n",
              "      <td>Japanese</td>\n",
              "      <td>マット</td>\n",
              "      <td>マット</td>\n",
              "      <td>NOUN</td>\n",
              "      <td>上</td>\n",
              "      <td>nmod</td>\n",
              "    </tr>\n",
              "    <tr>\n",
              "      <th>3</th>\n",
              "      <td>0</td>\n",
              "      <td>5</td>\n",
              "      <td>Japanese</td>\n",
              "      <td>の</td>\n",
              "      <td>の</td>\n",
              "      <td>ADP</td>\n",
              "      <td>マット</td>\n",
              "      <td>case</td>\n",
              "    </tr>\n",
              "    <tr>\n",
              "      <th>4</th>\n",
              "      <td>0</td>\n",
              "      <td>6</td>\n",
              "      <td>Japanese</td>\n",
              "      <td>上</td>\n",
              "      <td>上</td>\n",
              "      <td>NOUN</td>\n",
              "      <td>い</td>\n",
              "      <td>obl</td>\n",
              "    </tr>\n",
              "    <tr>\n",
              "      <th>5</th>\n",
              "      <td>0</td>\n",
              "      <td>7</td>\n",
              "      <td>Japanese</td>\n",
              "      <td>に</td>\n",
              "      <td>に</td>\n",
              "      <td>ADP</td>\n",
              "      <td>上</td>\n",
              "      <td>case</td>\n",
              "    </tr>\n",
              "    <tr>\n",
              "      <th>6</th>\n",
              "      <td>0</td>\n",
              "      <td>8</td>\n",
              "      <td>Japanese</td>\n",
              "      <td>い</td>\n",
              "      <td>いる</td>\n",
              "      <td>VERB</td>\n",
              "      <td>い</td>\n",
              "      <td>ROOT</td>\n",
              "    </tr>\n",
              "    <tr>\n",
              "      <th>7</th>\n",
              "      <td>0</td>\n",
              "      <td>9</td>\n",
              "      <td>Japanese</td>\n",
              "      <td>ます</td>\n",
              "      <td>ます</td>\n",
              "      <td>AUX</td>\n",
              "      <td>い</td>\n",
              "      <td>aux</td>\n",
              "    </tr>\n",
              "    <tr>\n",
              "      <th>8</th>\n",
              "      <td>0</td>\n",
              "      <td>11</td>\n",
              "      <td>Japanese</td>\n",
              "      <td>。</td>\n",
              "      <td>。</td>\n",
              "      <td>PUNCT</td>\n",
              "      <td>い</td>\n",
              "      <td>punct</td>\n",
              "    </tr>\n",
              "  </tbody>\n",
              "</table>\n",
              "</div>\n",
              "      <button class=\"colab-df-convert\" onclick=\"convertToInteractive('df-a11e484f-7a4b-47e4-baf2-bf4287454ff8')\"\n",
              "              title=\"Convert this dataframe to an interactive table.\"\n",
              "              style=\"display:none;\">\n",
              "        \n",
              "  <svg xmlns=\"http://www.w3.org/2000/svg\" height=\"24px\"viewBox=\"0 0 24 24\"\n",
              "       width=\"24px\">\n",
              "    <path d=\"M0 0h24v24H0V0z\" fill=\"none\"/>\n",
              "    <path d=\"M18.56 5.44l.94 2.06.94-2.06 2.06-.94-2.06-.94-.94-2.06-.94 2.06-2.06.94zm-11 1L8.5 8.5l.94-2.06 2.06-.94-2.06-.94L8.5 2.5l-.94 2.06-2.06.94zm10 10l.94 2.06.94-2.06 2.06-.94-2.06-.94-.94-2.06-.94 2.06-2.06.94z\"/><path d=\"M17.41 7.96l-1.37-1.37c-.4-.4-.92-.59-1.43-.59-.52 0-1.04.2-1.43.59L10.3 9.45l-7.72 7.72c-.78.78-.78 2.05 0 2.83L4 21.41c.39.39.9.59 1.41.59.51 0 1.02-.2 1.41-.59l7.78-7.78 2.81-2.81c.8-.78.8-2.07 0-2.86zM5.41 20L4 18.59l7.72-7.72 1.47 1.35L5.41 20z\"/>\n",
              "  </svg>\n",
              "      </button>\n",
              "      \n",
              "  <style>\n",
              "    .colab-df-container {\n",
              "      display:flex;\n",
              "      flex-wrap:wrap;\n",
              "      gap: 12px;\n",
              "    }\n",
              "\n",
              "    .colab-df-convert {\n",
              "      background-color: #E8F0FE;\n",
              "      border: none;\n",
              "      border-radius: 50%;\n",
              "      cursor: pointer;\n",
              "      display: none;\n",
              "      fill: #1967D2;\n",
              "      height: 32px;\n",
              "      padding: 0 0 0 0;\n",
              "      width: 32px;\n",
              "    }\n",
              "\n",
              "    .colab-df-convert:hover {\n",
              "      background-color: #E2EBFA;\n",
              "      box-shadow: 0px 1px 2px rgba(60, 64, 67, 0.3), 0px 1px 3px 1px rgba(60, 64, 67, 0.15);\n",
              "      fill: #174EA6;\n",
              "    }\n",
              "\n",
              "    [theme=dark] .colab-df-convert {\n",
              "      background-color: #3B4455;\n",
              "      fill: #D2E3FC;\n",
              "    }\n",
              "\n",
              "    [theme=dark] .colab-df-convert:hover {\n",
              "      background-color: #434B5C;\n",
              "      box-shadow: 0px 1px 3px 1px rgba(0, 0, 0, 0.15);\n",
              "      filter: drop-shadow(0px 1px 2px rgba(0, 0, 0, 0.3));\n",
              "      fill: #FFFFFF;\n",
              "    }\n",
              "  </style>\n",
              "\n",
              "      <script>\n",
              "        const buttonEl =\n",
              "          document.querySelector('#df-a11e484f-7a4b-47e4-baf2-bf4287454ff8 button.colab-df-convert');\n",
              "        buttonEl.style.display =\n",
              "          google.colab.kernel.accessAllowed ? 'block' : 'none';\n",
              "\n",
              "        async function convertToInteractive(key) {\n",
              "          const element = document.querySelector('#df-a11e484f-7a4b-47e4-baf2-bf4287454ff8');\n",
              "          const dataTable =\n",
              "            await google.colab.kernel.invokeFunction('convertToInteractive',\n",
              "                                                     [key], {});\n",
              "          if (!dataTable) return;\n",
              "\n",
              "          const docLinkHtml = 'Like what you see? Visit the ' +\n",
              "            '<a target=\"_blank\" href=https://colab.research.google.com/notebooks/data_table.ipynb>data table notebook</a>'\n",
              "            + ' to learn more about interactive tables.';\n",
              "          element.innerHTML = '';\n",
              "          dataTable['output_type'] = 'display_data';\n",
              "          await google.colab.output.renderOutput(dataTable, element);\n",
              "          const docLink = document.createElement('div');\n",
              "          docLink.innerHTML = docLinkHtml;\n",
              "          element.appendChild(docLink);\n",
              "        }\n",
              "      </script>\n",
              "    </div>\n",
              "  </div>\n",
              "  "
            ]
          },
          "metadata": {},
          "execution_count": 17
        }
      ],
      "source": [
        "proc = ProcText(japanese_sent, nlp_jp)  #(some input and model)\n",
        "\n",
        "print(type(proc.proc))  #printing the type of the o/p\n",
        "proc.tableize(\"Japanese\")\n",
        "#idx is at the character level and incorporates the space and i is at word level"
      ]
    },
    {
      "cell_type": "markdown",
      "metadata": {
        "id": "p2APYpF5eogl"
      },
      "source": [
        "We don't want to define all the sentences ourselves! Rather, we rely on naturalistic corpora -- collections of digitized text sampled from the *real world*. \n",
        "\n",
        "The `nltk` package contains many useful corpora. We can access them via `import` from the `nltk.corpus` module."
      ]
    },
    {
      "cell_type": "code",
      "execution_count": null,
      "metadata": {
        "id": "si7rzAa9X13o"
      },
      "outputs": [],
      "source": [
        "import nltk\n",
        "nltk.download(['knbc', 'cess_esp', 'brown'], quiet=True) #knbc, cess_esp and brown are the newspapaers \n",
        "\n",
        "from nltk.corpus import knbc, cess_esp, brown # download nad import the modules for use\n",
        "\n",
        "#tagged _sents()--> [[(word, tag),   ]]"
      ]
    },
    {
      "cell_type": "markdown",
      "metadata": {
        "id": "dTHkIwHPfTq5"
      },
      "source": [
        "Let's take sample sentences from the corpora we have loaded. `nltk.corpus` objects have a number of useful methods:\n",
        "- `.words()` gives a list of strings, where strings = words\n",
        "- `.sents()` gives a list of lists of strings; each list element is a sentence composed of a list of word strings. \n",
        "- `.tagged_words()` gives a list of tuples of strings [(word, tag),...]\n",
        "- `.tagged_sents()` gives a list of lists of tuples of strings [[(word, tag),...], [(word,tag),...]]\n"
      ]
    },
    {
      "cell_type": "code",
      "execution_count": null,
      "metadata": {
        "id": "HS3WK2OuX8iD"
      },
      "outputs": [],
      "source": [
        "# Extract a sample sentence from each corpus\n",
        "en_sent = brown.sents()[1000]\n",
        "jp_sent = knbc.sents()[1000]\n",
        "es_sent = cess_esp.sents()[1000]\n",
        "\n",
        "# Turn the list of words for each sentence into a string (spaced with \" \")\n",
        "en = \" \".join(en_sent)\n",
        "jp = \" \".join(jp_sent)\n",
        "es = \" \".join(es_sent)\n",
        "\n",
        "# Process each sample sentence with the appropriate NLP pipelines\n",
        "en_proc = nlp_en(en)\n",
        "jp_proc = nlp_jp(jp)\n",
        "es_proc = nlp_sp(es)"
      ]
    },
    {
      "cell_type": "code",
      "execution_count": null,
      "metadata": {
        "colab": {
          "base_uri": "https://localhost:8080/"
        },
        "id": "w2024DNbYa-E",
        "outputId": "cf42cba3-c38d-4a5e-8e62-64c2eec37fbc"
      },
      "outputs": [
        {
          "output_type": "stream",
          "name": "stdout",
          "text": [
            "800 800 NUM\n",
            "in in ADP\n",
            "Southern Southern PROPN\n",
            "New New PROPN\n",
            "England England PROPN\n",
            ", , PUNCT\n",
            "we we PRON\n",
            "have have VERB\n",
            "60 60 NUM\n",
            "; ; PUNCT\n",
            "; ; PUNCT\n",
            "--------------------\n",
            "Ｔ t NOUN\n",
            "から から ADP\n",
            "始まる 始まる VERB\n",
            "ブランド ブランド NOUN\n",
            "に に ADP\n",
            "は は ADP\n",
            "気 気 NOUN\n",
            "を を ADP\n",
            "付け 付ける VERB\n",
            "た た AUX\n",
            "ほう ほう NOUN\n",
            "が が ADP\n",
            "いい いい ADJ\n",
            "です です AUX\n",
            "（ ( NOUN\n",
            "笑 笑 NOUN\n",
            "） ) NOUN\n",
            "。 。 PUNCT\n",
            "--------------------\n",
            "En en ADP\n",
            "el el DET\n",
            "mismo mismo DET\n",
            "acto acto NOUN\n",
            "electoral electoral ADJ\n",
            ", , PUNCT\n",
            "Maragall Maragall PROPN\n",
            "ha haber AUX\n",
            "expresado expresar VERB\n",
            "la el DET\n",
            "preocupación preocupación NOUN\n",
            "de de ADP\n",
            "su su DET\n",
            "partido partido NOUN\n",
            "por por ADP\n",
            "la el DET\n",
            "\" \" PUNCT\n",
            "hemorragia hemorragia NOUN\n",
            "\" \" PUNCT\n",
            "de de ADP\n",
            "actividad actividad NOUN\n",
            "económica económico ADJ\n",
            "que que PRON\n",
            "se él PRON\n",
            "traslada trasladar VERB\n",
            "desde desde ADP\n",
            "Cataluña Cataluña PROPN\n",
            "a a ADP\n",
            "Madrid Madrid PROPN\n",
            "y y CCONJ\n",
            "* *ir VERB\n",
            "0 0 NUM\n",
            "* * NUM\n",
            "ha haber AUX\n",
            "pedido pedir VERB\n",
            "a a ADP\n",
            "Almunia Almunia PROPN\n",
            "que que SCONJ\n",
            ", , PUNCT\n",
            "si si SCONJ\n",
            "* * PRON\n",
            "0 0 NUM\n",
            "* * SYM\n",
            "es ser AUX\n",
            "presidente presidente NOUN\n",
            "del del ADP\n",
            "Gobierno Gobierno PROPN\n",
            "* * PROPN\n",
            "0 0 NUM\n",
            "* * SYM\n",
            "intente intentar VERB\n",
            "\" \" PUNCT\n",
            "rectificar rectificar VERB\n",
            "estas este DET\n",
            "estrategias estrategia NOUN\n",
            "porque porque SCONJ\n",
            "tampoco tampoco ADV\n",
            "en en ADP\n",
            "esto este PRON\n",
            ", , PUNCT\n",
            "España España PROPN\n",
            "no no ADV\n",
            "debe deber AUX\n",
            "ser ser AUX\n",
            "monopolística monopolístico ADJ\n",
            "sino sino CCONJ\n",
            "plural plural ADJ\n",
            "\" \" PUNCT\n",
            ". . PUNCT\n"
          ]
        }
      ],
      "source": [
        "for token in en_proc:\n",
        "  print(token.orth_, token.lemma_, token.pos_)\n",
        "  #\n",
        "\n",
        "print(\"-\"*20)\n",
        "\n",
        "for token in jp_proc:\n",
        "  print(token.orth_, token.lemma_, token.pos_)\n",
        "\n",
        "print(\"-\"*20)\n",
        "\n",
        "for token in es_proc:\n",
        "  print(token.orth_, token.lemma_, token.pos_)"
      ]
    },
    {
      "cell_type": "code",
      "source": [],
      "metadata": {
        "id": "_054An6b6wKT"
      },
      "execution_count": null,
      "outputs": []
    },
    {
      "cell_type": "markdown",
      "metadata": {
        "id": "q43hrEkPbnlW"
      },
      "source": [
        "# Greenbergian universals\n",
        "When we speak, words are produced in a sequence. Moreover, these words are related to each other: for example, verbs have subjects and, sometimes, objects or other concommitant elements (as in ***put*** *up with*).  \n",
        "  \n",
        "The subject or object of a verb must be produced before or after it (even if we are talking in terms of *parts* of a single complex word!)\n",
        "\n",
        "Greenberg pointed out that these orders tend to align across different constructions. For example, languages with Subject-Object-Verb word order (something like: [the dog]$_{Subject}$ [the turtle]$_{Object}$ sniffed$_{Verb}$\") tend to have **postpositions** (something like: [forests]$_{object\\space{}of\\space{}postposition}$ [in]$_{postposition}$  \n",
        "  \n",
        "In these cases, the **verb** and **postposition** are sometimes called the *heads*. The **object** and **object of postposition** are often called the **dependents**. \n",
        "  \n",
        "Let's look at syntactic relations between heads and dependents in English, Japanese, and Spanish to see which orders match and which don't.   \n",
        "\n",
        "First, what we expect based on grammars of the languages. Orders here reflect premoninant trends; some variation is allowed for all of these designations. \n",
        "\n",
        "Language | Clause word order? | Adpositions? | Adjective order?\n",
        ":---:|:---|:---|:---|\n",
        "English|SVO (Sparrows$_\\text{S}$ lay$_\\text{V}$ eggs$_\\text{O}$) |prepositions (in$_\\text{preposition}$ nests$_\\text{object of prepostion}$) | Adj-Noun (speckled$_\\text{Adj}$ eggs$_\\text{Noun}$)\n",
        "Japanese|SOV (Sparrows$_\\text{S}$ eggs$_\\text{O}$ lay$_\\text{V}$ ) |postpositions (nests$_\\text{object of prepostion}$ in$_\\text{preposition}$) | Adj-Noun (small$_\\text{Adj}$ eggs$_\\text{Noun}$ | Adj-Noun (speckled$_\\text{Adj}$ eggs$_\\text{Noun}$)\n",
        "Spanish|SVO (Sparrows$_\\text{S}$ lay$_\\text{V}$ eggs$_\\text{O}$) |prepositions (in$_\\text{preposition}$ nests$_\\text{object of prepostion}$ | Noun-Adj (eggs$_\\text{Noun}$ speckled$_\\text{Adj}$)\n",
        "\n",
        "  \n",
        "We'll do this by measuring **what proportion of the time each syntactic head follows its dependent.** We will do this individually for each syntactic dependency type (e.g., *nsubj* nominal subject, *dobj* direct object, etc.). \n",
        "\n",
        "One last point. In `spacy`, we access syntactic dependents of a given head with `.children`. So, dependents = children. \n",
        "  \n",
        "## Task\n",
        "- Parse your corpora\n",
        "- For each language\n",
        "  - Create a `FreqDist` with counts for each dependency type in the corpus\n",
        "  - Open a **head-final** dictionary for counting word orders\n",
        "    - keys = dependency types\n",
        "    - values = counts \n",
        "    - For each word that has at least one child\n",
        "      - For each child\n",
        "        - Find the dependency and treat as key\n",
        "        - If the child appears before the head\n",
        "          - +1 to your dictionary entry for this dependency\n",
        "  - divide each count from your head-final dictionary by the associated overall count of that dependency\n",
        "    - the resulting value is the proportion of head-final uses of a syntactic dependency (closer to 1 = \"more head-final-y\") \n",
        "\n"
      ]
    },
    {
      "cell_type": "code",
      "execution_count": null,
      "metadata": {
        "id": "-mlM6bPC83W5"
      },
      "outputs": [],
      "source": [
        "0# defaultdict lets us add keys without predifining them\n",
        "from collections import defaultdict\n",
        "\n",
        "# Function that takes a corpus of sentences (list of lists of strings). \n",
        "def greenberg(sent_corpus, model):\n",
        "  # Count structures\n",
        "  count_fd = defaultdict(int)\n",
        "  # Go sentence by sentence\n",
        "  for sent in sent_corpus:\n",
        "    # Process it\n",
        "    proc = model(\" \".join(sent))\n",
        "    # For each processed word...\n",
        "    for w in proc:\n",
        "      # If it has syntactic children...\n",
        "      if len(list(w.children)) > 0:\n",
        "        # For each child...\n",
        "        for child in w.children:\n",
        "          # Count its dependency\n",
        "          count_fd[child.head.dep_] += 1\n",
        "          # Also count it if it is head-final.\n",
        "          if child.i < w.i:\n",
        "            hf_fd[child.head.dep_] += 1\n",
        "  \n",
        "  output_df = defaultdict()\n",
        "  for key in set(hf_fd.keys()).union(set(count_fd.keys())):\n",
        "    output_df[key] = hf_fd[key]/count_fd[key]\n",
        "    \n",
        "  return(output_df)"
      ]
    },
    {
      "cell_type": "markdown",
      "metadata": {
        "id": "OdwdV6F2-X1M"
      },
      "source": [
        "Let's apply the function (this can take some time)."
      ]
    },
    {
      "cell_type": "code",
      "execution_count": null,
      "metadata": {
        "colab": {
          "base_uri": "https://localhost:8080/"
        },
        "id": "TSvazp48-VZ3",
        "outputId": "9e21c63b-7a19-4298-80b3-6e16a671e481"
      },
      "outputs": [
        {
          "name": "stdout",
          "output_type": "stream",
          "text": [
            "defaultdict(None, {'preconj': 0.01092896174863388, 'prep': 0.02513034572652225, 'pobj': 0.6848627277180378, 'oprd': 0.5533405172413793, 'compound': 0.9969586374695864, 'agent': 0.014304723885562209, 'cc': 0.7772397094430993, 'csubj': 0.5100671140939598, 'mark': 0.31543624161073824, 'attr': 0.5719484648205472, 'quantmod': 0.8461538461538461, 'nsubj': 0.685958706078438, 'parataxis': 0.6103746397694525, 'relcl': 0.5793884484711211, 'poss': 0.38944965152607547, 'dobj': 0.6546698658135608, 'advmod': 0.6204906204906205, 'xcomp': 0.41055501460564753, 'neg': 0.38596491228070173, 'dative': 0.2727272727272727, 'npadvmod': 0.6824996683030383, 'nmod': 0.3473053892215569, 'amod': 0.5963054567939403, 'prt': 0.10160427807486631, 'conj': 0.3727095564353038, 'det': 0.5280898876404494, 'intj': 0.30939226519337015, 'expl': 0.0, 'auxpass': 0.710997442455243, 'csubjpass': 0.6261682242990654, 'aux': 0.7387387387387387, 'meta': 0.44129554655870445, 'ROOT': 0.42110357540459914, 'case': 0.16666666666666666, 'ccomp': 0.5836619249646452, 'advcl': 0.5540648949425641, 'pcomp': 0.24747957126180622, 'predet': 1.0, 'nsubjpass': 0.672182006204757, 'punct': 0.12094395280235988, 'dep': 0.381175468483816, 'nummod': 0.7913649025069638, 'appos': 0.531127957730301, 'acl': 0.32381158479405614, 'acomp': 0.38028315636060794})\n",
            "defaultdict(None, {'amod': 0.8, 'cop': 0.004739336492890996, 'det': 0.42857142857142855, 'dislocated': 0.3443708609271523, 'aux': 0.07142857142857142, 'ROOT': 0.5246934604904632, 'case': 0.007306889352818371, 'compound': 0.4358523725834798, 'ccomp': 0.46742209631728043, 'advcl': 0.43577478042659973, 'cc': 0.013100436681222707, 'csubj': 0.3499222395023328, 'mark': 0.0022431583669807087, 'punct': 0.5726495726495726, 'dep': 0.3957805907172996, 'nummod': 0.25, 'nsubj': 0.42360109026775694, 'obl': 0.4085679543541296, 'advmod': 0.25411061285500747, 'acl': 0.562873357228196, 'obj': 0.45067264573991034, 'fixed': 0.08823529411764706, 'nmod': 0.45154901683406423})\n",
            "defaultdict(None, {'expl:impers': 0.6666666666666666, 'amod': 0.39046199701937406, 'conj': 0.6974167687339939, 'det': 0.3292589763177998, 'iobj': 0.7089201877934272, 'cop': 0.6764705882352942, 'flat': 0.6171875, 'aux': 0.6666666666666666, 'ROOT': 0.3872151811067248, 'case': 0.08653846153846154, 'compound': 0.5763888888888888, 'ccomp': 0.567197514080404, 'advcl': 0.5560802833530106, 'cc': 0.3333333333333333, 'csubj': 0.5566687539135879, 'mark': 0.10344827586206896, 'punct': 0.2619047619047619, 'dep': 0.5572139303482587, 'nummod': 0.7233962264150944, 'nsubj': 0.5154061624649859, 'obl': 0.6903521304311286, 'parataxis': 0.44765342960288806, 'advmod': 0.37997432605905007, 'xcomp': 0.4003887269193392, 'appos': 0.5073541296266365, 'acl': 0.5947504172356244, 'obj': 0.5529630900446056, 'fixed': 0.5588235294117647, 'nmod': 0.704865579243905})\n"
          ]
        }
      ],
      "source": [
        "# English\n",
        "en_orders = greenberg(brown.sents(), nlp_en)\n",
        "print(en_orders)\n",
        "\n",
        "# Japanese\n",
        "jp_orders = greenberg(knbc.sents(), nlp_jp)\n",
        "print(jp_orders)\n",
        "\n",
        "# Spanish\n",
        "es_orders = greenberg(cess_esp.sents(), nlp_sp)\n",
        "print(es_orders)\n"
      ]
    },
    {
      "cell_type": "code",
      "execution_count": null,
      "metadata": {
        "colab": {
          "base_uri": "https://localhost:8080/"
        },
        "id": "OOAy-yCMH7tt",
        "outputId": "7ad8638d-fe34-45ed-aaf2-1ed9776771ff"
      },
      "outputs": [
        {
          "name": "stdout",
          "output_type": "stream",
          "text": [
            "S-V:  0.685958706078438\n",
            "O-V:  0.6546698658135608\n",
            "Adj-Noun:  0.5963054567939403\n",
            "--------------------\n",
            "S-V:  0.42360109026775694\n",
            "O-V:  0.45067264573991034\n",
            "Adj-Noun:  0.8\n",
            "--------------------\n",
            "S-V:  0.5154061624649859\n",
            "O-V:  0.5529630900446056\n",
            "Adj-Noun:  0.39046199701937406\n"
          ]
        }
      ],
      "source": [
        "print(\"S-V: \", en_orders[\"nsubj\"])\n",
        "print(\"O-V: \", en_orders[\"dobj\"])\n",
        "print(\"Adj-Noun: \", en_orders[\"amod\"])\n",
        "\n",
        "print(\"-\"*20)\n",
        "\n",
        "print(\"S-V: \", jp_orders[\"nsubj\"])\n",
        "print(\"O-V: \", jp_orders[\"obj\"])\n",
        "print(\"Adj-Noun: \", jp_orders[\"amod\"])\n",
        "\n",
        "print(\"-\"*20)\n",
        "\n",
        "print(\"S-V: \", es_orders[\"nsubj\"])\n",
        "print(\"O-V: \", es_orders[\"obj\"])\n",
        "print(\"Adj-Noun: \", es_orders[\"amod\"])\n"
      ]
    },
    {
      "cell_type": "markdown",
      "metadata": {
        "id": "182xW_PTiMty"
      },
      "source": [
        "We can also explore which dependencies are the most/least head-final-y."
      ]
    },
    {
      "cell_type": "code",
      "execution_count": null,
      "metadata": {
        "colab": {
          "base_uri": "https://localhost:8080/"
        },
        "id": "i9FUPnYmiVXM",
        "outputId": "966aa3f9-bfd1-4301-bff3-705b44f22b4d"
      },
      "outputs": [
        {
          "name": "stdout",
          "output_type": "stream",
          "text": [
            "{'predet': 1.0, 'compound': 0.9969586374695864, 'quantmod': 0.8461538461538461, 'nummod': 0.7913649025069638, 'cc': 0.7772397094430993}\n",
            "{'expl': 0.0, 'preconj': 0.01092896174863388, 'agent': 0.014304723885562209, 'prep': 0.02513034572652225, 'prt': 0.10160427807486631}\n",
            "{'amod': 0.8, 'punct': 0.5726495726495726, 'acl': 0.562873357228196, 'ROOT': 0.5246934604904632, 'ccomp': 0.46742209631728043}\n",
            "{'mark': 0.0022431583669807087, 'cop': 0.004739336492890996, 'case': 0.007306889352818371, 'cc': 0.013100436681222707, 'aux': 0.07142857142857142}\n",
            "{'nummod': 0.7233962264150944, 'iobj': 0.7089201877934272, 'nmod': 0.704865579243905, 'conj': 0.6974167687339939, 'obl': 0.6903521304311286}\n",
            "{'case': 0.08653846153846154, 'mark': 0.10344827586206896, 'punct': 0.2619047619047619, 'det': 0.3292589763177998, 'cc': 0.3333333333333333}\n"
          ]
        }
      ],
      "source": [
        "# Print n-highest ranked keys\n",
        "# Args:\n",
        "## - mydict:   dictionary from which the keys should be extracted\n",
        "## - n:        number of keys to retrieve (int)\n",
        "## - rev:      whether you want highest of lowest frequency elements, True = highest (boolean)\n",
        "def n_highest(mydict, n, rev=True):\n",
        "  result = {}\n",
        "  for key in sorted(mydict, key=mydict.get, reverse=rev)[:n]:\n",
        "    result.update({key: mydict[key]})\n",
        "  return(result)\n",
        "\n",
        "# English\n",
        "## Highest\n",
        "print(n_highest(en_orders, 5, True))\n",
        "## Lowest\n",
        "print(n_highest(en_orders, 5, False))\n",
        "\n",
        "# Japanese\n",
        "## Highest\n",
        "print(n_highest(jp_orders, 5, True))\n",
        "## Lowest\n",
        "print(n_highest(jp_orders, 5, False))\n",
        "\n",
        "# Spanish\n",
        "## Highest\n",
        "print(n_highest(es_orders, 5, True))\n",
        "## Lowest\n",
        "print(n_highest(es_orders, 5, False))"
      ]
    },
    {
      "cell_type": "markdown",
      "metadata": {
        "id": "A1FwImilb4xa"
      },
      "source": [
        "# Zipf's law\n",
        "Zipf's law concerns word frequency. Frequency in this sense refers to the number of times a word occurs in some sample of text. \n",
        "\n",
        "It turns out that the frequencies of words (known as the *type freqeuncy*) is inversely proportional to the frequency rank. This is generally not surprising: rank is inversely determined by frequency. The highest rank of 1 is the lowest numerically. But to get a rank of 1, the word's frequency must be the highest. \n",
        "\n",
        "What is more interesting is that this relationship is not linear. Rather, it follows a power law. In other words, we have on the one hand very few, very high-frequency words (e.g., English 'the' or 'a'), and on the other hand, very many, very low-frequency words. You have only heard the vast majority of words in your language only once or twice. \n",
        "\n",
        "But this relationship turns out to be linear in log-log space. That is, when you take the logarithm of the frequency and plot it against the logarithm of the rank, you get a straight line. \n",
        "  \n",
        "## Task\n",
        "Your task is to demonstrate Zipf's law in the corpora we have looked at so far. You will need to\n",
        "- Count words in each corpus.\n",
        "  - For this, we will use `FreqDist` objects from the `nltk` package. \n",
        "  - `FreqDist` objects work similarly to Python dictionaries. \n",
        "  - They are applied to lists and return counts of each list element\n",
        "  - Keys are the element types (what's being counted, like a word) and values are the counts\n",
        "  - Keys are stored in a generator, just like dictionaries\n",
        "  - `FreqDist` objects can be sorted by frequency using the `most_common()` method\n",
        "  - `FreqDist` objects are easily transformed into `pandas` dataframes   \n",
        "\n",
        "- Add ranks to the word types by their frequencies\n",
        "  - for example, rank of 1 would be given to the most frequent word \n",
        "\n",
        "- Store all values in a `pandas` DataFrame\n",
        "\n",
        "- Plot the resulting values\n",
        "  - scatterplots are quite easy to generate from `pandas` tables "
      ]
    },
    {
      "cell_type": "code",
      "execution_count": null,
      "metadata": {
        "id": "kZ40ABp984WY"
      },
      "outputs": [],
      "source": [
        "# Importing some packages\n",
        "import pandas as pd\n",
        "from nltk.probability import FreqDist\n",
        "import matplotlib as plt\n",
        "import seaborn as sns\n",
        "\n",
        "# Function to compute frequencies, ranks, and their respective logarithms. \n",
        "def zipf(words):\n",
        "  # Get the frequency distribution\n",
        "  fd = FreqDist(words).most_common()\n",
        "  # pull the frequencies into a list\n",
        "  freqs = [freq for _,freq in fd]\n",
        "  # generate a list of associated ranks (just a count from 1 to n = length of keys)\n",
        "  ranks = range(1, len(fd)+1)\n",
        "  # take the log of the values\n",
        "  logfreqs = log(freqs)\n",
        "  # ... and the log of the ranks\n",
        "  logranks = log(ranks)\n",
        "  # put the values into a pandas table\n",
        "  zipf_df = pd.DataFrame({'freq' : freqs, 'rank' : ranks, 'log.freq' : logfreqs, 'log.rank' : logranks})\n",
        "  # return the table\n",
        "  return(zipf_df)\n",
        "\n",
        "# English\n",
        "en_dat = zipf(brown.words())\n",
        "\n",
        "# Japanese\n",
        "jp_dat = zipf(knbc.words())\n",
        "\n",
        "# Spanish\n",
        "es_dat = zipf(cess_esp.words())"
      ]
    },
    {
      "cell_type": "code",
      "source": [
        "#for efficient processing of text, the power law means that they are lot of      freq and rank"
      ],
      "metadata": {
        "id": "VjHezxBr60Ba"
      },
      "execution_count": null,
      "outputs": []
    },
    {
      "cell_type": "markdown",
      "metadata": {
        "id": "OXVx7Gd63oXP"
      },
      "source": [
        "Let's plot the results! Here, I use `lmplot()` from the `seaborn` package (imported as `sns`) to plot both the points and a regression line (i.e., a line indicating the general trend of the data). "
      ]
    },
    {
      "cell_type": "code",
      "execution_count": null,
      "metadata": {
        "colab": {
          "base_uri": "https://localhost:8080/",
          "height": 1000
        },
        "id": "CCyNcWjwzQyY",
        "outputId": "f6ae6cbb-3d23-4be2-bcec-d765d3faf473"
      },
      "outputs": [
        {
          "data": {
            "image/png": "[encoded data removed]",
            "text/plain": [
              "<Figure size 360x360 with 1 Axes>"
            ]
          },
          "metadata": {},
          "output_type": "display_data"
        },
        {
          "data": {
            "image/png": "[encoded data removed]",
            "text/plain": [
              "<Figure size 360x360 with 1 Axes>"
            ]
          },
          "metadata": {},
          "output_type": "display_data"
        },
        {
          "data": {
            "image/png": "[encoded data removed]",
            "text/plain": [
              "<Figure size 360x360 with 1 Axes>"
            ]
          },
          "metadata": {},
          "output_type": "display_data"
        }
      ],
      "source": [
        "# English\n",
        "## Create the plot\n",
        "en_word_plot = sns.lmplot(x ='log.rank', y='log.freq', data=en_dat, fit_reg=True, line_kws={'color': 'red'})\n",
        "\n",
        "## Extract the plot\n",
        "fig = en_word_plot.fig \n",
        "\n",
        "## Add a title\n",
        "fig.suptitle(\"English\", fontsize=12)\n",
        "\n",
        "## Show the plot\n",
        "fig.show()\n",
        "\n",
        "# Japanese\n",
        "jp_word_plot = sns.lmplot(x ='log.rank', y='log.freq', data=jp_dat, fit_reg=True, line_kws={'color': 'red'})\n",
        "fig = jp_word_plot.fig \n",
        "fig.suptitle(\"Japanese\", fontsize=12)\n",
        "fig.show()\n",
        "\n",
        "# Spanish\n",
        "es_word_plot = sns.lmplot(x ='log.rank', y='log.freq', data=es_dat, fit_reg=True, line_kws={'color': 'red'})\n",
        "fig = es_word_plot.fig \n",
        "fig.suptitle(\"Spanish\", fontsize=12)\n",
        "fig.show()"
      ]
    },
    {
      "cell_type": "markdown",
      "metadata": {
        "id": "yUmD3vUqa2ms"
      },
      "source": [
        "The lines look remarkably similar, don't they?\n",
        "\n",
        "Now we try with other linguistic levels!\n",
        "\n",
        "For example, let's try part-of-speech tags. For this, we need the `.tagged_words()` method of our corpus objects (except Japanese; see below)\n",
        "- returns a generator of tuples of the form `(\"word\", \"tag\")`"
      ]
    },
    {
      "cell_type": "code",
      "execution_count": null,
      "metadata": {
        "colab": {
          "base_uri": "https://localhost:8080/",
          "height": 1000
        },
        "id": "kcvjpKS5a56k",
        "outputId": "4bce6162-d171-4b24-d30d-a4287ec8bdc4"
      },
      "outputs": [
        {
          "data": {
            "image/png": "[encoded data removed]",
            "text/plain": [
              "<Figure size 360x360 with 1 Axes>"
            ]
          },
          "metadata": {},
          "output_type": "display_data"
        },
        {
          "data": {
            "image/png": "[encoded data removed]",
            "text/plain": [
              "<Figure size 360x360 with 1 Axes>"
            ]
          },
          "metadata": {},
          "output_type": "display_data"
        },
        {
          "data": {
            "image/png": "[encoded data removed]",
            "text/plain": [
              "<Figure size 360x360 with 1 Axes>"
            ]
          },
          "metadata": {},
          "output_type": "display_data"
        }
      ],
      "source": [
        "# English\n",
        "## Extract the data\n",
        "en_tag_dat = zipf([t for _,t in brown.tagged_words()])\n",
        "\n",
        "## Create the plot\n",
        "en_tag_plot = sns.lmplot(x ='log.rank', y='log.freq', data=en_tag_dat, fit_reg=True, line_kws={'color': 'red'})\n",
        "\n",
        "## Extract the plot\n",
        "fig = en_tag_plot.fig \n",
        "\n",
        "## Add a title\n",
        "fig.suptitle(\"English\", fontsize=12)\n",
        "\n",
        "## Show the plot\n",
        "fig.show()\n",
        "\n",
        "# Japanese (need to apply some tags with spaCy; they are difficult to extract from the corpus)\n",
        "## Tag the corpus at the sentence level (need .join() as spaCy expects a string as input)\n",
        "jp_tagged = [(w.orth_, w.tag_) for sent in knbc.sents() for w in nlp_jp(\" \".join(sent))]\n",
        "\n",
        "## Now do the rest\n",
        "jp_tag_dat = zipf([t for _,t in jp_tagged])\n",
        "jp_tag_plot = sns.lmplot(x ='log.rank', y='log.freq', data=jp_tag_dat, fit_reg=True, line_kws={'color': 'red'})\n",
        "fig = jp_tag_plot.fig \n",
        "fig.suptitle(\"Japanese\", fontsize=12)\n",
        "fig.show()\n",
        "\n",
        "# Spanish\n",
        "## Extract the da\n",
        "es_tag_dat = zipf([t for _,t in cess_esp.tagged_words()])\n",
        "es_tag_plot = sns.lmplot(x ='log.rank', y='log.freq', data=es_tag_dat, fit_reg=True, line_kws={'color': 'red'})\n",
        "fig = es_tag_plot.fig \n",
        "fig.suptitle(\"Spanish\", fontsize=12)\n",
        "fig.show()\n",
        "\n"
      ]
    },
    {
      "cell_type": "markdown",
      "metadata": {
        "id": "4tuKS_gVcTdo"
      },
      "source": [
        "Uh-oh! What's happening here? Why do we now see some curvature if Zipf is right? Can you (a) describe what is happening here and (b) come up with an explanation? \n",
        "\n",
        "**Now** how about doing this with lemmas? Dependencies? "
      ]
    },
    {
      "cell_type": "code",
      "execution_count": null,
      "metadata": {
        "colab": {
          "base_uri": "https://localhost:8080/"
        },
        "id": "LdPr57ufcZXK",
        "outputId": "be5c8691-551f-4164-c6ee-4f4f4951efd9"
      },
      "outputs": [
        {
          "name": "stdout",
          "output_type": "stream",
          "text": [
            "Looking in indexes: https://pypi.org/simple, https://us-python.pkg.dev/colab-wheels/public/simple/\n",
            "Collecting prosodic\n",
            "  Downloading prosodic-1.6.1.tar.gz (2.5 MB)\n",
            "\u001b[K     |████████████████████████████████| 2.5 MB 5.2 MB/s \n",
            "\u001b[?25hRequirement already satisfied: nltk>=3.6.4 in /usr/local/lib/python3.7/dist-packages (from prosodic) (3.7)\n",
            "Requirement already satisfied: numpy in /usr/local/lib/python3.7/dist-packages (from prosodic) (1.21.6)\n",
            "Collecting Pyphen\n",
            "  Downloading pyphen-0.12.0-py3-none-any.whl (2.0 MB)\n",
            "\u001b[K     |████████████████████████████████| 2.0 MB 57.8 MB/s \n",
            "\u001b[?25hRequirement already satisfied: pyparsing in /usr/local/lib/python3.7/dist-packages (from prosodic) (3.0.9)\n",
            "Requirement already satisfied: xlrd in /usr/local/lib/python3.7/dist-packages (from prosodic) (1.1.0)\n",
            "Requirement already satisfied: networkx in /usr/local/lib/python3.7/dist-packages (from prosodic) (2.6.3)\n",
            "Requirement already satisfied: scipy in /usr/local/lib/python3.7/dist-packages (from prosodic) (1.7.3)\n",
            "Requirement already satisfied: xlwt in /usr/local/lib/python3.7/dist-packages (from prosodic) (1.3.0)\n",
            "Collecting levenshtein\n",
            "  Downloading Levenshtein-0.19.2-cp37-cp37m-manylinux_2_17_x86_64.manylinux2014_x86_64.whl (1.6 MB)\n",
            "\u001b[K     |████████████████████████████████| 1.6 MB 49.5 MB/s \n",
            "\u001b[?25hCollecting p_tqdm\n",
            "  Downloading p_tqdm-1.3.3.tar.gz (4.3 kB)\n",
            "Collecting rapidfuzz<3.0.0,>=2.0.1\n",
            "  Downloading rapidfuzz-2.2.0-cp37-cp37m-manylinux_2_17_x86_64.manylinux2014_x86_64.whl (2.0 MB)\n",
            "\u001b[K     |████████████████████████████████| 2.0 MB 44.5 MB/s \n",
            "\u001b[?25hCollecting jarowinkler<2.0.0,>=1.2.0\n",
            "  Downloading jarowinkler-1.2.0-cp37-cp37m-manylinux_2_17_x86_64.manylinux2014_x86_64.whl (104 kB)\n",
            "\u001b[K     |████████████████████████████████| 104 kB 62.8 MB/s \n",
            "\u001b[?25hRequirement already satisfied: tqdm in /usr/local/lib/python3.7/dist-packages (from nltk>=3.6.4->prosodic) (4.64.0)\n",
            "Requirement already satisfied: regex>=2021.8.3 in /usr/local/lib/python3.7/dist-packages (from nltk>=3.6.4->prosodic) (2022.6.2)\n",
            "Requirement already satisfied: click in /usr/local/lib/python3.7/dist-packages (from nltk>=3.6.4->prosodic) (7.1.2)\n",
            "Requirement already satisfied: joblib in /usr/local/lib/python3.7/dist-packages (from nltk>=3.6.4->prosodic) (1.1.0)\n",
            "Collecting pathos\n",
            "  Downloading pathos-0.2.9-py3-none-any.whl (76 kB)\n",
            "\u001b[K     |████████████████████████████████| 76 kB 6.4 MB/s \n",
            "\u001b[?25hRequirement already satisfied: six in /usr/local/lib/python3.7/dist-packages (from p_tqdm->prosodic) (1.15.0)\n",
            "Requirement already satisfied: multiprocess>=0.70.13 in /usr/local/lib/python3.7/dist-packages (from pathos->p_tqdm->prosodic) (0.70.13)\n",
            "Collecting ppft>=1.7.6.5\n",
            "  Downloading ppft-1.7.6.5-py2.py3-none-any.whl (52 kB)\n",
            "\u001b[K     |████████████████████████████████| 52 kB 1.5 MB/s \n",
            "\u001b[?25hRequirement already satisfied: dill>=0.3.5.1 in /usr/local/lib/python3.7/dist-packages (from pathos->p_tqdm->prosodic) (0.3.5.1)\n",
            "Collecting pox>=0.3.1\n",
            "  Downloading pox-0.3.1-py2.py3-none-any.whl (28 kB)\n",
            "Building wheels for collected packages: prosodic, p-tqdm\n",
            "  Building wheel for prosodic (setup.py) ... \u001b[?25l\u001b[?25hdone\n",
            "  Created wheel for prosodic: filename=prosodic-1.6.1-py3-none-any.whl size=1165624 sha256=9010c1db668ddfa1dd5c6c32e193b47279f02bf5f8dad017ec9f0efb939dccdc\n",
            "  Stored in directory: /root/.cache/pip/wheels/37/3d/fc/a107da647d5e4cea24949a7966286fd5a5057732bb5b746750\n",
            "  Building wheel for p-tqdm (setup.py) ... \u001b[?25l\u001b[?25hdone\n",
            "  Created wheel for p-tqdm: filename=p_tqdm-1.3.3-py3-none-any.whl size=3987 sha256=a4f4a78099ae2283592a5ddf3c94e92e511b88548e6f7fac8f572413b965c1c7\n",
            "  Stored in directory: /root/.cache/pip/wheels/57/6c/d6/8c4cc7d253ecfdfe0fb49f5a754d33e9c2ce1664935325b1b6\n",
            "Successfully built prosodic p-tqdm\n",
            "Installing collected packages: ppft, pox, jarowinkler, rapidfuzz, pathos, Pyphen, p-tqdm, levenshtein, prosodic\n",
            "Successfully installed Pyphen-0.12.0 jarowinkler-1.2.0 levenshtein-0.19.2 p-tqdm-1.3.3 pathos-0.2.9 pox-0.3.1 ppft-1.7.6.5 prosodic-1.6.1 rapidfuzz-2.2.0\n"
          ]
        }
      ],
      "source": [
        "!pip3 install prosodic\n",
        "import prosodic\n"
      ]
    },
    {
      "cell_type": "code",
      "execution_count": null,
      "metadata": {
        "colab": {
          "base_uri": "https://localhost:8080/"
        },
        "id": "oCHH_mTgttCh",
        "outputId": "b9f7dc79-7a13-4d9b-b347-e728411a1529"
      },
      "outputs": [
        {
          "name": "stdout",
          "output_type": "stream",
          "text": [
            "[<Syllable.try> ['traɪ]]\n"
          ]
        }
      ],
      "source": [
        "import prosodic as p\n",
        "\n",
        "t = p.Text(\"Let's try the parser.\")\n",
        "\n",
        "print(t.words()[1].syllables())"
      ]
    },
    {
      "cell_type": "markdown",
      "metadata": {
        "id": "-gxyVVgSboEk"
      },
      "source": [
        "# Menzerath's law\n",
        "Longer words (for example, words that are composed of more sounds or syllables) are \n",
        "\n",
        "Why might that be?\n",
        "\n",
        "Altmann formalizes the law as follows (referred to as the **Menzerath-Altmann law**):\n",
        "$$y = a \\cdot x^b \\cdot e^{-cx} $$\n",
        "\n",
        "## Task\n",
        "For each sentence\n",
        "- record its length in words\n",
        "- record the length of each individual word\n",
        "- store the output in a `pandas` table of the following (\"long\") form.\n",
        "\n",
        "(We will use an example pair of sentences: \"How have you been?\" and \"Goodbye!\")\n",
        "\n",
        "|sent.length|word.length|word|\n",
        "|---|---|---|\n",
        "|4|3|how\n",
        "|4|4|have\n",
        "|4|3|you\n",
        "|4|4|been\n",
        "|1|7|goodbye\n",
        "\n",
        "- for now, just ignore punctuation. For a better challenge, try removing non-word characters\n",
        "- once you have your table, plot the results"
      ]
    },
    {
      "cell_type": "code",
      "execution_count": null,
      "metadata": {
        "id": "rwbsmF9786Sd"
      },
      "outputs": [],
      "source": [
        "from numpy import mean\n",
        "from random import sample\n",
        "\n",
        "def menzareth(corpus):\n",
        "  df = pd.DataFrame(columns = ['sent.len', 'mean.word.len'])\n",
        "  i = 0\n",
        "  file_ids = sample(corpus.fileids(), 500)\n",
        "  corpus_sents = corpus.sents(fileids = file_ids)\n",
        "  for sent in corpus_sents:\n",
        "    word_lens = []\n",
        "    sent_len = len(sent)\n",
        "    for word in sent:\n",
        "      word_lens += [len(word)]\n",
        "    mean_word_len = mean(word_lens)\n",
        "    df.loc[i] = [sent_len, mean_word_len]\n",
        "    i += 1\n",
        "  return(df)\n",
        "\n",
        "en_menz = menzareth(brown)\n",
        "jp_menz = menzareth(knbc)\n",
        "sp_menz = menzareth(cess_esp)"
      ]
    },
    {
      "cell_type": "markdown",
      "metadata": {
        "id": "goLf_g7MF8Hx"
      },
      "source": [
        "Now for some plots!"
      ]
    },
    {
      "cell_type": "code",
      "execution_count": null,
      "metadata": {
        "colab": {
          "base_uri": "https://localhost:8080/",
          "height": 373
        },
        "id": "hUzclhCnF-v4",
        "outputId": "f3a3caea-69d1-444b-a2c8-c20d4e27d8bb"
      },
      "outputs": [
        {
          "output_type": "display_data",
          "data": {
            "text/plain": [
              "<Figure size 360x360 with 1 Axes>"
            ],
            "image/png": "[encoded data removed]"
          },
          "metadata": {
            "needs_background": "light"
          }
        }
      ],
      "source": [
        "import seaborn as sns\n",
        "\n",
        "# English\n",
        "## Create the plot\n",
        "sp_menz_plot = sns.lmplot(x ='mean.word.len', y='sent.len', data=sp_menz, line_kws={'color': 'red'}, lowess=True, ci = 95)\n",
        "\n",
        "## Extract the plot\n",
        "fig = sp_menz_plot.fig \n",
        "\n",
        "## Add a title\n",
        "fig.suptitle(\"Spanish\", fontsize=12)\n",
        "\n",
        "## Show the plot\n",
        "fig.show()"
      ]
    },
    {
      "cell_type": "markdown",
      "metadata": {
        "id": "-XC9Ua7lc_Ez"
      },
      "source": [
        "# Heaps' law\n",
        "The number of unique units that one should find in a text (the **type count**) varies with respect to document length according to the following function:\n",
        "\n",
        "$$V_R(n) = Kn^B$$\n",
        "\n",
        "where $V_R$ is type count (*vocabulary size*), *n* is the length of document in units (words, phonemes, etc), and *K* and *B* are parameters which are tuned to fit the dataset. \n",
        "  \n",
        "The constant *K* is a positive real (e.g., 10) which causes $V_R(n)$ to grow linearly.\n",
        "  \n",
        "*B* typically falls between 0 and 1 to penalize the growth of the vocabulary estimate. \n",
        "\n",
        "Let's set K to 50 and B to 0.5. "
      ]
    },
    {
      "cell_type": "code",
      "execution_count": null,
      "metadata": {
        "id": "aaFg88Hrd2V2"
      },
      "outputs": [],
      "source": []
    }
  ],
  "metadata": {
    "colab": {
      "provenance": []
    },
    "kernelspec": {
      "display_name": "Python 3",
      "name": "python3"
    },
    "language_info": {
      "name": "python"
    }
  },
  "nbformat": 4,
  "nbformat_minor": 0
}