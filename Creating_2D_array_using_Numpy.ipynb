{
  "cells": [
    {
      "cell_type": "markdown",
      "id": "7855e98d",
      "metadata": {
        "id": "7855e98d"
      },
      "source": [
        "1. Create a two-dimensional array with two variables in Dallas Shooting: <br>\n",
        "subject outcome ['Injured', 'Injured', 'Deceased','Shoot and miss'] and<br>\n",
        "subject weapon ['handgun', 'hands', 'vehicle','shotgun']"
      ]
    },
    {
      "cell_type": "code",
      "execution_count": null,
      "id": "1cba9acf",
      "metadata": {
        "id": "1cba9acf"
      },
      "outputs": [],
      "source": [
        "import numpy as np\n"
      ]
    },
    {
      "cell_type": "code",
      "source": [
        "dallas=np.array([['injured','handgun'], ['injured', 'hands'], ['Deceased','vehicle'], ['Shoot and miss', 'shotgun']])"
      ],
      "metadata": {
        "id": "Fm5wAQk7Rv9p"
      },
      "id": "Fm5wAQk7Rv9p",
      "execution_count": null,
      "outputs": []
    },
    {
      "cell_type": "markdown",
      "id": "36438925",
      "metadata": {
        "id": "36438925"
      },
      "source": [
        "2. Slice the rows with 'injured' subject outcome."
      ]
    },
    {
      "cell_type": "code",
      "execution_count": null,
      "id": "38315dcf",
      "metadata": {
        "colab": {
          "base_uri": "https://localhost:8080/"
        },
        "id": "38315dcf",
        "outputId": "91a763fa-83b8-4a20-deff-492ac2fefbc2"
      },
      "outputs": [
        {
          "output_type": "execute_result",
          "data": {
            "text/plain": [
              "array([['injured', 'handgun'],\n",
              "       ['injured', 'hands']], dtype='<U14')"
            ]
          },
          "metadata": {},
          "execution_count": 5
        }
      ],
      "source": [
        "dallas[0:2,:]"
      ]
    },
    {
      "cell_type": "markdown",
      "id": "982adadc",
      "metadata": {
        "id": "982adadc"
      },
      "source": [
        "3. Create a mask array where weapon is shotgun."
      ]
    },
    {
      "cell_type": "code",
      "execution_count": null,
      "id": "1e036f93",
      "metadata": {
        "id": "1e036f93"
      },
      "outputs": [],
      "source": [
        "dallasmask=(dallas=='shotgun')"
      ]
    },
    {
      "cell_type": "code",
      "source": [
        "dallasmask"
      ],
      "metadata": {
        "id": "6j9MS3SZSw2X",
        "outputId": "4a066053-40eb-46f8-ffef-73e753cd0d34",
        "colab": {
          "base_uri": "https://localhost:8080/"
        }
      },
      "id": "6j9MS3SZSw2X",
      "execution_count": null,
      "outputs": [
        {
          "output_type": "execute_result",
          "data": {
            "text/plain": [
              "array([[False, False],\n",
              "       [False, False],\n",
              "       [False, False],\n",
              "       [False,  True]])"
            ]
          },
          "metadata": {},
          "execution_count": 8
        }
      ]
    }
  ],
  "metadata": {
    "kernelspec": {
      "display_name": "Python 3",
      "language": "python",
      "name": "python3"
    },
    "language_info": {
      "codemirror_mode": {
        "name": "ipython",
        "version": 3
      },
      "file_extension": ".py",
      "mimetype": "text/x-python",
      "name": "python",
      "nbconvert_exporter": "python",
      "pygments_lexer": "ipython3",
      "version": "3.8.8"
    },
    "colab": {
      "provenance": []
    }
  },
  "nbformat": 4,
  "nbformat_minor": 5
}