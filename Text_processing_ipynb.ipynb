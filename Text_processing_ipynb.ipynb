{
  "nbformat": 4,
  "nbformat_minor": 0,
  "metadata": {
    "colab": {
      "provenance": []
    },
    "language_info": {
      "name": "python"
    },
    "kernelspec": {
      "name": "python3",
      "display_name": "Python 3"
    }
  },
  "cells": [
    {
      "cell_type": "markdown",
      "source": [
        "#Chapter 2: First steps into text processing"
      ],
      "metadata": {
        "id": "Gv1Ma7wzhDcx"
      }
    },
    {
      "cell_type": "code",
      "source": [
        "drive.mount('/content/drive')\n",
        "path = '/content/drive/My Drive/austen-emma-excerpt.txt'\n"
      ],
      "metadata": {
        "colab": {
          "base_uri": "https://localhost:8080/"
        },
        "id": "mb4cvSjn1Uh4",
        "outputId": "f56d01e9-c6ca-412a-c3c1-fbfb39238bec"
      },
      "execution_count": null,
      "outputs": [
        {
          "output_type": "stream",
          "name": "stdout",
          "text": [
            "Mounted at /content/drive\n"
          ]
        }
      ]
    },
    {
      "cell_type": "code",
      "source": [
        "with open(path, \"r\") as f:\n",
        "  text = f.read()\n",
        "  f.close()"
      ],
      "metadata": {
        "id": "pg9e8HeDz-iP"
      },
      "execution_count": null,
      "outputs": []
    },
    {
      "cell_type": "code",
      "source": [
        "from google.colab import drive"
      ],
      "metadata": {
        "id": "V9zzjJWdx1y2"
      },
      "execution_count": null,
      "outputs": []
    },
    {
      "cell_type": "markdown",
      "source": [
        "-- *A Python Course for the Humanities by Folgert Karsdorp and Maarten van Gompel*"
      ],
      "metadata": {
        "id": "Zoj50RPkhDc2"
      }
    },
    {
      "cell_type": "markdown",
      "source": [
        "---"
      ],
      "metadata": {
        "id": "Oa7A02IghDc3"
      }
    },
    {
      "cell_type": "markdown",
      "source": [
        "The previous chapter has hopefully whet your appetite. In this chapter we will focus on one of the most important tasks in Humanities research: text processing. One of the goals of text processing is to clean up your data as a pre-step to some kind of data analysis. Another common goal is to convert a given text collection to a different format. In this chapter we will provide you with the necessary tools to work with collections of texts, clean them and perform some rudimentary data analyses on them."
      ],
      "metadata": {
        "id": "EvhEaF9xhDc3"
      }
    },
    {
      "cell_type": "markdown",
      "source": [
        "##Reading files"
      ],
      "metadata": {
        "id": "F-5ufrijhDc4"
      }
    },
    {
      "cell_type": "markdown",
      "source": [
        "Say you have a text stored on your computer. How can we read that text using Python? Python provides a really simple function called `open` with which we can read texts. In the folder `data` you find a couple of small text excerpts that we will use in this chapter. Go ahead and have a look at them. We can open these files with the following command:"
      ],
      "metadata": {
        "id": "Ng8LCx_hhDc4"
      }
    },
    {
      "cell_type": "code",
      "source": [
        "text = open('data/austen-emma-excerpt.txt')"
      ],
      "outputs": [
        {
          "output_type": "error",
          "ename": "FileNotFoundError",
          "evalue": "ignored",
          "traceback": [
            "\u001b[0;31m---------------------------------------------------------------------------\u001b[0m",
            "\u001b[0;31mFileNotFoundError\u001b[0m                         Traceback (most recent call last)",
            "\u001b[0;32m<ipython-input-17-44f4eb05a759>\u001b[0m in \u001b[0;36m<module>\u001b[0;34m\u001b[0m\n\u001b[0;32m----> 1\u001b[0;31m \u001b[0mtext\u001b[0m \u001b[0;34m=\u001b[0m \u001b[0mopen\u001b[0m\u001b[0;34m(\u001b[0m\u001b[0;34m'data/austen-emma-excerpt.txt'\u001b[0m\u001b[0;34m)\u001b[0m\u001b[0;34m\u001b[0m\u001b[0;34m\u001b[0m\u001b[0m\n\u001b[0m",
            "\u001b[0;31mFileNotFoundError\u001b[0m: [Errno 2] No such file or directory: 'data/austen-emma-excerpt.txt'"
          ]
        }
      ],
      "metadata": {
        "id": "tO7QUYqmhDc5",
        "colab": {
          "base_uri": "https://localhost:8080/",
          "height": 165
        },
        "outputId": "8ddc85da-ff13-4244-c242-e67a0c98a82e"
      },
      "execution_count": null
    },
    {
      "cell_type": "markdown",
      "source": [
        "We now print `infile`. What do you think that will happen?"
      ],
      "metadata": {
        "id": "gT8S6KEFhDc7"
      }
    },
    {
      "cell_type": "code",
      "source": [
        "print(text)"
      ],
      "outputs": [
        {
          "output_type": "stream",
          "name": "stdout",
          "text": [
            "Emma by Jane Austen 1816\n",
            "\n",
            "VOLUME I\n",
            "\n",
            "CHAPTER I\n",
            "\n",
            "\n",
            "Emma Woodhouse, handsome, clever, and rich, with a comfortable home\n",
            "and happy disposition, seemed to unite some of the best blessings\n",
            "of existence; and had lived nearly twenty-one years in the world\n",
            "with very little to distress or vex her.\n",
            "\n",
            "She was the youngest of the two daughters of a most affectionate,\n",
            "indulgent father; and had, in consequence of her sister's marriage,\n",
            "been mistress of his house from a very early period.  Her mother\n",
            "had died too long ago for her to have more than an indistinct\n",
            "remembrance of her caresses; and her place had been supplied\n",
            "by an excellent woman as governess, who had fallen little short\n",
            "of a mother in affection.\n"
          ]
        }
      ],
      "metadata": {
        "id": "wGo9X24mhDc7",
        "colab": {
          "base_uri": "https://localhost:8080/"
        },
        "outputId": "4046ae30-2459-418d-a645-f1f99d3f5948"
      },
      "execution_count": null
    },
    {
      "cell_type": "markdown",
      "source": [
        "\"Hey! That's not what I expected to happen!\", you might think. Python is not printing the contents of the file but only some mysterious mention of some `TextIOWrapper`. This `TextIOWrapper` thing is Python's way of saying it has *opened* a connection to the file `data/austen-emma-excerpt.txt`. In order to *read* the contents of the file we must add the function `read` as follows:"
      ],
      "metadata": {
        "id": "Oqu0jgVMhDc8"
      }
    },
    {
      "cell_type": "code",
      "source": [
        "print(infile.read())"
      ],
      "outputs": [
        {
          "output_type": "error",
          "ename": "NameError",
          "evalue": "ignored",
          "traceback": [
            "\u001b[0;31m---------------------------------------------------------------------------\u001b[0m",
            "\u001b[0;31mNameError\u001b[0m                                 Traceback (most recent call last)",
            "\u001b[0;32m<ipython-input-16-a1c0dbc7ac31>\u001b[0m in \u001b[0;36m<module>\u001b[0;34m\u001b[0m\n\u001b[0;32m----> 1\u001b[0;31m \u001b[0mprint\u001b[0m\u001b[0;34m(\u001b[0m\u001b[0minfile\u001b[0m\u001b[0;34m.\u001b[0m\u001b[0mread\u001b[0m\u001b[0;34m(\u001b[0m\u001b[0;34m)\u001b[0m\u001b[0;34m)\u001b[0m\u001b[0;34m\u001b[0m\u001b[0;34m\u001b[0m\u001b[0m\n\u001b[0m",
            "\u001b[0;31mNameError\u001b[0m: name 'infile' is not defined"
          ]
        }
      ],
      "metadata": {
        "id": "NAfGxYLohDc8",
        "colab": {
          "base_uri": "https://localhost:8080/",
          "height": 165
        },
        "outputId": "2e1f3755-bcc9-4760-d118-e2a9e053cb0d"
      },
      "execution_count": null
    },
    {
      "cell_type": "markdown",
      "source": [
        "`read` is a function that operates on `TextWrapper` objects and allows us to read the contents of a file into Python. Let's assign the contents of the file to the variable `text`:"
      ],
      "metadata": {
        "id": "oe3QoNPHhDc8"
      }
    },
    {
      "cell_type": "code",
      "source": [
        "infile = open('data/austen-emma-excerpt.txt')\n",
        "text = infile.read()"
      ],
      "outputs": [
        {
          "output_type": "error",
          "ename": "FileNotFoundError",
          "evalue": "ignored",
          "traceback": [
            "\u001b[0;31m---------------------------------------------------------------------------\u001b[0m",
            "\u001b[0;31mFileNotFoundError\u001b[0m                         Traceback (most recent call last)",
            "\u001b[0;32m<ipython-input-22-7729ce21cd54>\u001b[0m in \u001b[0;36m<module>\u001b[0;34m\u001b[0m\n\u001b[0;32m----> 1\u001b[0;31m \u001b[0minfile\u001b[0m \u001b[0;34m=\u001b[0m \u001b[0mopen\u001b[0m\u001b[0;34m(\u001b[0m\u001b[0;34m'data/austen-emma-excerpt.txt'\u001b[0m\u001b[0;34m)\u001b[0m\u001b[0;34m\u001b[0m\u001b[0;34m\u001b[0m\u001b[0m\n\u001b[0m\u001b[1;32m      2\u001b[0m \u001b[0mtext\u001b[0m \u001b[0;34m=\u001b[0m \u001b[0minfile\u001b[0m\u001b[0;34m.\u001b[0m\u001b[0mread\u001b[0m\u001b[0;34m(\u001b[0m\u001b[0;34m)\u001b[0m\u001b[0;34m\u001b[0m\u001b[0;34m\u001b[0m\u001b[0m\n",
            "\u001b[0;31mFileNotFoundError\u001b[0m: [Errno 2] No such file or directory: 'data/austen-emma-excerpt.txt'"
          ]
        }
      ],
      "metadata": {
        "id": "-bFVGzxFhDc9",
        "colab": {
          "base_uri": "https://localhost:8080/",
          "height": 183
        },
        "outputId": "b4b7c158-3763-496f-9817-67ae1e833e91"
      },
      "execution_count": null
    },
    {
      "cell_type": "code",
      "source": [
        "with open(path, \"w\") as f:\n",
        "  text = f.write(text)\n",
        "  f.close()"
      ],
      "metadata": {
        "id": "WknC3Nci1l-J"
      },
      "execution_count": null,
      "outputs": []
    },
    {
      "cell_type": "markdown",
      "source": [
        "The variable `text` now holds the contents of the file `data/austen-emma-excerpt.txt` and we can access and manipulate it just like any other string. After we read the contents of a file, the `TextWrapper` no longer needs to be open. In fact, it is good practice to close it as soon as you do not need it anymore. Now, lo and behold, we can achieve that with the following:"
      ],
      "metadata": {
        "id": "84FIwJ-HhDc-"
      }
    },
    {
      "cell_type": "code",
      "source": [
        "infile.close()"
      ],
      "outputs": [
        {
          "output_type": "error",
          "ename": "NameError",
          "evalue": "ignored",
          "traceback": [
            "\u001b[0;31m---------------------------------------------------------------------------\u001b[0m",
            "\u001b[0;31mNameError\u001b[0m                                 Traceback (most recent call last)",
            "\u001b[0;32m<ipython-input-18-7d3a3162b7a2>\u001b[0m in \u001b[0;36m<module>\u001b[0;34m\u001b[0m\n\u001b[0;32m----> 1\u001b[0;31m \u001b[0minfile\u001b[0m\u001b[0;34m.\u001b[0m\u001b[0mclose\u001b[0m\u001b[0;34m(\u001b[0m\u001b[0;34m)\u001b[0m\u001b[0;34m\u001b[0m\u001b[0;34m\u001b[0m\u001b[0m\n\u001b[0m",
            "\u001b[0;31mNameError\u001b[0m: name 'infile' is not defined"
          ]
        }
      ],
      "metadata": {
        "id": "flvxxTdnhDc-",
        "colab": {
          "base_uri": "https://localhost:8080/",
          "height": 165
        },
        "outputId": "d19fe8c7-2ce5-4ea2-cc28-cf184fa36b80"
      },
      "execution_count": null
    },
    {
      "cell_type": "code",
      "source": [
        "with open(path, \"r\") as f:\n",
        "  text = f.read()\n",
        "  f.close()"
      ],
      "metadata": {
        "id": "mj-oYylN0_bo"
      },
      "execution_count": null,
      "outputs": []
    },
    {
      "cell_type": "markdown",
      "source": [
        "---"
      ],
      "metadata": {
        "id": "J2fAf3DJhDc_"
      }
    },
    {
      "cell_type": "markdown",
      "source": [
        "####Quiz!"
      ],
      "metadata": {
        "id": "n5NPLBa4hDdA"
      }
    },
    {
      "cell_type": "markdown",
      "source": [
        "Just to recap some of the stuff we learnt in the previous chapter. Can you write code that defines the variable `number_of_es` and counts how many times the letter *e* occurs in `text`? (Tip: use a `for` loop and an `if` statement)"
      ],
      "metadata": {
        "id": "kHfxJiw1hDdA"
      }
    },
    {
      "cell_type": "code",
      "source": [
        "number_of_es = 0\n",
        "# insert your code here\n",
        "\n",
        "# The following test should print True if your code is correct \n",
        "print(number_of_es == 78)"
      ],
      "outputs": [
        {
          "output_type": "stream",
          "name": "stdout",
          "text": [
            "False\n"
          ]
        }
      ],
      "metadata": {
        "id": "yQX-289zhDdA",
        "colab": {
          "base_uri": "https://localhost:8080/"
        },
        "outputId": "abf26a83-f7e6-408f-a598-a3bcc1003589"
      },
      "execution_count": null
    },
    {
      "cell_type": "markdown",
      "source": [
        "---"
      ],
      "metadata": {
        "id": "mplVcDMLhDdB"
      }
    },
    {
      "cell_type": "markdown",
      "source": [
        "##Writing our first function"
      ],
      "metadata": {
        "id": "MZdVGKYShDdB"
      }
    },
    {
      "cell_type": "markdown",
      "source": [
        "In the previous quiz, you probably wrote a loop that iterates over all characters in `text` and adds 1 to `number_of_es` each time the program finds the letter *e*. Counting objects in a text is a very common thing to do. Therefore, Python provides the convenient function `count`. This function operates on strings (`somestring.count(argument)`) and takes as argument the object you want to count. Using this function, the solution to the quiz above can now be rewritten as follows:"
      ],
      "metadata": {
        "id": "gvH0pmYghDdC"
      }
    },
    {
      "cell_type": "code",
      "source": [
        "number_of_es = text.count(\"e\")\n",
        "print(number_of_es)"
      ],
      "outputs": [],
      "metadata": {
        "id": "oaRs6_m5hDdC"
      },
      "execution_count": null
    },
    {
      "cell_type": "markdown",
      "source": [
        "In fact, `count` takes as argument any string you would like to find. We could just as well count how often the determiner `an` occurs:"
      ],
      "metadata": {
        "id": "tjWnMyemhDdC"
      }
    },
    {
      "cell_type": "code",
      "source": [
        "print(text.count(\"an\"))"
      ],
      "outputs": [],
      "metadata": {
        "id": "PKo8st2UhDdD"
      },
      "execution_count": null
    },
    {
      "cell_type": "markdown",
      "source": [
        "The string `an` is found 12 times in our text. Does that mean that the word *an* occurs 12 times in our text? Go ahead. Count it yourself. In fact, *an* occurs only twice... Think about this. Why does Python print 12?\n",
        "\n",
        "If we want to count how often the word *an* occurs in the text and not the string `an`, we could surround *an* with spaces, like the following:"
      ],
      "metadata": {
        "id": "bVz5k9t3hDdD"
      }
    },
    {
      "cell_type": "code",
      "source": [
        "print(text.count(\" an \"))"
      ],
      "outputs": [],
      "metadata": {
        "id": "T4PeufHWhDdE"
      },
      "execution_count": null
    },
    {
      "cell_type": "markdown",
      "source": [
        "Although it gets the job done in this particular case, it is generally not a very solid way of counting words in a text. What if there are instances of *an* followed by a semicolon or some end-of-sentence marker? Then we would need to query the text multiple times for each possible context of *an*. For that reason, we're going to approach the problem using a different, more sophisticated strategy. \n",
        "\n",
        "Recall from the previous chapter the function `split`. What does this function do? The function `split` operates on a string and splits a string on spaces and returns a list of smaller strings (or words):"
      ],
      "metadata": {
        "id": "ePpsuq-NhDdE"
      }
    },
    {
      "cell_type": "code",
      "source": [
        "print(text.split())"
      ],
      "outputs": [],
      "metadata": {
        "id": "pSMkX51OhDdE"
      },
      "execution_count": null
    },
    {
      "cell_type": "markdown",
      "source": [
        "---"
      ],
      "metadata": {
        "id": "dgcaYIrAhDdF"
      }
    },
    {
      "cell_type": "markdown",
      "source": [
        "####Quiz!"
      ],
      "metadata": {
        "id": "uY0YlT8nhDdF"
      }
    },
    {
      "cell_type": "markdown",
      "source": [
        "All the things you have learnt so far should enable you to write code that counts how often a certain items occurs in a list. Write some code that defines the variable `number_of_hits` and counts how often the word *in* (assigned to `item_to_count`) occurs in the the list of words called `words`."
      ],
      "metadata": {
        "id": "xXEv2AQ0hDdG"
      }
    },
    {
      "cell_type": "code",
      "source": [
        "words = text.split()\n",
        "number_of_hits = 0\n",
        "item_to_count = \"in\"\n",
        "# insert your code here\n",
        "\n",
        "# The following test should print True if your code is correct \n",
        "print(number_of_hits == 3)"
      ],
      "outputs": [],
      "metadata": {
        "id": "HsX6dHSZhDdI"
      },
      "execution_count": null
    },
    {
      "cell_type": "markdown",
      "source": [
        "---"
      ],
      "metadata": {
        "id": "VH5r6q9zhDdJ"
      }
    },
    {
      "cell_type": "markdown",
      "source": [
        "We will go through the previous quiz step by step. We would like to know how often the preposition *in* occurs in our text. As a first step we will split the string `text` into a list of words:"
      ],
      "metadata": {
        "id": "BkRQ64lYhDdK"
      }
    },
    {
      "cell_type": "code",
      "source": [
        "words = text.split()"
      ],
      "outputs": [],
      "metadata": {
        "id": "jCshR1hchDdL"
      },
      "execution_count": null
    },
    {
      "cell_type": "markdown",
      "source": [
        "Next we define a variable `number_of_hits` and set it to zero."
      ],
      "metadata": {
        "id": "NOE7VeZHhDdM"
      }
    },
    {
      "cell_type": "code",
      "source": [
        "number_of_hits = 0"
      ],
      "outputs": [],
      "metadata": {
        "id": "YZ45KShChDdM"
      },
      "execution_count": null
    },
    {
      "cell_type": "markdown",
      "source": [
        "The final step is to loop over all words in `words` and add 1 to `number_of_ins` if we find a word that is equal to `in`:"
      ],
      "metadata": {
        "id": "gK86K5B8hDdM"
      }
    },
    {
      "cell_type": "code",
      "source": [
        "item_to_count = \"in\"\n",
        "for word in words:\n",
        "    if word == item_to_count:\n",
        "        number_of_hits += 1\n",
        "print(number_of_hits)"
      ],
      "outputs": [],
      "metadata": {
        "id": "YsKifmIjhDdN"
      },
      "execution_count": null
    },
    {
      "cell_type": "markdown",
      "source": [
        "Now, say we would like to know how often the word *of* occurs in our text. We could adapt the previous lines of code to search for the word *of*, but what if we also would like to count the number of times *the* occurs, and *house* and *had* and... It would be really cumbersome to repeat all these lines of code for each particular search term we have. Programming is supposed to reduce our workload, not increase it. Just like the function `count` for strings, we would like to have a function that operates on lists, takes as argument the object we would like to count and returns the number of times this object occurs in our list.\n",
        "\n",
        "In this and the previous chapter you have already seen lots of functions. A function does something, often based on some argument you pass to it, and generally returns a result. You are not just limited to using functions in the standard library but you can write your own functions.\n",
        "\n",
        "In fact, you *must* write your own functions. Separating your problem into sub-problems and writing a function for each of those is an immensely important part of well-structured programming. Functions are defined using the `def` keyword, they take a name and optionally a number of parameters. \n",
        "\n",
        "    def some_name(optional_parameters):\n",
        "\n",
        "The `return` statement returns a value back to the caller and always ends the execution of the function. \n",
        "\n",
        "Going back to our problem, we want to write a function called `count_in_list`. It takes two arguments: (1) the object we would like to count and (2) the list in which we want to count that object. Let's write down the function definition in Python:\n",
        "\n",
        "    def count_in_list(item_to_count, list_to_search):\n",
        "    \n",
        "Do you understand all the syntax and keywords in the definition above? Now all we need to do is to add the lines of code we wrote before to the body of this function:"
      ],
      "metadata": {
        "id": "sC_P34PohDdN"
      }
    },
    {
      "cell_type": "code",
      "source": [
        "def count_in_list(item_to_count, list_to_search): \n",
        "    number_of_hits = 0                            \n",
        "    for item in list_to_search:                   \n",
        "        if item == item_to_count:                 \n",
        "            number_of_hits += 1                   \n",
        "    return number_of_hits                         "
      ],
      "outputs": [],
      "metadata": {
        "id": "ZSffzlrRhDdO"
      },
      "execution_count": null
    },
    {
      "cell_type": "markdown",
      "source": [
        "All code should be familiar to you, except the `return` keyword. The `return` keyword is there to tell python to return as a result of calling the function the argument `number_of_hits`. OK, let's go through our function one more time, just to make sure you really understand all of it.\n",
        "\n",
        "1. First we define a function using `def` and give it the name `count_in_list` (line 1);\n",
        "2. This function takes two arguments: `item_to_count` and `list_to_search` (line 1);\n",
        "3. Within the function, we define a variable `number_of_hits` and assign to it the value zero (since at that stage we haven't found anything yet (line 2));\n",
        "4. We loop over all words in `list_to_search` (line 3);\n",
        "5. If we find a word that is equal to `item_to_count` (line 4), we add 1 to `number_of_hits` (line 5);\n",
        "6. Return the result of `number_of_hits` (line 6).\n",
        "\n",
        "Let's test our little function! We will first count how often the word *an* occurs in our list of words `words`."
      ],
      "metadata": {
        "id": "uni-DJgUhDdP"
      }
    },
    {
      "cell_type": "code",
      "source": [
        "print(count_in_list(\"an\", words))"
      ],
      "outputs": [],
      "metadata": {
        "id": "aR5Wzf1lhDdP"
      },
      "execution_count": null
    },
    {
      "cell_type": "markdown",
      "source": [
        "---"
      ],
      "metadata": {
        "id": "Ldz0i7BThDdQ"
      }
    },
    {
      "cell_type": "markdown",
      "source": [
        "####Quiz!"
      ],
      "metadata": {
        "id": "7Xl1ttpjhDdQ"
      }
    },
    {
      "cell_type": "markdown",
      "source": [
        "Using the function we defined, print how often the word *the* occurs in our text"
      ],
      "metadata": {
        "id": "4HMNXuQ-hDdQ"
      }
    },
    {
      "cell_type": "code",
      "source": [
        "# insert your code here"
      ],
      "outputs": [],
      "metadata": {
        "id": "3x1BN5e0hDdQ"
      },
      "execution_count": null
    },
    {
      "cell_type": "markdown",
      "source": [
        "---"
      ],
      "metadata": {
        "id": "Tc0kQgpxhDdQ"
      }
    },
    {
      "cell_type": "markdown",
      "source": [
        "##A more general count function"
      ],
      "metadata": {
        "id": "89DvKG2bhDdR"
      }
    },
    {
      "cell_type": "markdown",
      "source": [
        "Our function `count_in_list` is a concise and convenient piece of code allowing us to rapidly and without too much repitition count how often certain items occur in a given list. Now what if we would like to find out for all words in our text how often they occur. Then it would be still quite cumbersome to call our function for each unique word. We would like to have a function that takes as argument a particular list and counts for each unique item in that list how often it occurs. There are multiple ways of writing such a function. We will show you two ways of doing it."
      ],
      "metadata": {
        "id": "SCM0VfWahDdR"
      }
    },
    {
      "cell_type": "markdown",
      "source": [
        "###A count function (take 1)"
      ],
      "metadata": {
        "id": "ouj4E92xhDdR"
      }
    },
    {
      "cell_type": "markdown",
      "source": [
        "In the previous chapter you have acquainted yourself with the `dictionary` structure. Recall that a dictionary consists of keys and values and allows you to quickly lookup a value. We will use a dictionary to write the function `counter` that takes as argument a list and returns a `dictionary` with `keys` for each unique item and `values` showing the number of times it occurs in the list. We will first write some code without the function declaration. If that works, we will add it, just as before, to the body of a function.\n",
        "\n",
        "We start with defining a variable `counts` which is an empty dictionary:"
      ],
      "metadata": {
        "id": "GCwd1eKFhDdR"
      }
    },
    {
      "cell_type": "code",
      "source": [
        "counts = {}"
      ],
      "outputs": [],
      "metadata": {
        "id": "4XisAHCBhDdS"
      },
      "execution_count": null
    },
    {
      "cell_type": "markdown",
      "source": [
        "Next we will loop over all words in our list `words`. For each word, we check whether the dictionary already contains it. If so, we add 1 to its value. If not, we add the word to the dictionary and assign to it the value 1."
      ],
      "metadata": {
        "id": "LkkHjnxJhDdS"
      }
    },
    {
      "cell_type": "code",
      "source": [
        "for word in words:\n",
        "    if word in counts:\n",
        "        counts[word] = counts[word] + 1\n",
        "    else:\n",
        "        counts[word] = 1\n",
        "print(counts)"
      ],
      "outputs": [],
      "metadata": {
        "id": "23c8IffIhDdS"
      },
      "execution_count": null
    },
    {
      "cell_type": "markdown",
      "source": [
        "If you don't remember anymore how dictionaries work, go back to the previous chapter and read the part about dictionaries once more.\n",
        "\n",
        "Now that our code is working, we can add it to a function. We define the function `counter` using the `def` keyword. It takes one argument (`list_to_search`)."
      ],
      "metadata": {
        "id": "hEMX_QH4hDdS"
      }
    },
    {
      "cell_type": "code",
      "source": [
        "def counter(list_to_search):                 \n",
        "    counts = {}                              \n",
        "    for word in list_to_search:              \n",
        "        if word in counts:                   \n",
        "            counts[word] = counts[word] + 1  \n",
        "        else:                                \n",
        "            counts[word] = 1                 \n",
        "    return counts                            "
      ],
      "outputs": [],
      "metadata": {
        "id": "lr7XlhQQhDdS"
      },
      "execution_count": null
    },
    {
      "cell_type": "markdown",
      "source": [
        "Hopefully we are boring you, but let's go through this function step by step.\n",
        "\n",
        "1. We define a function using `def` and give it the name `counter` (line 1);\n",
        "2. This function takes a single argument `list_to_search` which is the list we want to search through (line 1);\n",
        "3. Next we define a variable `counts` which is an empty dictionary (line 2);\n",
        "4. We loop over all words in `list_to_search` (line 3);\n",
        "5. If the word is already in `counts`, we look up its current value and add 1 to it (line 4-5);\n",
        "6. If the word is not in `counts` (else clause), we add the word to the dictionary and assign it the value 1 (line 6-7);\n",
        "7. Return the result of counts (line 8);\n",
        "\n",
        "Let's try out our new function!"
      ],
      "metadata": {
        "id": "L9b95QouhDdT"
      }
    },
    {
      "cell_type": "code",
      "source": [
        "print(counter(words))"
      ],
      "outputs": [],
      "metadata": {
        "id": "ISN8zJIHhDdT"
      },
      "execution_count": null
    },
    {
      "cell_type": "markdown",
      "source": [
        "---"
      ],
      "metadata": {
        "id": "PeJ2s_O4hDdT"
      }
    },
    {
      "cell_type": "markdown",
      "source": [
        "####Quiz!"
      ],
      "metadata": {
        "id": "T14QTfd9hDdT"
      }
    },
    {
      "cell_type": "markdown",
      "source": [
        "Let's put some of the stuff we learnt so far together. What we want you to do is to read into Python the file `data/austen-emma.txt`, convert it to a list of words and assign to the variable `emma_count` how often the word *Emma* occurs in the text."
      ],
      "metadata": {
        "id": "INxLYEhFhDdT"
      }
    },
    {
      "cell_type": "code",
      "source": [
        "emma_count = 0\n",
        "# insert you code here\n",
        "\n",
        "# The following test should print True if your code is correct \n",
        "print(emma_count == 481)"
      ],
      "outputs": [],
      "metadata": {
        "id": "F_jiiw1HhDdU"
      },
      "execution_count": null
    },
    {
      "cell_type": "markdown",
      "source": [
        "---"
      ],
      "metadata": {
        "id": "Lf1iHsYwhDdU"
      }
    },
    {
      "cell_type": "markdown",
      "source": [
        "###A count function (take 2)"
      ],
      "metadata": {
        "id": "yrgFotjkhDdU"
      }
    },
    {
      "cell_type": "markdown",
      "source": [
        "Let's train our function writing skills a little more. We are going to write another counting function, this time using a slightly different strategy. Recall our function `count_in_list`. It takes as argument a list and the item we want to count in that list. It returns the number of times this item occurs in the list. If we call this function for each unique word in `words`, we obtain a list of frequencies, quite similar to the one we get from the function `counter`. What would happen if we just call the function `count_in_list` on each word in `words`? "
      ],
      "metadata": {
        "id": "vkWzC4pYhDdV"
      }
    },
    {
      "cell_type": "code",
      "source": [
        "infile = open('data/austen-emma-excerpt.txt')\n",
        "text = infile.read()\n",
        "infile.close()\n",
        "words = text.split()\n",
        "\n",
        "for word in words:\n",
        "    print(word, count_in_list(word, words))"
      ],
      "outputs": [],
      "metadata": {
        "id": "UdkCLWPyhDdV"
      },
      "execution_count": null
    },
    {
      "cell_type": "markdown",
      "source": [
        "As you can see, we obtain the frequency of each word token in `words`, where we would like to have it only for unique word forms. The challenge is thus to come up with a way to convert our list of words into a structure with solely unique words. For this Python provides a convenient data structure called `set`. It takes as argument some iterable (e.g. a list) and returns a new object containing only unique items:"
      ],
      "metadata": {
        "id": "AB1jSaBOhDdV"
      }
    },
    {
      "cell_type": "code",
      "source": [
        "x = ['a', 'a', 'b', 'b', 'c', 'c', 'c']\n",
        "unique_x = set(x)\n",
        "print(unique_x)"
      ],
      "outputs": [],
      "metadata": {
        "id": "V3aH3MQ_hDdV"
      },
      "execution_count": null
    },
    {
      "cell_type": "markdown",
      "source": [
        "Using `set` we can iterate over all unique words in our word list and print the corresponding frequency:"
      ],
      "metadata": {
        "id": "JvPYNpEmhDdW"
      }
    },
    {
      "cell_type": "code",
      "source": [
        "unique_words = set(words)\n",
        "for word in unique_words:\n",
        "    print(word, count_in_list(word, words))"
      ],
      "outputs": [],
      "metadata": {
        "id": "9KdBB3JxhDdW"
      },
      "execution_count": null
    },
    {
      "cell_type": "markdown",
      "source": [
        "We wrap the lines of code above into the function `counter2`:"
      ],
      "metadata": {
        "id": "2A4Fqfb3hDdW"
      }
    },
    {
      "cell_type": "code",
      "source": [
        "def counter2(list_to_search):\n",
        "    unique_words = set(list_to_search)\n",
        "    for word in unique_words:\n",
        "        print(word, count_in_list(word, list_to_search))"
      ],
      "outputs": [],
      "metadata": {
        "id": "YWdS_a8thDdW"
      },
      "execution_count": null
    },
    {
      "cell_type": "markdown",
      "source": [
        "A final check to see whether our function behaves correctly:"
      ],
      "metadata": {
        "id": "7k_df0x5hDdW"
      }
    },
    {
      "cell_type": "code",
      "source": [
        "counter2(words)"
      ],
      "outputs": [],
      "metadata": {
        "id": "kSgkpWH8hDdW"
      },
      "execution_count": null
    },
    {
      "cell_type": "markdown",
      "source": [
        "---"
      ],
      "metadata": {
        "id": "LxOu_nSbhDdX"
      }
    },
    {
      "cell_type": "markdown",
      "source": [
        "####Quiz!"
      ],
      "metadata": {
        "id": "alLsOKbYhDdX"
      }
    },
    {
      "cell_type": "markdown",
      "source": [
        "We have written two functions `counter` and `counter2`, both used to count for each unique item in a particular list how often it occurs in that list. Can you come up with some pros and cons for each function? Why is `counter2` better than `counter` or why is `counter` better than `counter2`?"
      ],
      "metadata": {
        "id": "lfqjVFuahDdX"
      }
    },
    {
      "cell_type": "markdown",
      "source": [
        "*Double click this cell and write down your answer.*"
      ],
      "metadata": {
        "id": "dW8lPuE3hDdX"
      }
    },
    {
      "cell_type": "markdown",
      "source": [
        "---"
      ],
      "metadata": {
        "id": "A-gcq5PHhDdX"
      }
    },
    {
      "cell_type": "markdown",
      "source": [
        "##Text clean up"
      ],
      "metadata": {
        "id": "-H6Ppc3VhDdX"
      }
    },
    {
      "cell_type": "markdown",
      "source": [
        "In the previous section we wrote code to compute a frequency distribution of the words in a text stored on our computer. The function `split` is a quick and dirty way of splitting a string into a list of words. However, if we look through the frequency distributions, we notice quite an amount of noise. For instance, the pronoun *her* occurs 4 times, but we also find `her.` occurring 1 time and the capitalized `Her`, also 1 time. Of course we would like to add those counts to that of *her*. As it appears, the tokenization of our text using `split` is fast and simple, but it leaves us with noisy and incorrect frequency distributions. \n",
        "\n",
        "There are essentially two strategies to follow to correct our frequency distributions. The first is to come up with a better procedure of splitting our text into words. The second is to clean-up our text and pass this clean result to the convenient `split` function. For now we will follow the second path.\n",
        "\n",
        "Some words in our text are capitalized. To lowercase these words, Python provides the function `lower`. It operates on strings:"
      ],
      "metadata": {
        "id": "65JQ9744hDdY"
      }
    },
    {
      "cell_type": "code",
      "source": [
        "x = 'Emma'\n",
        "x_lower = x.lower()\n",
        "print(x_lower)"
      ],
      "outputs": [],
      "metadata": {
        "id": "BmnJmPRthDdY"
      },
      "execution_count": null
    },
    {
      "cell_type": "markdown",
      "source": [
        "We can apply this function to our complete text to obtain a completely lowercased text, using:"
      ],
      "metadata": {
        "id": "MyYW7ixIhDdY"
      }
    },
    {
      "cell_type": "code",
      "source": [
        "text_lower = text.lower()\n",
        "print(text_lower)"
      ],
      "outputs": [],
      "metadata": {
        "id": "-9Ls_fkWhDdY"
      },
      "execution_count": null
    },
    {
      "cell_type": "markdown",
      "source": [
        "This solves our problem with miscounting capitalized words, leaving us with the problem of punctuation. The function `replace` is just the function we're looking for. It takes two arguments: (1) the string we would like to replace and (2) the string we want to replace the first argument with:"
      ],
      "metadata": {
        "id": "3m345RMPhDdY"
      }
    },
    {
      "cell_type": "code",
      "source": [
        "x = 'Please. remove. all. dots. from. this. sentence.'\n",
        "x = x.replace(\".\", \"\")\n",
        "print(x)"
      ],
      "outputs": [],
      "metadata": {
        "id": "uwQUEimzhDdY"
      },
      "execution_count": null
    },
    {
      "cell_type": "markdown",
      "source": [
        "Notice that we replace all dots with an empty string written as `\"\"`. "
      ],
      "metadata": {
        "id": "kIVo1liWhDdZ"
      }
    },
    {
      "cell_type": "markdown",
      "source": [
        "---"
      ],
      "metadata": {
        "id": "ENFq9_V4hDdZ"
      }
    },
    {
      "cell_type": "markdown",
      "source": [
        "####Quiz!"
      ],
      "metadata": {
        "id": "hugRMizkhDdZ"
      }
    },
    {
      "cell_type": "markdown",
      "source": [
        "Write code that to lowercase and remove all commas in the following short text:"
      ],
      "metadata": {
        "id": "6hi6FAYHhDdZ"
      }
    },
    {
      "cell_type": "code",
      "source": [
        "short_text = \"Commas, as it turns out, are so much overestimated.\"\n",
        "# insert your code here\n",
        "\n",
        "# The following test should print True if your code is correct \n",
        "print(short_text == \"commas as it turns out are so much overestimated.\")"
      ],
      "outputs": [],
      "metadata": {
        "id": "CRbLhl2YhDdZ"
      },
      "execution_count": null
    },
    {
      "cell_type": "markdown",
      "source": [
        "---"
      ],
      "metadata": {
        "id": "WVR8rXLzhDdZ"
      }
    },
    {
      "cell_type": "markdown",
      "source": [
        "We would like to remove all punctuation from a text, not just dots and commas. We will write a function called `remove_punc` that removes all (simple) punctuation from a text. Again, there are many ways in which we can write this function. We will show you two of them. The first strategy is to repeatedly call `replace` on the same string each time replacing a different punctuation character with an empty string. "
      ],
      "metadata": {
        "id": "LNcsf9YAhDda"
      }
    },
    {
      "cell_type": "code",
      "source": [
        "def remove_punc(text):\n",
        "    punctuation = '!@#$%^&*()_-+={}[]:;\"\\'|<>,.?/~`'\n",
        "    for marker in punctuation:\n",
        "        text = text.replace(marker, \"\")\n",
        "    return text\n",
        "\n",
        "short_text = \"Commas, as it turns out, are overestimated. Dots, however, even more so!\"\n",
        "print(remove_punc(short_text))"
      ],
      "outputs": [],
      "metadata": {
        "id": "J9lu3CgMhDda"
      },
      "execution_count": null
    },
    {
      "cell_type": "markdown",
      "source": [
        "The second strategy we will follow is to show you that we can achieve the same result without using the built in function `replace`. Remember that a string consists of characters. We can loop over a string accessing each character in turn. Each time we find a punctuation marker we skip to the next character."
      ],
      "metadata": {
        "id": "aekTBIqThDda"
      }
    },
    {
      "cell_type": "code",
      "source": [
        "def remove_punc2(text):\n",
        "    punctuation = '!@#$%^&*()_-+={}[]:;\"\\'|<>,.?/~`'\n",
        "    clean_text = \"\"\n",
        "    for character in text:\n",
        "        if character not in punctuation:\n",
        "            clean_text += character\n",
        "    return clean_text\n",
        "\n",
        "short_text = \"Commas, as it turns out, are overestimated. Dots, however, even more so!\"\n",
        "print(remove_punc2(short_text))"
      ],
      "outputs": [],
      "metadata": {
        "id": "Jkzf2SnVhDda"
      },
      "execution_count": null
    },
    {
      "cell_type": "markdown",
      "source": [
        "---"
      ],
      "metadata": {
        "id": "ZJCzs2PMhDdb"
      }
    },
    {
      "cell_type": "markdown",
      "source": [
        "####Quiz!"
      ],
      "metadata": {
        "id": "rWLiDtnWhDdb"
      }
    },
    {
      "cell_type": "markdown",
      "source": [
        "1) Can you come up with any pros or cons for each of the two functions above?"
      ],
      "metadata": {
        "id": "-b9I8ttIhDdb"
      }
    },
    {
      "cell_type": "markdown",
      "source": [
        "*Write your answer here* (double click me)"
      ],
      "metadata": {
        "id": "apWVensXhDdb"
      }
    },
    {
      "cell_type": "markdown",
      "source": [
        "2) Now it is time to put everything together. We want to write a function `clean_text` that takes as argument a text represented by string. The function should return this string with all punctuation removed and all characters lowercased."
      ],
      "metadata": {
        "id": "YbxERboNhDdb"
      }
    },
    {
      "cell_type": "code",
      "source": [
        "def clean_text(text):\n",
        "    # insert your code here\n",
        "    \n",
        "# The following test should print True if your code is correct \n",
        "short_text = \"Commas, as it turns out, are overestimated. Dots, however, even more so!\"\n",
        "print(clean_text(short_text) == \n",
        "      \"commas as it turns out are overestimated dots however even more so\")"
      ],
      "outputs": [],
      "metadata": {
        "id": "bxISb1A6hDdc"
      },
      "execution_count": null
    },
    {
      "cell_type": "markdown",
      "source": [
        "3) This last excercise puts everything together. We want you to open and read the file `data/austen-emma.txt` text once more, clean up the text and recompute the frequency distribution. Assign to `woodhouse_counts` the number of times the name *Woodhouse* occurs in the text."
      ],
      "metadata": {
        "id": "Hq1sdFqjhDdc"
      }
    },
    {
      "cell_type": "code",
      "source": [
        "woodhouse_counts = 0\n",
        "# insert your code here\n",
        "\n",
        "# The following test should print True if your code is correct \n",
        "print(woodhouse_counts == 263)"
      ],
      "outputs": [],
      "metadata": {
        "id": "tkyAhLy1hDdc"
      },
      "execution_count": null
    },
    {
      "cell_type": "markdown",
      "source": [
        "---"
      ],
      "metadata": {
        "id": "KN7yM4QThDdd"
      }
    },
    {
      "cell_type": "markdown",
      "source": [
        "##Writing results to a file"
      ],
      "metadata": {
        "id": "ccwhPhLwhDdd"
      }
    },
    {
      "cell_type": "markdown",
      "source": [
        "We have accomplished a lot! You have learnt how to read files using Python from your computer, how to manipulate them, clean them up and compute a frequency distribution of the words in a text file. We will finish this chapter with explaining to you how to write your results to a file. We have already seen how to read a text from our disk. Writing to our disk is only slightly different. The following lines of code write a single sentence to the file `first-output.txt`."
      ],
      "metadata": {
        "id": "qmf8GwX3hDdd"
      }
    },
    {
      "cell_type": "code",
      "source": [
        "outfile = open(\"first-output.txt\", mode=\"w\")\n",
        "outfile.write(\"My first output.\")\n",
        "outfile.close()"
      ],
      "outputs": [],
      "metadata": {
        "id": "M954QlHLhDdd"
      },
      "execution_count": null
    },
    {
      "cell_type": "markdown",
      "source": [
        "Go ahead and open the file `first-output.txt` located in the folder where this course resides. As you can see it contains the line `My first output.`. To write something to a file we open, just as in the case of reading a file, a `TextIOWrapper` which can be seen as a connection to the file `first-output.txt`. The difference with opening a file for reading is the *mode* with which we open the connection. Here the mode says `w`, meaning \"open the file for writing\". To open a file for reading, we set the mode to `r`. However, since this is Python's default setting, we may omit it."
      ],
      "metadata": {
        "id": "0j7GAwihhDdd"
      }
    },
    {
      "cell_type": "markdown",
      "source": [
        "---"
      ],
      "metadata": {
        "id": "EeWddV_1hDde"
      }
    },
    {
      "cell_type": "markdown",
      "source": [
        "####Quiz!"
      ],
      "metadata": {
        "id": "z-lmYMVthDde"
      }
    },
    {
      "cell_type": "markdown",
      "source": [
        "In the final quiz of this chapter we will ask you to write the frequency distribution over the words in `data/austen-emma.txt` to the file `data/austen-frequency-distribution.txt`. We will give you some code to get you started"
      ],
      "metadata": {
        "id": "3qFhT4b5hDde"
      }
    },
    {
      "cell_type": "code",
      "source": [
        "# first open and read data/austen-emma.txt. Don't forget to close the infile\n",
        "infile = open(\"data/austen-emma.txt\")\n",
        "text = # read the contents of the infile\n",
        "# close the file handler\n",
        "# clean the text\n",
        "\n",
        "# next compute the frequency distribution using the function counter\n",
        "frequency_distribution = \n",
        "\n",
        "# now open the file data/austen-frequency-distribution.txt for writing\n",
        "outfile = \n",
        "\n",
        "for word, frequency in frequency_distribution.items():\n",
        "    outfile.write(word + \";\" + str(frequency) + '\\n')\n",
        "    \n",
        "# close the outfile"
      ],
      "outputs": [],
      "metadata": {
        "id": "0fib6uFNhDde"
      },
      "execution_count": null
    },
    {
      "cell_type": "markdown",
      "source": [
        "---"
      ],
      "metadata": {
        "id": "DHn3FO9RhDde"
      }
    },
    {
      "cell_type": "markdown",
      "source": [
        "Ignore the following, it's just here to make the page pretty:"
      ],
      "metadata": {
        "id": "5oJydCSBhDde"
      }
    },
    {
      "cell_type": "code",
      "source": [
        "from IPython.core.display import HTML\n",
        "def css_styling():\n",
        "    styles = open(\"styles/custom.css\", \"r\").read()\n",
        "    return HTML(styles)\n",
        "css_styling()"
      ],
      "outputs": [
        {
          "output_type": "execute_result",
          "data": {},
          "metadata": {},
          "execution_count": 1
        }
      ],
      "metadata": {
        "id": "2DiZmp6KhDdf",
        "outputId": "8b10c830-4522-40fc-85cb-f0d793efd506"
      },
      "execution_count": null
    },
    {
      "cell_type": "markdown",
      "source": [
        "---"
      ],
      "metadata": {
        "id": "_NSo-Y58hDdg"
      }
    },
    {
      "cell_type": "markdown",
      "source": [
        "<p><small><a rel=\"license\" href=\"http://creativecommons.org/licenses/by-sa/4.0/\"><img alt=\"Creative Commons License\" style=\"border-width:0\" src=\"https://i.creativecommons.org/l/by-sa/4.0/88x31.png\" /></a><br /><span xmlns:dct=\"http://purl.org/dc/terms/\" property=\"dct:title\">Python Programming for the Humanities</span> by <a xmlns:cc=\"http://creativecommons.org/ns#\" href=\"http://fbkarsdorp.github.io/python-course\" property=\"cc:attributionName\" rel=\"cc:attributionURL\">http://fbkarsdorp.github.io/python-course</a> is licensed under a <a rel=\"license\" href=\"http://creativecommons.org/licenses/by-sa/4.0/\">Creative Commons Attribution-ShareAlike 4.0 International License</a>. Based on a work at <a xmlns:dct=\"http://purl.org/dc/terms/\" href=\"https://github.com/fbkarsdorp/python-course\" rel=\"dct:source\">https://github.com/fbkarsdorp/python-course</a>.</small></p>"
      ],
      "metadata": {
        "id": "1gemDWgIhDdg"
      }
    }
  ]
}