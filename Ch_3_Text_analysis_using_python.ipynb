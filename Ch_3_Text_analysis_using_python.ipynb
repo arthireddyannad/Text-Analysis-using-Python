{
  "nbformat": 4,
  "nbformat_minor": 0,
  "metadata": {
    "colab": {
      "provenance": [],
      "collapsed_sections": [
        "dFn-f-Y3SALU",
        "KPFdE2uOSALX"
      ]
    },
    "language_info": {
      "name": "python"
    },
    "kernelspec": {
      "name": "python3",
      "display_name": "Python 3"
    }
  },
  "cells": [
    {
      "cell_type": "markdown",
      "source": [
        "#Chapter 3: Text Analysis"
      ],
      "metadata": {
        "id": "8AidVB6RSAKw"
      }
    },
    {
      "cell_type": "markdown",
      "source": [
        "-- *A Python Course for the Humanities by Folgert Karsdorp and Maarten van Gompel*"
      ],
      "metadata": {
        "id": "dY_BiAdTSAKx"
      }
    },
    {
      "cell_type": "markdown",
      "source": [
        "---"
      ],
      "metadata": {
        "id": "hLW_qAz7SAKy"
      }
    },
    {
      "cell_type": "markdown",
      "source": [
        "In this chapter we will introduce you to the task of text analysis in Python. You will learn how to read an entire corpus into Python, clean it and how to perform certain data analyses on those texts. We will also briefly introduce you to using Python's plotting library *matplotlib*, with which you can visualize your data.\n",
        "\n",
        "Before we delve into the main subject of this chapter, text analysis, we will first write a couple of utility functions that build upon the things you learnt in the previous chapter. Often we don't work with a single text file stored at our computer, but with multiple text files or entire corpora. We would like to have a way to load a corpus into Python.\n",
        "\n",
        "Remember how to read files? Each time we had to open a file, read the contents and then close the file. Since this is a series of steps we will often need to do, we can write a single function that does all that for us. We write a small utility function `read_file(filename)` that reads the specified file and simply returns all contents as a single string."
      ],
      "metadata": {
        "id": "J0YtYF-3SAKy"
      }
    },
    {
      "cell_type": "code",
      "source": [
        "from os import listdir\n",
        "\n",
        "# Google colab version\n",
        "from google.colab import drive\n",
        "\n",
        "drive.mount('/content/drive')\n",
        "path = '/content/drive/My Drive/Colab Notebooks/data/'"
      ],
      "metadata": {
        "id": "IG6DwYNzkgTf",
        "colab": {
          "base_uri": "https://localhost:8080/"
        },
        "outputId": "cdd43c48-7cce-4bd5-99f1-3ea0cb5e714c"
      },
      "execution_count": null,
      "outputs": [
        {
          "output_type": "stream",
          "name": "stdout",
          "text": [
            "Mounted at /content/drive\n"
          ]
        }
      ]
    },
    {
      "cell_type": "code",
      "source": [
        "from nltk import word_tokenize"
      ],
      "metadata": {
        "id": "SeMI37hqIxwI"
      },
      "execution_count": null,
      "outputs": []
    },
    {
      "cell_type": "code",
      "source": [
        "def read_file(filename):\n",
        "    \"Read the contents of FILENAME and return as a string.\"\n",
        "    infile = open(filename) # windows users should use codecs.open after importing codecs\n",
        "    contents = infile.read()\n",
        "    infile.close()\n",
        "    return contents"
      ],
      "outputs": [],
      "metadata": {
        "id": "CTPsaXuCSAKz"
      },
      "execution_count": null
    },
    {
      "cell_type": "code",
      "source": [
        "# google colab version\n",
        "def read_file(path):\n",
        "  with open(path, \"r\") as f:\n",
        "    text = f.read()\n",
        "    f.close()\n",
        "    return text"
      ],
      "metadata": {
        "id": "OxqcEddKnBIL"
      },
      "execution_count": null,
      "outputs": []
    },
    {
      "cell_type": "markdown",
      "source": [
        "Now, instead of having to open a file, read the contents and close the file, we can just call the function `read_file` to do all that:"
      ],
      "metadata": {
        "id": "aIApRgs1SAKz"
      }
    },
    {
      "cell_type": "code",
      "source": [
        "text = read_file(path + \"/austen-emma-excerpt.txt\")\n",
        "print(text)"
      ],
      "outputs": [
        {
          "output_type": "stream",
          "name": "stdout",
          "text": [
            "Emma by Jane Austen 1816\n",
            "\n",
            "VOLUME I\n",
            "\n",
            "CHAPTER I\n",
            "\n",
            "\n",
            "Emma Woodhouse, handsome, clever, and rich, with a comfortable home\n",
            "and happy disposition, seemed to unite some of the best blessings\n",
            "of existence; and had lived nearly twenty-one years in the world\n",
            "with very little to distress or vex her.\n",
            "\n",
            "She was the youngest of the two daughters of a most affectionate,\n",
            "indulgent father; and had, in consequence of her sister's marriage,\n",
            "been mistress of his house from a very early period.  Her mother\n",
            "had died too long ago for her to have more than an indistinct\n",
            "remembrance of her caresses; and her place had been supplied\n",
            "by an excellent woman as governess, who had fallen little short\n",
            "of a mother in affection.\n"
          ]
        }
      ],
      "metadata": {
        "id": "drLhdkDKSAK0",
        "colab": {
          "base_uri": "https://localhost:8080/"
        },
        "outputId": "7200048d-2c4a-4055-95a7-e8e6e68eeb1f"
      },
      "execution_count": null
    },
    {
      "cell_type": "markdown",
      "source": [
        "In the directory `data/gutenberg/training` we have a corpus consisting of multiple files with the extension `.txt`. This corpus is a collection of English novels which we downloaded for you from the [Gutenberg](http://www.gutenberg.org) project. We want to iterate over all these files. You can do this using the `listdir` function from the `os` module. We import this function as follows:"
      ],
      "metadata": {
        "id": "GW6XH0KsSAK1"
      }
    },
    {
      "cell_type": "code",
      "source": [
        "from os import listdir"
      ],
      "outputs": [],
      "metadata": {
        "id": "dbATIrrISAK2"
      },
      "execution_count": null
    },
    {
      "cell_type": "markdown",
      "source": [
        "After that, the `listdir` function is available to use. This function takes as argument the path to a directory and returns all the files and subdirectories present in that directory:"
      ],
      "metadata": {
        "id": "o1FX_FToSAK2"
      }
    },
    {
      "cell_type": "code",
      "source": [
        "listdir(path)\n",
        "filenames = listdir(path)\n",
        "\n",
        "full_paths = []\n",
        "for fn in filenames:\n",
        "  new_fn = path + \"/\" + fn\n",
        "  #full_paths.append(new_fn)\n",
        "  full_paths += [new_fn]\n",
        "\n",
        "\n",
        "filenames"
      ],
      "outputs": [
        {
          "output_type": "execute_result",
          "data": {
            "text/plain": [
              "['austen-emma-excerpt-tokenised.txt',\n",
              " 'austen-emma.txt',\n",
              " 'twitter.txt',\n",
              " 'austen-emma-excerpt.txt',\n",
              " 'haggard',\n",
              " 'arabian_nights',\n",
              " 'british-novels',\n",
              " 'names',\n",
              " 'gutenberg']"
            ]
          },
          "metadata": {},
          "execution_count": 10
        }
      ],
      "metadata": {
        "id": "c0ahOz4dSAK3",
        "colab": {
          "base_uri": "https://localhost:8080/"
        },
        "outputId": "ef748b57-e76d-4f9b-b12b-57c50b818c2b"
      },
      "execution_count": null
    },
    {
      "cell_type": "code",
      "source": [
        "import re\n",
        "\n",
        "regex = r\".+\\.txt$\"\n",
        "\n",
        "just_filenames = []\n",
        "for fn in filenames: \n",
        "  if re.match(regex, fn):\n",
        "    just_filenames.append(fn)\n",
        "\n",
        "just_filenames"
      ],
      "metadata": {
        "id": "HtORSG86BASA",
        "colab": {
          "base_uri": "https://localhost:8080/"
        },
        "outputId": "7c921b7d-bbb8-41b6-fb19-7174f8e5b94c"
      },
      "execution_count": null,
      "outputs": [
        {
          "output_type": "execute_result",
          "data": {
            "text/plain": [
              "['austen-emma-excerpt-tokenised.txt',\n",
              " 'austen-emma.txt',\n",
              " 'twitter.txt',\n",
              " 'austen-emma-excerpt.txt']"
            ]
          },
          "metadata": {},
          "execution_count": 11
        }
      ]
    },
    {
      "cell_type": "markdown",
      "source": [
        "Notice that `listdir` returns a list and we can iterate over that list. Now, consider the following function:"
      ],
      "metadata": {
        "id": "VMowOTbLSAK3"
      }
    },
    {
      "cell_type": "code",
      "source": [
        "def list_textfiles(directory):\n",
        "    \"Return a list of filenames ending in '.txt' in DIRECTORY.\"\n",
        "    textfiles = []\n",
        "    for filename in listdir(directory):\n",
        "        if filename.endswith(\".txt\"):\n",
        "            textfiles.append(directory + \"/\" + filename)\n",
        "    return textfiles"
      ],
      "outputs": [],
      "metadata": {
        "id": "kW_1-RP0SAK5"
      },
      "execution_count": null
    },
    {
      "cell_type": "markdown",
      "source": [
        "The function `listdir` takes as argument the name of a directory and lists all filenames in that directory. We iterate over this list and append each filename that ends with the extension, `.txt` to a new list of `textfiles`. Using the `list_textfiles` function, the following code will read all text files in the directory `data/gutenberg/training` and outputs the length (in characters) of each:"
      ],
      "metadata": {
        "id": "X09QkEYwSAK5"
      }
    },
    {
      "cell_type": "code",
      "source": [
        "for filepath in list_textfiles(path + \"/gutenberg/training\"):\n",
        "    text = read_file(filepath)\n",
        "    print(filepath +  \" has \" + str(len(text)) + \" characters.\")"
      ],
      "outputs": [
        {
          "output_type": "stream",
          "name": "stdout",
          "text": [
            "/content/drive/My Drive/data/gutenberg/training/melville-piazza.txt has 467970 characters.\n",
            "/content/drive/My Drive/data/gutenberg/training/whitman-patriotic.txt has 174241 characters.\n",
            "/content/drive/My Drive/data/gutenberg/training/austen-emma.txt has 887071 characters.\n",
            "/content/drive/My Drive/data/gutenberg/training/blake-songs.txt has 32223 characters.\n",
            "/content/drive/My Drive/data/gutenberg/training/austen-pride.txt has 684765 characters.\n",
            "/content/drive/My Drive/data/gutenberg/training/milton-paradise.txt has 468220 characters.\n",
            "/content/drive/My Drive/data/gutenberg/training/chesterton-ball.txt has 457450 characters.\n",
            "/content/drive/My Drive/data/gutenberg/training/shakespeare-caesar.txt has 112310 characters.\n",
            "/content/drive/My Drive/data/gutenberg/training/austen-sense.txt has 673022 characters.\n",
            "/content/drive/My Drive/data/gutenberg/training/shakespeare-hamlet.txt has 162881 characters.\n",
            "/content/drive/My Drive/data/gutenberg/training/burgess-busterbrown.txt has 82992 characters.\n",
            "/content/drive/My Drive/data/gutenberg/training/whitman-leaves.txt has 711215 characters.\n",
            "/content/drive/My Drive/data/gutenberg/training/edgeworth-parents.txt has 916861 characters.\n",
            "/content/drive/My Drive/data/gutenberg/training/whitman-poems.txt has 395130 characters.\n",
            "/content/drive/My Drive/data/gutenberg/training/carroll-alice.txt has 144395 characters.\n",
            "/content/drive/My Drive/data/gutenberg/training/blake-poems.txt has 38153 characters.\n",
            "/content/drive/My Drive/data/gutenberg/training/chesterton-thursday.txt has 320525 characters.\n",
            "/content/drive/My Drive/data/gutenberg/training/bryant-stories.txt has 243901 characters.\n"
          ]
        }
      ],
      "metadata": {
        "id": "c08J9PMgSAK6",
        "colab": {
          "base_uri": "https://localhost:8080/"
        },
        "outputId": "2893814a-eccf-4c24-ddec-388b0b2b5bf0"
      },
      "execution_count": null
    },
    {
      "cell_type": "markdown",
      "source": [
        "---"
      ],
      "metadata": {
        "id": "RxkWGXEhSAK7"
      }
    },
    {
      "cell_type": "markdown",
      "source": [
        "##Sentence tokenization"
      ],
      "metadata": {
        "id": "VRYPWCucSAK7"
      }
    },
    {
      "cell_type": "markdown",
      "source": [
        "In the previous chapter we wrote a function to tokenize or split a text string into a list of words. However, using this function we lose information about where sentences end and start in the text. We will develop a function `split_sentences` that performs some very simple sentence splitting when passed a text string. Each sentence will be represented as a new string, so the function as a whole returns a list of sentence strings. We assume that any occurrence of either `.` or `!` or `?` marks the end of a sentence. In reality, this is more ambiguous of course. Consider for example the use of periods as end-of-sentence marker as well as in abbreviations and initials!\n",
        "\n",
        "How should we tackle this problem? Have a look at the following picture:"
      ],
      "metadata": {
        "id": "hqiK2zGSSAK8"
      }
    },
    {
      "cell_type": "markdown",
      "source": [
        "![caption](https://github.com/fbkarsdorp/python-course/blob/master/images/indexing.png?raw=true)"
      ],
      "metadata": {
        "id": "1TlSkLdKSAK8"
      }
    },
    {
      "cell_type": "markdown",
      "source": [
        "The first sentence *Hello there!* spans from index 0 to index 11. The second sentence from 13 to 26. If we come up with a way to extract those indexes, we could slice the text into separate sentences. First we define a utility function `end_of_sentence` that takes as argument a character and returns `True` if it is an end-of-sentence marker, otherwise it returns `False`. "
      ],
      "metadata": {
        "id": "VK76kIWCSAK9"
      }
    },
    {
      "cell_type": "markdown",
      "source": [
        "---"
      ],
      "metadata": {
        "id": "u8QopIt7SAK9"
      }
    },
    {
      "cell_type": "markdown",
      "source": [
        "####Quiz!"
      ],
      "metadata": {
        "id": "vCAqCIg8SAK9"
      }
    },
    {
      "cell_type": "markdown",
      "source": [
        "Write the function `end_of_sentence_marker` below:"
      ],
      "metadata": {
        "id": "DDDLgkHLSAK9"
      }
    },
    {
      "cell_type": "code",
      "source": [
        "def end_of_sentence_marker(character):\n",
        "    # insert your code here\n",
        "    return character in \"!.?\"\n",
        "\n",
        "\n",
        "\n",
        "# these tests should return True if your code is correct\n",
        "print(end_of_sentence_marker(\"?\") == True)\n",
        "print(end_of_sentence_marker(\"a\") == False)"
      ],
      "outputs": [
        {
          "output_type": "stream",
          "name": "stdout",
          "text": [
            "True\n",
            "True\n"
          ]
        }
      ],
      "metadata": {
        "id": "E3zncRSiSAK-",
        "colab": {
          "base_uri": "https://localhost:8080/"
        },
        "outputId": "76f032f0-098e-49c5-b3bc-30472135bedd"
      },
      "execution_count": null
    },
    {
      "cell_type": "markdown",
      "source": [
        "Now let's rewrite the function using regular expressions!\n",
        "\n",
        "How about `re.match` or, as overkill, `re.fullmatch`?"
      ],
      "metadata": {
        "id": "NrBleGvmZCQm"
      }
    },
    {
      "cell_type": "code",
      "source": [
        "def end_of_sentence_marker(character):\n",
        "    # insert your code here\n",
        "    if re.match(r\"[\\!\\.\\?]\", character):\n",
        "      return True\n",
        "    else:\n",
        "      return False\n",
        "\n",
        "# these tests should return True if your code is correct\n",
        "print(end_of_sentence_marker(\"?\") == True)\n",
        "print(end_of_sentence_marker(\"a\") == False)"
      ],
      "metadata": {
        "id": "3bitITwAZR7M",
        "colab": {
          "base_uri": "https://localhost:8080/"
        },
        "outputId": "7511f261-cc02-4bbe-cf5a-562e664e9b19"
      },
      "execution_count": null,
      "outputs": [
        {
          "output_type": "stream",
          "name": "stdout",
          "text": [
            "True\n",
            "True\n"
          ]
        }
      ]
    },
    {
      "cell_type": "markdown",
      "source": [
        "---"
      ],
      "metadata": {
        "id": "jK90JvgeSAK-"
      }
    },
    {
      "cell_type": "markdown",
      "source": [
        "An important function we will use is the built in `enumerate`. `enumerate` takes as argument any iterable (a string a list etc.). Let's see it in action:"
      ],
      "metadata": {
        "id": "BDFmfMNSSAK_"
      }
    },
    {
      "cell_type": "code",
      "source": [
        "for element in enumerate(\"Python\"):\n",
        "    print(element)"
      ],
      "outputs": [
        {
          "output_type": "stream",
          "name": "stdout",
          "text": [
            "(0, 'P')\n",
            "(1, 'y')\n",
            "(2, 't')\n",
            "(3, 'h')\n",
            "(4, 'o')\n",
            "(5, 'n')\n"
          ]
        }
      ],
      "metadata": {
        "id": "n3CMGDIvSAK_",
        "colab": {
          "base_uri": "https://localhost:8080/"
        },
        "outputId": "616ee0a1-d5b7-4cc1-8cca-bee23d1875ce"
      },
      "execution_count": null
    },
    {
      "cell_type": "markdown",
      "source": [
        "As you can see, enumerate allows you to iterate over an iterable and for each element in that iterable, it gives you its corresponding index. A slightly more convenient way of iterating over `enumerate` is the following:"
      ],
      "metadata": {
        "id": "sXGXJcnvSAK_"
      }
    },
    {
      "cell_type": "code",
      "source": [
        "for _, character in enumerate(\"Python\"):\n",
        "    print(character)"
      ],
      "outputs": [
        {
          "output_type": "stream",
          "name": "stdout",
          "text": [
            "P\n",
            "y\n",
            "t\n",
            "h\n",
            "o\n",
            "n\n"
          ]
        }
      ],
      "metadata": {
        "id": "epdBc8TISALA",
        "colab": {
          "base_uri": "https://localhost:8080/"
        },
        "outputId": "103c7225-730e-48c9-b61f-8f09a92af432"
      },
      "execution_count": null
    },
    {
      "cell_type": "markdown",
      "source": [
        "This way, we have easy access to both the index and the original item in the iterable. Now we know enough to write our `split_sentences` function. We will walk you through it, step by step, but first try to read the function and think about what it possibly does at each step:"
      ],
      "metadata": {
        "id": "udlBVm4OSALA"
      }
    },
    {
      "cell_type": "code",
      "source": [
        "def split_sentences(text):\n",
        "    \"Split a text string into a list of sentences.\"\n",
        "    sentences = []\n",
        "    start = 0\n",
        "    for end, character in enumerate(text):\n",
        "        if end_of_sentence_marker(character):\n",
        "            sentence = text[start: end + 1]\n",
        "            sentences.append(sentence)\n",
        "            start = end + 2\n",
        "    return sentences"
      ],
      "outputs": [],
      "metadata": {
        "id": "2B8_6IXsSALA"
      },
      "execution_count": null
    },
    {
      "cell_type": "markdown",
      "source": [
        "The function `split_sentences` takes as argument a text represented by a simple string. Within the function we define a variable `sentences` in which we will store the individual sentences. We need to extract both the start position and the end position of each sentence. We know that the first sentence will always start at position 0. Therefore we define a variable start and set it to zero.\n",
        "\n",
        "Next we will use `enumerate` to loop over all individual characters in the text. Remember that enumerate returns pairs of indexes and their corresponding elements (here characters). For each character we check whether it is an end-of-sentence marker. If it is, the variable `end` marks the position in `text` where a sentence ends. We can now slice the text from the starting position to the end position and obtain our sentence. Notice that we add 1 to the end position. Why would that be? This is because, as you might remember from the first chapter, slices are non-inclusive, so `text[start:end]` would return the text starting at `start` and ending one position before `end`. Since we have reached the end of a sentence, we know that the next sentence will start at least one position later than our last end point. Therefore, we update the start variable to `end + 1`. Let's check whether our function works as promised:"
      ],
      "metadata": {
        "id": "HZcUlNSNSALB"
      }
    },
    {
      "cell_type": "code",
      "source": [
        "print(split_sentences(\"This is a sentence. Should we seperate it from this one?\"))"
      ],
      "outputs": [
        {
          "output_type": "stream",
          "name": "stdout",
          "text": [
            "['This is a sentence.', 'Should we seperate it from this one?']\n"
          ]
        }
      ],
      "metadata": {
        "id": "EajRow6VSALC",
        "colab": {
          "base_uri": "https://localhost:8080/"
        },
        "outputId": "7a2af062-4dd4-4cc4-ee8a-0131fc8c02ad"
      },
      "execution_count": null
    },
    {
      "cell_type": "markdown",
      "source": [
        "It does! "
      ],
      "metadata": {
        "id": "AIisdDSrSALD"
      }
    },
    {
      "cell_type": "markdown",
      "source": [
        "Now let's simplify this considerably with `re.split`!\n",
        "\n",
        "Takes two steps (if we want to retain final punctuation in each of our substrings).\n",
        "1. Pad the full string with a space at the end (to make sure the final sentence ends with a sequence PUNCT + WHITESPACE\n",
        "2. split at all whitespaces if they are preceded by a final punctuation marker\n",
        "\n",
        "For step 2, we need a special regex known as **positive look-behind**\n",
        "\n",
        "Positive look-behind has the following form:\n",
        "```{python}\n",
        "r\"(?<=)\"\n",
        "```\n",
        "\n",
        "Below is an example of positive look-behind for matching b's that are preceded by a's."
      ],
      "metadata": {
        "id": "GCTedolaZVVB"
      }
    },
    {
      "cell_type": "code",
      "source": [
        "test_string = \"ab ba cb ab bb\"\n",
        "\n",
        "regex = r\"(?<=a)b\"\n",
        "\n",
        "re.findall(regex, test_string)"
      ],
      "metadata": {
        "colab": {
          "base_uri": "https://localhost:8080/"
        },
        "id": "0LQ5MV1zbAtA",
        "outputId": "3076cdab-bb2a-42bc-dc0c-8a09d1cb296c"
      },
      "execution_count": null,
      "outputs": [
        {
          "output_type": "execute_result",
          "data": {
            "text/plain": [
              "['b', 'b']"
            ]
          },
          "metadata": {},
          "execution_count": 19
        }
      ]
    },
    {
      "cell_type": "markdown",
      "source": [
        "You can also use **negative look-behind**\n",
        "\n",
        "It has the following form\n",
        "\n",
        "```{python}\n",
        "r\"(?<!)\"\n",
        "```"
      ],
      "metadata": {
        "id": "fqfqzGkGbeia"
      }
    },
    {
      "cell_type": "code",
      "source": [
        "regex = r\"(?<!a)b\"\n",
        "\n",
        "re.findall(regex, test_string)"
      ],
      "metadata": {
        "colab": {
          "base_uri": "https://localhost:8080/"
        },
        "id": "LLXb2Wc7bq5q",
        "outputId": "da11e0c2-1c8d-455a-9370-cb5c06b7c741"
      },
      "execution_count": null,
      "outputs": [
        {
          "output_type": "execute_result",
          "data": {
            "text/plain": [
              "['b', 'b', 'b', 'b']"
            ]
          },
          "metadata": {},
          "execution_count": 20
        }
      ]
    },
    {
      "cell_type": "markdown",
      "source": [
        "Now let's apply this regex to solving the sentence segmentation problem. "
      ],
      "metadata": {
        "id": "nJKwcXHMdXGL"
      }
    },
    {
      "cell_type": "code",
      "source": [
        "def split_sentences(raw_text):\n",
        "  regex = r\"(?<=[\\?\\.\\!]) +\"\n",
        "  output = re.split(regex, raw_text)\n",
        "  return output\n",
        "\n",
        "print(split_sentences(\"This is a sentence. Should we seperate it from this one?\"))"
      ],
      "metadata": {
        "id": "VEMXQLZgddMi",
        "colab": {
          "base_uri": "https://localhost:8080/"
        },
        "outputId": "fd254983-cc9b-4cef-836b-26e6ab5582fc"
      },
      "execution_count": null,
      "outputs": [
        {
          "output_type": "stream",
          "name": "stdout",
          "text": [
            "['This is a sentence.', 'Should we seperate it from this one?']\n"
          ]
        }
      ]
    },
    {
      "cell_type": "markdown",
      "source": [
        "---"
      ],
      "metadata": {
        "id": "90idkf3qSALF"
      }
    },
    {
      "cell_type": "markdown",
      "source": [
        "####Quiz!"
      ],
      "metadata": {
        "id": "Keo2rWr9SALI"
      }
    },
    {
      "cell_type": "markdown",
      "source": [
        "To conclude this section, you will write a wrapper function `tokenize`, that takes as input a text represented by a string and tokenizes this string into sentences. After that, we clean each sentence, by lowercasing all words and removing punctuation. The final step is to tokenize each sentence into a list of words. The file `preprocessing.py` contains a function called `clean_text` which removes all punctuation from a text and turns all characters to lowercase. We import that function using the following line:"
      ],
      "metadata": {
        "id": "AUWNCzdrSALJ"
      }
    },
    {
      "cell_type": "code",
      "source": [
        "#from pyhum.preprocessing import clean_text\n",
        "\n",
        "# We'll do this using regex\n",
        "# We need to:\n",
        "# - remove punctuation\n",
        "# - lowercase text\n",
        "# punctuation can be found in string.punctuation\n",
        "import string\n",
        "print(string.punctuation)\n",
        "\n",
        "test_string = \"T@hi##S IS!!,> So,}}me uG>>ly TeXT.\""
      ],
      "outputs": [
        {
          "output_type": "stream",
          "name": "stdout",
          "text": [
            "!\"#$%&'()*+,-./:;<=>?@[\\]^_`{|}~\n"
          ]
        }
      ],
      "metadata": {
        "id": "B297FlQJSALJ",
        "colab": {
          "base_uri": "https://localhost:8080/"
        },
        "outputId": "06d098b6-d9bb-4825-f2d7-ea7429c98bcb"
      },
      "execution_count": null
    },
    {
      "cell_type": "code",
      "source": [
        "def clean_text(input_text):\n",
        "  output_string = \"\"\n",
        "  for char in input_text:\n",
        "    if char not in string.punctuation:\n",
        "      output_string += char\n",
        "  return output_string.lower()\n",
        "      \n",
        "print(test_string)\n",
        "print(clean_text(test_string))"
      ],
      "metadata": {
        "colab": {
          "base_uri": "https://localhost:8080/"
        },
        "id": "8hPKrP6jXdPx",
        "outputId": "da04169a-dd2b-4b2d-8c9f-aa7ea42b0904"
      },
      "execution_count": null,
      "outputs": [
        {
          "output_type": "stream",
          "name": "stdout",
          "text": [
            "T@hi##S IS!!,> So,}}me uG>>ly TeXT.\n",
            "this is some ugly text\n"
          ]
        }
      ]
    },
    {
      "cell_type": "code",
      "source": [
        "import nltk\n",
        " \n",
        " \n",
        "nltk.download('punkt')"
      ],
      "metadata": {
        "colab": {
          "base_uri": "https://localhost:8080/"
        },
        "id": "Qzi1d7ViJ5Do",
        "outputId": "3fd2a214-b520-4730-d6a4-1cad2a4d8d05"
      },
      "execution_count": null,
      "outputs": [
        {
          "output_type": "stream",
          "name": "stderr",
          "text": [
            "[nltk_data] Downloading package punkt to /root/nltk_data...\n",
            "[nltk_data]   Unzipping tokenizers/punkt.zip.\n"
          ]
        },
        {
          "output_type": "execute_result",
          "data": {
            "text/plain": [
              "True"
            ]
          },
          "metadata": {},
          "execution_count": 25
        }
      ]
    },
    {
      "cell_type": "code",
      "source": [
        "# another way\n",
        "from os import sys\n",
        "location = \"/content/drive/My Drive/\"\n",
        "sys.path.append(location)\n",
        "from PyHum.preprocessing import clean_text\n",
        "\n",
        "print(test_string)\n",
        "print(word_tokenize(clean_text(test_string)))"
      ],
      "metadata": {
        "colab": {
          "base_uri": "https://localhost:8080/",
          "height": 373
        },
        "id": "86ntplNkUnNC",
        "outputId": "d5c3a8d9-5afe-49d5-a0ce-17f33197e7f6"
      },
      "execution_count": null,
      "outputs": [
        {
          "output_type": "error",
          "ename": "ModuleNotFoundError",
          "evalue": "ignored",
          "traceback": [
            "\u001b[0;31m---------------------------------------------------------------------------\u001b[0m",
            "\u001b[0;31mModuleNotFoundError\u001b[0m                       Traceback (most recent call last)",
            "\u001b[0;32m<ipython-input-27-652dd170cd27>\u001b[0m in \u001b[0;36m<module>\u001b[0;34m\u001b[0m\n\u001b[1;32m      3\u001b[0m \u001b[0mlocation\u001b[0m \u001b[0;34m=\u001b[0m \u001b[0;34m\"/content/drive/My Drive/\"\u001b[0m\u001b[0;34m\u001b[0m\u001b[0;34m\u001b[0m\u001b[0m\n\u001b[1;32m      4\u001b[0m \u001b[0msys\u001b[0m\u001b[0;34m.\u001b[0m\u001b[0mpath\u001b[0m\u001b[0;34m.\u001b[0m\u001b[0mappend\u001b[0m\u001b[0;34m(\u001b[0m\u001b[0mlocation\u001b[0m\u001b[0;34m)\u001b[0m\u001b[0;34m\u001b[0m\u001b[0;34m\u001b[0m\u001b[0m\n\u001b[0;32m----> 5\u001b[0;31m \u001b[0;32mfrom\u001b[0m \u001b[0mPyHum\u001b[0m\u001b[0;34m.\u001b[0m\u001b[0mpreprocessing\u001b[0m \u001b[0;32mimport\u001b[0m \u001b[0mclean_text\u001b[0m\u001b[0;34m\u001b[0m\u001b[0;34m\u001b[0m\u001b[0m\n\u001b[0m\u001b[1;32m      6\u001b[0m \u001b[0;34m\u001b[0m\u001b[0m\n\u001b[1;32m      7\u001b[0m \u001b[0mprint\u001b[0m\u001b[0;34m(\u001b[0m\u001b[0mtest_string\u001b[0m\u001b[0;34m)\u001b[0m\u001b[0;34m\u001b[0m\u001b[0;34m\u001b[0m\u001b[0m\n",
            "\u001b[0;31mModuleNotFoundError\u001b[0m: No module named 'PyHum'",
            "",
            "\u001b[0;31m---------------------------------------------------------------------------\u001b[0;32m\nNOTE: If your import is failing due to a missing package, you can\nmanually install dependencies using either !pip or !apt.\n\nTo view examples of installing some common dependencies, click the\n\"Open Examples\" button below.\n\u001b[0;31m---------------------------------------------------------------------------\u001b[0m\n"
          ],
          "errorDetails": {
            "actions": [
              {
                "action": "open_url",
                "actionText": "Open Examples",
                "url": "/notebooks/snippets/importing_libraries.ipynb"
              }
            ]
          }
        }
      ]
    },
    {
      "cell_type": "code",
      "source": [
        "def word_tokenizer(cleaned_sentence):\n",
        "    word_list = re.split(r\" \", cleaned_sentence)\n",
        "    return word_list\n",
        "\n",
        "def tokenize(text):\n",
        "    \"\"\"Transform TEXT into a list of sentences. Lowercase \n",
        "    each sentence and remove all punctuation. Finally split each\n",
        "    sentence into a list of words.\"\"\"\n",
        "    # insert your code here\n",
        "    clean_sentences = []\n",
        "    sentences = split_sentences(text)\n",
        "    for sent in sentences:\n",
        "        clean_sent = clean_text(sent)\n",
        "        word_list = word_tokenizer(clean_sent)\n",
        "        clean_sentences += [word_list]\n",
        "    return clean_sentences\n",
        "# these tests should return True if your code is correct\n",
        "print(tokenize(\"This is a sentence. So, what!\") == \n",
        "      [[\"this\", \"is\", \"a\", \"sentence\"], [\"so\", \"what\"]])\n",
        "\n",
        "#tokenize(clean_text(\"This is a sentence. So what?\"))"
      ],
      "outputs": [
        {
          "output_type": "stream",
          "name": "stdout",
          "text": [
            "True\n"
          ]
        }
      ],
      "metadata": {
        "id": "uK1UJ3NCSALJ",
        "colab": {
          "base_uri": "https://localhost:8080/"
        },
        "outputId": "d18cadba-c590-43ba-909b-440e1b61d723"
      },
      "execution_count": null
    },
    {
      "cell_type": "markdown",
      "source": [],
      "metadata": {
        "id": "t-dCzmeof4ez"
      }
    },
    {
      "cell_type": "markdown",
      "source": [
        "---"
      ],
      "metadata": {
        "id": "y1M1fEh8SALK"
      }
    },
    {
      "cell_type": "markdown",
      "source": [
        "##General Text Statistics"
      ],
      "metadata": {
        "id": "dvLN2N1LSALK"
      }
    },
    {
      "cell_type": "markdown",
      "source": [],
      "metadata": {
        "id": "mSmT_r6Vclj4"
      }
    },
    {
      "cell_type": "markdown",
      "source": [
        "> When the next night came, Dinarazad said to her sister Shahrazad: ‘In God’s name, sister, if you are not asleep, then tell us one of your stories!’ Shahrazad answered: ‘With great pleasure! I have heard tell, honoured King, that…’"
      ],
      "metadata": {
        "id": "1OUm6ULJSALK"
      }
    },
    {
      "cell_type": "markdown",
      "source": [
        "*Alf Laylah Wa Laylah*, *the Stories of One Thousand and One Nights* is a collection of folk tales, collected over many centuries by various authors, translators, and scholars across West, Central and South Asia and North Africa, forms a huge narrative wheel with an overarching plot, created by the frame story of Shahrazad.\n",
        "\n",
        "The stories begin with the tale of king Shahryar and his brother, who, having both been deceived by their respective Sultanas, leave their kingdom, only to return when they have found someone who — in their view — was wronged even more. On their journey the two brothers encounter a huge jinn who carries a glass box containing a beautiful young woman. The two brothers hide as quickly as they can in a tree. The jinn lays his head on the girl’s lap and as soon as he is asleep, the girl demands the two kings to make love to her or else she will wake her ‘husband’. They reluctantly give in and the brothers soon discover that the girl has already betrayed the jinn ninety-eight times before. This exemplar of lust and treachery strengthens the Sultan’s opinion that all women are wicked and not to be trusted. \n",
        "\n",
        "When king Shahryar returns home, his wrath against women has grown to an unprecedented level. To temper his anger, each night the king sleeps with a virgin only to execute her the next morning. In order to make an end to this cruelty and save womanhood from a \"virgin scarcity\", Sharazad offers herself as the next king’s bride. On the first night, Sharazad begins to tell the king a story, but she does not end it. The king’s curiosity to know how the story ends, prevents him from executing Shahrazad. The next night Shahrazad finishes her story, and begins a new one. The king, eager to know the ending of this tale as well, postpones her execution once more. Using this strategy for One Thousand and One Nights in a labyrinth of stories-within-stories-within-stories, Shahrazad attempts to gradually move the king’s cynical stance against women towards a politics of love and justice (see Marina Warner’s *Stranger Magic* (2013) in case you're interested).\n",
        "\n",
        "The first European version of the Nights was translated into French by Antoine Galland. Many translations (in different languages) followed, such as the (heavily criticized) English translation by Sir Richard Francis Burton entitled *The Book of the Thousand and a Night* (1885). This version is freely available from the Gutenberg project (see [here](http://www.gutenberg.org)), and will be the one we will explore here."
      ],
      "metadata": {
        "id": "slTZVBqySALL"
      }
    },
    {
      "cell_type": "markdown",
      "source": [
        "---"
      ],
      "metadata": {
        "id": "YpuV64AMSALM"
      }
    },
    {
      "cell_type": "markdown",
      "source": [
        "####Quiz!"
      ],
      "metadata": {
        "id": "8NXRQbSWSALM"
      }
    },
    {
      "cell_type": "markdown",
      "source": [
        "In the directory `data/arabian_nights` you will find 999 files. This is because in Burton's translation some nights are missing. The name of the file represents the corresponding night of storytelling in *Alf Laylah Wa Laylah*. Go have a look. Use the tokenize function and the corpus reading function we have defined above and tokenize and clean each night. Store the result in the variable named `corpus`."
      ],
      "metadata": {
        "id": "S1nEvvfWSALN"
      }
    },
    {
      "cell_type": "code",
      "source": [
        "filenames = list_textfiles(path + \"/arabian_nights\")"
      ],
      "outputs": [],
      "metadata": {
        "id": "newCYER4SALN"
      },
      "execution_count": null
    },
    {
      "cell_type": "code",
      "source": [
        "print(filenames[:5])"
      ],
      "metadata": {
        "colab": {
          "base_uri": "https://localhost:8080/"
        },
        "id": "gZhMZT0NHxDK",
        "outputId": "03b8e51a-cee4-43f6-ab88-b0f3d9b98e7d"
      },
      "execution_count": null,
      "outputs": [
        {
          "output_type": "stream",
          "name": "stdout",
          "text": [
            "['/content/drive/My Drive/Colab Notebooks/data//arabian_nights/1001.txt', '/content/drive/My Drive/Colab Notebooks/data//arabian_nights/10.txt', '/content/drive/My Drive/Colab Notebooks/data//arabian_nights/107.txt', '/content/drive/My Drive/Colab Notebooks/data//arabian_nights/106.txt', '/content/drive/My Drive/Colab Notebooks/data//arabian_nights/105.txt']\n"
          ]
        }
      ]
    },
    {
      "cell_type": "markdown",
      "source": [
        "---"
      ],
      "metadata": {
        "id": "3dLEg_scSALN"
      }
    },
    {
      "cell_type": "code",
      "source": [
        "corpus = []\n",
        "for fn in filenames:\n",
        "  text_string = read_file(fn)\n",
        "  tok = tokenize(text_string)\n",
        "  corpus.append(tok)"
      ],
      "metadata": {
        "id": "Xo8cAcyqH7MC"
      },
      "execution_count": null,
      "outputs": []
    },
    {
      "cell_type": "code",
      "source": [
        "corpus[0][0][0]"
      ],
      "metadata": {
        "colab": {
          "base_uri": "https://localhost:8080/",
          "height": 36
        },
        "id": "K2BI8VWPJqA7",
        "outputId": "7b7e5f58-75ab-465a-d235-394f83f5083e"
      },
      "execution_count": null,
      "outputs": [
        {
          "output_type": "execute_result",
          "data": {
            "text/plain": [
              "'\\ndunyazad'"
            ],
            "application/vnd.google.colaboratory.intrinsic+json": {
              "type": "string"
            }
          },
          "metadata": {},
          "execution_count": 33
        }
      ]
    },
    {
      "cell_type": "markdown",
      "source": [
        "Great job! You now should have a corpus containing 999 texts. It is always important to check whether our code actually produces the desired results. Let's check whether we indeed have 999 texts:"
      ],
      "metadata": {
        "id": "yY7x4QUGSALN"
      }
    },
    {
      "cell_type": "code",
      "source": [
        "print(len(corpus))"
      ],
      "outputs": [
        {
          "output_type": "stream",
          "name": "stdout",
          "text": [
            "999\n"
          ]
        }
      ],
      "metadata": {
        "id": "qN7DM1PwSALN",
        "colab": {
          "base_uri": "https://localhost:8080/"
        },
        "outputId": "754fc5ec-786f-4403-d447-2c0e12a98385"
      },
      "execution_count": null
    },
    {
      "cell_type": "markdown",
      "source": [
        "OK, that seems to be correct. It would be convenient for further processing to have the corpus in chronological order. Let's have a look the first 20 files returned by `list_textfiles`:"
      ],
      "metadata": {
        "id": "pFp2UgmySALO"
      }
    },
    {
      "cell_type": "code",
      "source": [
        "list_textfiles(path + \"/arabian_nights\")[:20]"
      ],
      "outputs": [
        {
          "output_type": "execute_result",
          "data": {
            "text/plain": [
              "['/content/drive/My Drive/Colab Notebooks/data//arabian_nights/1001.txt',\n",
              " '/content/drive/My Drive/Colab Notebooks/data//arabian_nights/10.txt',\n",
              " '/content/drive/My Drive/Colab Notebooks/data//arabian_nights/107.txt',\n",
              " '/content/drive/My Drive/Colab Notebooks/data//arabian_nights/106.txt',\n",
              " '/content/drive/My Drive/Colab Notebooks/data//arabian_nights/105.txt',\n",
              " '/content/drive/My Drive/Colab Notebooks/data//arabian_nights/113.txt',\n",
              " '/content/drive/My Drive/Colab Notebooks/data//arabian_nights/101.txt',\n",
              " '/content/drive/My Drive/Colab Notebooks/data//arabian_nights/114.txt',\n",
              " '/content/drive/My Drive/Colab Notebooks/data//arabian_nights/100.txt',\n",
              " '/content/drive/My Drive/Colab Notebooks/data//arabian_nights/109.txt',\n",
              " '/content/drive/My Drive/Colab Notebooks/data//arabian_nights/112.txt',\n",
              " '/content/drive/My Drive/Colab Notebooks/data//arabian_nights/103.txt',\n",
              " '/content/drive/My Drive/Colab Notebooks/data//arabian_nights/1000.txt',\n",
              " '/content/drive/My Drive/Colab Notebooks/data//arabian_nights/111.txt',\n",
              " '/content/drive/My Drive/Colab Notebooks/data//arabian_nights/104.txt',\n",
              " '/content/drive/My Drive/Colab Notebooks/data//arabian_nights/11.txt',\n",
              " '/content/drive/My Drive/Colab Notebooks/data//arabian_nights/102.txt',\n",
              " '/content/drive/My Drive/Colab Notebooks/data//arabian_nights/110.txt',\n",
              " '/content/drive/My Drive/Colab Notebooks/data//arabian_nights/1.txt',\n",
              " '/content/drive/My Drive/Colab Notebooks/data//arabian_nights/108.txt']"
            ]
          },
          "metadata": {},
          "execution_count": 35
        }
      ],
      "metadata": {
        "id": "iMHIB98DSALO",
        "colab": {
          "base_uri": "https://localhost:8080/"
        },
        "outputId": "ea7d9626-7d7f-478d-c6c8-91bbf5d142cb"
      },
      "execution_count": null
    },
    {
      "cell_type": "code",
      "source": [
        "from os.path import splitext"
      ],
      "metadata": {
        "id": "Fgnv2vM2fM0V"
      },
      "execution_count": null,
      "outputs": []
    },
    {
      "cell_type": "code",
      "source": [
        "splitext(\"file.txt\")"
      ],
      "metadata": {
        "colab": {
          "base_uri": "https://localhost:8080/"
        },
        "id": "VblVsPYefUtA",
        "outputId": "30c537eb-6da5-4112-ce19-212052624062"
      },
      "execution_count": null,
      "outputs": [
        {
          "output_type": "execute_result",
          "data": {
            "text/plain": [
              "('file', '.txt')"
            ]
          },
          "metadata": {},
          "execution_count": 37
        }
      ]
    },
    {
      "cell_type": "markdown",
      "source": [
        "As you can see the files are sorted by their string name and not by their numbering. To be able to sort the files by their numbers we must first remove the extension `.txt` as well as the directory `data/arabian_nights/`."
      ],
      "metadata": {
        "id": "UVRL_wLlSALO"
      }
    },
    {
      "cell_type": "markdown",
      "source": [
        "---"
      ],
      "metadata": {
        "id": "9xbMeZ6pSALO"
      }
    },
    {
      "cell_type": "markdown",
      "source": [
        "####Quiz!"
      ],
      "metadata": {
        "id": "udv06ouRSALP"
      }
    },
    {
      "cell_type": "markdown",
      "source": [
        "**1)** Write a function `remove_txt` that takes as argument a string and some extension that you want to remove. It should return the string without the extension. Tip: use the function `splitext` from the `os.path` module. Look up the documentation [here](http://docs.python.org/3.4/library/os.path.html#os.path.splitext)."
      ],
      "metadata": {
        "id": "ov4TszFXSALP"
      }
    },
    {
      "cell_type": "code",
      "source": [
        "from os.path import splitext\n",
        "\n",
        "def remove_ext(filename):\n",
        "    # insert your code here\n",
        "    base = splitext(filename)[0]\n",
        "    return base  \n",
        "\n",
        "\n",
        "# these tests should return True if your code is correct\n",
        "print(remove_ext(\"data/arabian_nights/1.txt\") == \"data/arabian_nights/1\")\n",
        "print(remove_ext(\"ridiculous_selfie.jpg\") == \"ridiculous_selfie\")"
      ],
      "outputs": [
        {
          "output_type": "stream",
          "name": "stdout",
          "text": [
            "True\n",
            "True\n"
          ]
        }
      ],
      "metadata": {
        "id": "jpTfHQuPSALP",
        "colab": {
          "base_uri": "https://localhost:8080/"
        },
        "outputId": "124973c8-349a-44eb-d4e7-8ba1cf18014f"
      },
      "execution_count": null
    },
    {
      "cell_type": "markdown",
      "source": [
        "Now let's rewrite this function using regex!\n",
        "\n",
        "Rather than using `splitext`, we can use `re.sub`. "
      ],
      "metadata": {
        "id": "16-oLTbPfgcL"
      }
    },
    {
      "cell_type": "code",
      "source": [
        "# Regex approach to remove file extensions\n",
        "string = \"Don't take me!\"\n",
        "\n",
        "re.sub(r\"^([^m]+) me\\!\", r\"\\1\", string)"
      ],
      "metadata": {
        "id": "W78h1pYxfq7Z",
        "colab": {
          "base_uri": "https://localhost:8080/",
          "height": 36
        },
        "outputId": "d06551ec-0ac6-48e7-8665-a16efbf20ce6"
      },
      "execution_count": null,
      "outputs": [
        {
          "output_type": "execute_result",
          "data": {
            "text/plain": [
              "\"Don't take\""
            ],
            "application/vnd.google.colaboratory.intrinsic+json": {
              "type": "string"
            }
          },
          "metadata": {},
          "execution_count": 39
        }
      ]
    },
    {
      "cell_type": "code",
      "source": [
        "fn = '/content/drive/My Drive/data/arabian_nights/413.txt'\n",
        "new_fn = re.sub(r\".+\\/([^\\/]+)\\.txt$\", r\"\\1\", fn)\n",
        "new_fn"
      ],
      "metadata": {
        "colab": {
          "base_uri": "https://localhost:8080/",
          "height": 36
        },
        "id": "ZtcoZIFoSaaj",
        "outputId": "15576e04-791c-46c4-cfaa-b20eae91e81e"
      },
      "execution_count": null,
      "outputs": [
        {
          "output_type": "execute_result",
          "data": {
            "text/plain": [
              "'413'"
            ],
            "application/vnd.google.colaboratory.intrinsic+json": {
              "type": "string"
            }
          },
          "metadata": {},
          "execution_count": 40
        }
      ]
    },
    {
      "cell_type": "markdown",
      "source": [
        "**2)** Write a function `remove_dir` that takes as argument a filepath and removes the directory from a filepath. Tip: use the function `basename` from the `os.path` module. Look up the document [here](http://docs.python.org/3.4/library/os.path.html#os.path.basename)"
      ],
      "metadata": {
        "id": "LzXmHf-kSALP"
      }
    },
    {
      "cell_type": "code",
      "source": [
        "from os.path import basename\n",
        "\n",
        "basename(fn)"
      ],
      "metadata": {
        "colab": {
          "base_uri": "https://localhost:8080/",
          "height": 36
        },
        "id": "YIvTiJ9zUcxz",
        "outputId": "1ada6ec9-6ed5-419c-e632-32059a577a1d"
      },
      "execution_count": null,
      "outputs": [
        {
          "output_type": "execute_result",
          "data": {
            "text/plain": [
              "'413.txt'"
            ],
            "application/vnd.google.colaboratory.intrinsic+json": {
              "type": "string"
            }
          },
          "metadata": {},
          "execution_count": 41
        }
      ]
    },
    {
      "cell_type": "code",
      "source": [
        "from os.path import basename\n",
        "\n",
        "def remove_dir(filepath):\n",
        "    # insert your code here\n",
        "    trimmed_file = basename(filepath)\n",
        "    return trimmed_file\n",
        "\n",
        "# these tests should return True if your code is correct\n",
        "print(remove_dir(\"data/arabian_nights/1.txt\") == \"1.txt\")\n",
        "print(remove_dir(\"/a/kind/of/funny/filepath/to/file.txt\") == \"file.txt\")"
      ],
      "outputs": [
        {
          "output_type": "stream",
          "name": "stdout",
          "text": [
            "True\n",
            "True\n"
          ]
        }
      ],
      "metadata": {
        "id": "zZYYN8x4SALP",
        "colab": {
          "base_uri": "https://localhost:8080/"
        },
        "outputId": "02c0aebd-40fe-4bd8-bd7a-e7d94fe30620"
      },
      "execution_count": null
    },
    {
      "cell_type": "markdown",
      "source": [
        "Now let's try the same problem, but using regular expressions and `re.sub`!"
      ],
      "metadata": {
        "id": "Pn7Plz8uYj3t"
      }
    },
    {
      "cell_type": "code",
      "source": [
        "# Regex approach to remove the directory information\n",
        "def remove_dir(filepath):\n",
        "    # insert your code here\n",
        "    trimmed_file = re.sub(r\".+\\/([^\\/]+)\", r\"\\1\", filepath)\n",
        "    return trimmed_file\n",
        "\n",
        "# these tests should return True if your code is correct\n",
        "print(remove_dir(\"data/arabian_nights/1.txt\") == \"1.txt\")\n",
        "print(remove_dir(\"/a/kind/of/funny/filepath/to/file.txt\") == \"file.txt\")"
      ],
      "metadata": {
        "id": "jys2-yW5oxke",
        "colab": {
          "base_uri": "https://localhost:8080/"
        },
        "outputId": "9bb17f08-f7e3-4854-d1dc-b3424d5525ba"
      },
      "execution_count": null,
      "outputs": [
        {
          "output_type": "stream",
          "name": "stdout",
          "text": [
            "True\n",
            "True\n"
          ]
        }
      ]
    },
    {
      "cell_type": "markdown",
      "source": [
        "**3)** Combine the two functions `remove_ext` and `remove_dir` into one function `get_filename`. This function takes as argument a filepath and returns the name (without the extensions) of the file."
      ],
      "metadata": {
        "id": "Clfq3j-KSALP"
      }
    },
    {
      "cell_type": "code",
      "source": [
        "def get_filename(filepath):\n",
        "    # insert your code here\n",
        "    base_name = remove_dir(filepath)\n",
        "    clean_name = remove_ext(base_name)\n",
        "    return(clean_name)\n",
        "    \n",
        "# these tests should return True if your code is correct\n",
        "print(get_filename(\"data/arabian_nights/1.txt\") == '1')"
      ],
      "outputs": [
        {
          "output_type": "stream",
          "name": "stdout",
          "text": [
            "True\n"
          ]
        }
      ],
      "metadata": {
        "id": "-61e5GZfSALQ",
        "colab": {
          "base_uri": "https://localhost:8080/"
        },
        "outputId": "e3c11872-5917-41e8-f1c6-1c39c9b75acf"
      },
      "execution_count": null
    },
    {
      "cell_type": "markdown",
      "source": [
        "And let's do it all in one simple function using regex!"
      ],
      "metadata": {
        "id": "5t6TtoDPeLg3"
      }
    },
    {
      "cell_type": "code",
      "source": [
        "# Single regex to clean filenames\n",
        "def get_filename(filepath):\n",
        "  regex = r\".+\\/([^\\.\\/]+)\\..+$\"\n",
        "  return re.sub(regex, r\"\\1\", filepath)\n",
        "\n",
        "get_filename(fn)\n",
        "# these tests should return True if your code is correct\n",
        "print(get_filename(\"data/arabian_nights/1.txt\") == '1')"
      ],
      "metadata": {
        "id": "4c-8L4jzePXH",
        "colab": {
          "base_uri": "https://localhost:8080/"
        },
        "outputId": "8ff35119-7cfc-437b-da14-efa400caa6f2"
      },
      "execution_count": null,
      "outputs": [
        {
          "output_type": "stream",
          "name": "stdout",
          "text": [
            "True\n"
          ]
        }
      ]
    },
    {
      "cell_type": "markdown",
      "source": [
        "---"
      ],
      "metadata": {
        "id": "3swgiHvwSALQ"
      }
    },
    {
      "cell_type": "markdown",
      "source": [
        "The final step is to convert numbers represented as string (e.g. \"1\" and \"10\") to a number. This can be achieved by using the function `int`:"
      ],
      "metadata": {
        "id": "qIpjEGWBSALQ"
      }
    },
    {
      "cell_type": "code",
      "source": [
        "x_as_string = \"1\"\n",
        "x_as_int = int(x_as_string)\n",
        "print(x_as_int)"
      ],
      "outputs": [
        {
          "output_type": "stream",
          "name": "stdout",
          "text": [
            "1\n"
          ]
        }
      ],
      "metadata": {
        "id": "FpDdtcNzSALQ",
        "colab": {
          "base_uri": "https://localhost:8080/"
        },
        "outputId": "53cdfa35-74eb-4207-aa77-dcb546f28d1a"
      },
      "execution_count": null
    },
    {
      "cell_type": "markdown",
      "source": [
        "The process of converting a string into an integer, is called *type casting*. Strings are different types than integers. To see this, have a look at the following:"
      ],
      "metadata": {
        "id": "SkmAMHftSALQ"
      }
    },
    {
      "cell_type": "code",
      "source": [
        "x = \"1\"\n",
        "y = \"2\"\n",
        "print(x + y)"
      ],
      "outputs": [
        {
          "output_type": "stream",
          "name": "stdout",
          "text": [
            "12\n"
          ]
        }
      ],
      "metadata": {
        "id": "QA3m_wR6SALQ",
        "colab": {
          "base_uri": "https://localhost:8080/"
        },
        "outputId": "dddc6d72-fb7b-47c4-80cf-a38dc989d0a5"
      },
      "execution_count": null
    },
    {
      "cell_type": "markdown",
      "source": [
        "12? Yes, 12. This is because, as you might remember from the first chapter, we can use the `+` operator to concatenate two strings. If we apply the same operation to integers, as in:"
      ],
      "metadata": {
        "id": "4Ihfm7sUSALR"
      }
    },
    {
      "cell_type": "code",
      "source": [
        "x = 1\n",
        "y = 2\n",
        "print(x + y)"
      ],
      "outputs": [
        {
          "output_type": "stream",
          "name": "stdout",
          "text": [
            "3\n"
          ]
        }
      ],
      "metadata": {
        "id": "IooyFhyZSALR",
        "colab": {
          "base_uri": "https://localhost:8080/"
        },
        "outputId": "4bbc592e-4beb-44e4-e100-7dff22bc3c2a"
      },
      "execution_count": null
    },
    {
      "cell_type": "markdown",
      "source": [
        "we get the expected result of 3."
      ],
      "metadata": {
        "id": "c2YxE5p_SALR"
      }
    },
    {
      "cell_type": "markdown",
      "source": [
        "---"
      ],
      "metadata": {
        "id": "AbpFn90CSALR"
      }
    },
    {
      "cell_type": "markdown",
      "source": [
        "####Quiz!"
      ],
      "metadata": {
        "id": "sLnp34YMSALR"
      }
    },
    {
      "cell_type": "markdown",
      "source": [
        "Combine the functions `int` and `get_filename` into the function `get_night` to obtain the integer corresponding to a night."
      ],
      "metadata": {
        "id": "kRz7RPBYSALR"
      }
    },
    {
      "cell_type": "code",
      "source": [
        "def get_night(filepath):\n",
        "    # insert your code here\n",
        "    fn = get_filename(filepath)\n",
        "    int_fn = int(fn)\n",
        "    return(int_fn)\n",
        "\n",
        "# these tests should return True if your code is correct\n",
        "print(get_night(\"data/arabian_nights/1.txt\") == 1)"
      ],
      "outputs": [
        {
          "output_type": "stream",
          "name": "stdout",
          "text": [
            "True\n"
          ]
        }
      ],
      "metadata": {
        "id": "kKkPLbv_SALR",
        "colab": {
          "base_uri": "https://localhost:8080/"
        },
        "outputId": "a5ff0ff4-3a95-443c-a97c-e02625d2b913"
      },
      "execution_count": null
    },
    {
      "cell_type": "markdown",
      "source": [
        "We can likewise solve this problem with a simple regex!"
      ],
      "metadata": {
        "id": "OW7d3He4fsd8"
      }
    },
    {
      "cell_type": "code",
      "source": [
        "# Single regex to clean filenames\n",
        "def get_night(filepath):\n",
        "  regex = r\".+\\/([^\\.\\/]+)\\..+$\"\n",
        "  fn = re.sub(regex, r\"\\1\", filepath)\n",
        "  int_fn = int(fn)\n",
        "  return(int_fn)\n",
        "\n",
        "# these tests should return True if your code is correct\n",
        "print(get_night(\"data/arabian_nights/1.txt\") == 1)"
      ],
      "metadata": {
        "colab": {
          "base_uri": "https://localhost:8080/"
        },
        "id": "Xh7i8WX0fwML",
        "outputId": "fda790ea-5bb4-4ad7-fd39-b5ba62988bed"
      },
      "execution_count": null,
      "outputs": [
        {
          "output_type": "stream",
          "name": "stdout",
          "text": [
            "True\n"
          ]
        }
      ]
    },
    {
      "cell_type": "markdown",
      "source": [
        "---"
      ],
      "metadata": {
        "id": "wMbEF4GaSALS"
      }
    },
    {
      "cell_type": "markdown",
      "source": [
        "OK, so now we can convert the filepaths to integers corresponding to the nights of storytelling. But how will we use that to sort the corpus in chronological order? In chapter 1 we briefly discussed how to sort your collection of good reads. In combination with our `get_night` function, we can use `sort` to obtain a nicely chronologically ordered list of stories. Prepare yourself for some real Python magic, because the following lines of code might be a little dazzling...\n",
        "\n",
        "First we list all files using `list_textfiles` and store it in the variable `filenames`:"
      ],
      "metadata": {
        "id": "3819cMlHSALS"
      }
    },
    {
      "cell_type": "code",
      "source": [
        "filenames = list_textfiles(path + '/arabian_nights')"
      ],
      "outputs": [],
      "metadata": {
        "id": "YFL8_RJ5SALS"
      },
      "execution_count": null
    },
    {
      "cell_type": "markdown",
      "source": [
        "Next we call the function `.sort()` on this list and supply as keyword our function `get_night`:"
      ],
      "metadata": {
        "id": "LTFo46KsSALS"
      }
    },
    {
      "cell_type": "code",
      "source": [
        "filenames.sort(key=get_night)\n",
        "filenames[:20]"
      ],
      "outputs": [
        {
          "output_type": "execute_result",
          "data": {
            "text/plain": [
              "['/content/drive/My Drive/Colab Notebooks/data//arabian_nights/1.txt',\n",
              " '/content/drive/My Drive/Colab Notebooks/data//arabian_nights/2.txt',\n",
              " '/content/drive/My Drive/Colab Notebooks/data//arabian_nights/3.txt',\n",
              " '/content/drive/My Drive/Colab Notebooks/data//arabian_nights/4.txt',\n",
              " '/content/drive/My Drive/Colab Notebooks/data//arabian_nights/5.txt',\n",
              " '/content/drive/My Drive/Colab Notebooks/data//arabian_nights/6.txt',\n",
              " '/content/drive/My Drive/Colab Notebooks/data//arabian_nights/7.txt',\n",
              " '/content/drive/My Drive/Colab Notebooks/data//arabian_nights/8.txt',\n",
              " '/content/drive/My Drive/Colab Notebooks/data//arabian_nights/9.txt',\n",
              " '/content/drive/My Drive/Colab Notebooks/data//arabian_nights/10.txt',\n",
              " '/content/drive/My Drive/Colab Notebooks/data//arabian_nights/11.txt',\n",
              " '/content/drive/My Drive/Colab Notebooks/data//arabian_nights/12.txt',\n",
              " '/content/drive/My Drive/Colab Notebooks/data//arabian_nights/13.txt',\n",
              " '/content/drive/My Drive/Colab Notebooks/data//arabian_nights/14.txt',\n",
              " '/content/drive/My Drive/Colab Notebooks/data//arabian_nights/15.txt',\n",
              " '/content/drive/My Drive/Colab Notebooks/data//arabian_nights/16.txt',\n",
              " '/content/drive/My Drive/Colab Notebooks/data//arabian_nights/17.txt',\n",
              " '/content/drive/My Drive/Colab Notebooks/data//arabian_nights/18.txt',\n",
              " '/content/drive/My Drive/Colab Notebooks/data//arabian_nights/19.txt',\n",
              " '/content/drive/My Drive/Colab Notebooks/data//arabian_nights/20.txt']"
            ]
          },
          "metadata": {},
          "execution_count": 54
        }
      ],
      "metadata": {
        "id": "8itEbZLMSALS",
        "colab": {
          "base_uri": "https://localhost:8080/"
        },
        "outputId": "a0eff810-a6f9-4895-8d8c-d269946dc32c"
      },
      "execution_count": null
    },
    {
      "cell_type": "markdown",
      "source": [
        "As you can see, we now have a perfectly chronologically ordered list of filenames. But how, **HOW!** did that work? As you might have guessed, the argument of `sort`: `key=get_night`, has something to do with all this magic. Without this argument, Python would just sort the filenames alphabeticaly:"
      ],
      "metadata": {
        "id": "r4cnvQH1SALS"
      }
    },
    {
      "cell_type": "code",
      "source": [
        "filenames = list_textfiles(path + '/arabian_nights')\n",
        "filenames.sort()\n",
        "print(filenames[:20])"
      ],
      "outputs": [
        {
          "output_type": "stream",
          "name": "stdout",
          "text": [
            "['/content/drive/My Drive/Colab Notebooks/data//arabian_nights/1.txt', '/content/drive/My Drive/Colab Notebooks/data//arabian_nights/10.txt', '/content/drive/My Drive/Colab Notebooks/data//arabian_nights/100.txt', '/content/drive/My Drive/Colab Notebooks/data//arabian_nights/1000.txt', '/content/drive/My Drive/Colab Notebooks/data//arabian_nights/1001.txt', '/content/drive/My Drive/Colab Notebooks/data//arabian_nights/101.txt', '/content/drive/My Drive/Colab Notebooks/data//arabian_nights/102.txt', '/content/drive/My Drive/Colab Notebooks/data//arabian_nights/103.txt', '/content/drive/My Drive/Colab Notebooks/data//arabian_nights/104.txt', '/content/drive/My Drive/Colab Notebooks/data//arabian_nights/105.txt', '/content/drive/My Drive/Colab Notebooks/data//arabian_nights/106.txt', '/content/drive/My Drive/Colab Notebooks/data//arabian_nights/107.txt', '/content/drive/My Drive/Colab Notebooks/data//arabian_nights/108.txt', '/content/drive/My Drive/Colab Notebooks/data//arabian_nights/109.txt', '/content/drive/My Drive/Colab Notebooks/data//arabian_nights/11.txt', '/content/drive/My Drive/Colab Notebooks/data//arabian_nights/110.txt', '/content/drive/My Drive/Colab Notebooks/data//arabian_nights/111.txt', '/content/drive/My Drive/Colab Notebooks/data//arabian_nights/112.txt', '/content/drive/My Drive/Colab Notebooks/data//arabian_nights/113.txt', '/content/drive/My Drive/Colab Notebooks/data//arabian_nights/114.txt']\n"
          ]
        }
      ],
      "metadata": {
        "id": "fYIEk3kdSALS",
        "colab": {
          "base_uri": "https://localhost:8080/"
        },
        "outputId": "500cf777-4a7e-4d9a-8b1f-d739768d7501"
      },
      "execution_count": null
    },
    {
      "cell_type": "markdown",
      "source": [
        "However, if we supply a function to `key`, Python will internally first apply that function to all items we want to sort. In our case this means Python converts all filepaths to integers. After that Python sorts the list. Then for each converted item it returns the corresponding item in the original list. (Technically this is not an accurate description, but it basically comes down to this.)\n",
        "\n",
        "If you still feel a little dizzy after all this, don't be afraid. Sometimes it is good enough to use a particular piece of code even if you don't completely understand it. We can now use these functions to reload the corpus, this time in chronological order:"
      ],
      "metadata": {
        "id": "ljsLZCE-SALT"
      }
    },
    {
      "cell_type": "code",
      "source": [
        "corpus = []\n",
        "filenames = list_textfiles(path + \"/arabian_nights\")\n",
        "filenames.sort(key=get_night)\n",
        "for filename in filenames:\n",
        "    text_string_2 = read_file(filename)\n",
        "    tok_2 = tokenize(text_string_2)\n",
        "    corpus.append(tok_2)"
      ],
      "outputs": [
        {
          "output_type": "error",
          "ename": "AttributeError",
          "evalue": "ignored",
          "traceback": [
            "\u001b[0;31m---------------------------------------------------------------------------\u001b[0m",
            "\u001b[0;31mAttributeError\u001b[0m                            Traceback (most recent call last)",
            "\u001b[0;32m<ipython-input-59-6428552a8f98>\u001b[0m in \u001b[0;36m<module>\u001b[0;34m\u001b[0m\n\u001b[1;32m      4\u001b[0m \u001b[0;32mfor\u001b[0m \u001b[0mfilename\u001b[0m \u001b[0;32min\u001b[0m \u001b[0mfilenames\u001b[0m\u001b[0;34m:\u001b[0m\u001b[0;34m\u001b[0m\u001b[0;34m\u001b[0m\u001b[0m\n\u001b[1;32m      5\u001b[0m     \u001b[0mtext_string_2\u001b[0m \u001b[0;34m=\u001b[0m \u001b[0mread_file\u001b[0m\u001b[0;34m(\u001b[0m\u001b[0mfilename\u001b[0m\u001b[0;34m)\u001b[0m\u001b[0;34m\u001b[0m\u001b[0;34m\u001b[0m\u001b[0m\n\u001b[0;32m----> 6\u001b[0;31m     \u001b[0mtok_2\u001b[0m \u001b[0;34m=\u001b[0m \u001b[0mtokenize\u001b[0m\u001b[0;34m(\u001b[0m\u001b[0mtext_string_2\u001b[0m\u001b[0;34m)\u001b[0m\u001b[0;34m\u001b[0m\u001b[0;34m\u001b[0m\u001b[0m\n\u001b[0m\u001b[1;32m      7\u001b[0m     \u001b[0mcorpus\u001b[0m\u001b[0;34m.\u001b[0m\u001b[0mappend\u001b[0m\u001b[0;34m(\u001b[0m\u001b[0mtok_2\u001b[0m\u001b[0;34m)\u001b[0m\u001b[0;34m\u001b[0m\u001b[0;34m\u001b[0m\u001b[0m\n",
            "\u001b[0;32m<ipython-input-28-1410b591d26b>\u001b[0m in \u001b[0;36mtokenize\u001b[0;34m(text)\u001b[0m\n\u001b[1;32m     11\u001b[0m     \u001b[0msentences\u001b[0m \u001b[0;34m=\u001b[0m \u001b[0msplit_sentences\u001b[0m\u001b[0;34m(\u001b[0m\u001b[0mtext\u001b[0m\u001b[0;34m)\u001b[0m\u001b[0;34m\u001b[0m\u001b[0;34m\u001b[0m\u001b[0m\n\u001b[1;32m     12\u001b[0m     \u001b[0;32mfor\u001b[0m \u001b[0msent\u001b[0m \u001b[0;32min\u001b[0m \u001b[0msentences\u001b[0m\u001b[0;34m:\u001b[0m\u001b[0;34m\u001b[0m\u001b[0;34m\u001b[0m\u001b[0m\n\u001b[0;32m---> 13\u001b[0;31m         \u001b[0mclean_sent\u001b[0m \u001b[0;34m=\u001b[0m \u001b[0mclean_text\u001b[0m\u001b[0;34m(\u001b[0m\u001b[0msent\u001b[0m\u001b[0;34m)\u001b[0m\u001b[0;34m\u001b[0m\u001b[0;34m\u001b[0m\u001b[0m\n\u001b[0m\u001b[1;32m     14\u001b[0m         \u001b[0mword_list\u001b[0m \u001b[0;34m=\u001b[0m \u001b[0mword_tokenizer\u001b[0m\u001b[0;34m(\u001b[0m\u001b[0mclean_sent\u001b[0m\u001b[0;34m)\u001b[0m\u001b[0;34m\u001b[0m\u001b[0;34m\u001b[0m\u001b[0m\n\u001b[1;32m     15\u001b[0m         \u001b[0mclean_sentences\u001b[0m \u001b[0;34m+=\u001b[0m \u001b[0;34m[\u001b[0m\u001b[0mword_list\u001b[0m\u001b[0;34m]\u001b[0m\u001b[0;34m\u001b[0m\u001b[0;34m\u001b[0m\u001b[0m\n",
            "\u001b[0;32m<ipython-input-24-b6a97421e123>\u001b[0m in \u001b[0;36mclean_text\u001b[0;34m(input_text)\u001b[0m\n\u001b[1;32m      2\u001b[0m   \u001b[0moutput_string\u001b[0m \u001b[0;34m=\u001b[0m \u001b[0;34m\"\"\u001b[0m\u001b[0;34m\u001b[0m\u001b[0;34m\u001b[0m\u001b[0m\n\u001b[1;32m      3\u001b[0m   \u001b[0;32mfor\u001b[0m \u001b[0mchar\u001b[0m \u001b[0;32min\u001b[0m \u001b[0minput_text\u001b[0m\u001b[0;34m:\u001b[0m\u001b[0;34m\u001b[0m\u001b[0;34m\u001b[0m\u001b[0m\n\u001b[0;32m----> 4\u001b[0;31m     \u001b[0;32mif\u001b[0m \u001b[0mchar\u001b[0m \u001b[0;32mnot\u001b[0m \u001b[0;32min\u001b[0m \u001b[0mstring\u001b[0m\u001b[0;34m.\u001b[0m\u001b[0mpunctuation\u001b[0m\u001b[0;34m:\u001b[0m\u001b[0;34m\u001b[0m\u001b[0;34m\u001b[0m\u001b[0m\n\u001b[0m\u001b[1;32m      5\u001b[0m       \u001b[0moutput_string\u001b[0m \u001b[0;34m+=\u001b[0m \u001b[0mchar\u001b[0m\u001b[0;34m\u001b[0m\u001b[0;34m\u001b[0m\u001b[0m\n\u001b[1;32m      6\u001b[0m   \u001b[0;32mreturn\u001b[0m \u001b[0moutput_string\u001b[0m\u001b[0;34m.\u001b[0m\u001b[0mlower\u001b[0m\u001b[0;34m(\u001b[0m\u001b[0;34m)\u001b[0m\u001b[0;34m\u001b[0m\u001b[0;34m\u001b[0m\u001b[0m\n",
            "\u001b[0;31mAttributeError\u001b[0m: 'str' object has no attribute 'punctuation'"
          ]
        }
      ],
      "metadata": {
        "id": "oyKYLPZeSALT",
        "colab": {
          "base_uri": "https://localhost:8080/",
          "height": 363
        },
        "outputId": "537c79f4-f653-4beb-8031-7f572d6027c0"
      },
      "execution_count": null
    },
    {
      "cell_type": "code",
      "source": [
        "corpus[0][:2]"
      ],
      "metadata": {
        "colab": {
          "base_uri": "https://localhost:8080/"
        },
        "id": "EAvJNxsjdfbT",
        "outputId": "da9f3f81-bb13-4adf-f058-2602f96a0804"
      },
      "execution_count": null,
      "outputs": [
        {
          "output_type": "execute_result",
          "data": {
            "text/plain": [
              "[['in',\n",
              "  'the',\n",
              "  'name',\n",
              "  'of',\n",
              "  'allah',\n",
              "  '\\nthe',\n",
              "  'compassionating',\n",
              "  'the',\n",
              "  'compassionate\\npraise',\n",
              "  'be',\n",
              "  'to',\n",
              "  'allah',\n",
              "  '',\n",
              "  'the',\n",
              "  'beneficent',\n",
              "  'king',\n",
              "  '',\n",
              "  'the',\n",
              "  'creator',\n",
              "  'of',\n",
              "  'the',\n",
              "  'universe',\n",
              "  '',\n",
              "  'lord',\n",
              "  'of',\n",
              "  'the',\n",
              "  'three',\n",
              "  'worlds',\n",
              "  '',\n",
              "  'who',\n",
              "  'set',\n",
              "  'up',\n",
              "  'the',\n",
              "  'firmament',\n",
              "  'without',\n",
              "  'pillars',\n",
              "  'in',\n",
              "  'its',\n",
              "  'stead',\n",
              "  '',\n",
              "  'and',\n",
              "  'who',\n",
              "  'stretched',\n",
              "  'out',\n",
              "  'the',\n",
              "  'earth',\n",
              "  'even',\n",
              "  'as',\n",
              "  'a',\n",
              "  'bed',\n",
              "  '',\n",
              "  'and',\n",
              "  'grace',\n",
              "  'and',\n",
              "  'prayerblesslng',\n",
              "  'be',\n",
              "  'upon',\n",
              "  'our',\n",
              "  'lord',\n",
              "  'mohammed',\n",
              "  '',\n",
              "  'lord',\n",
              "  'of',\n",
              "  'apostolic',\n",
              "  'men',\n",
              "  '',\n",
              "  'and',\n",
              "  'upon',\n",
              "  'his',\n",
              "  'family',\n",
              "  'and',\n",
              "  'companion',\n",
              "  'train',\n",
              "  '',\n",
              "  'prayer',\n",
              "  'and',\n",
              "  'blessings',\n",
              "  'enduring',\n",
              "  'and',\n",
              "  'grace',\n",
              "  'which',\n",
              "  'unto',\n",
              "  'the',\n",
              "  'day',\n",
              "  'of',\n",
              "  'doom',\n",
              "  'shall',\n",
              "  'remain',\n",
              "  '',\n",
              "  'amen'],\n",
              " ['',\n",
              "  'o',\n",
              "  'thou',\n",
              "  'of',\n",
              "  'the',\n",
              "  'three',\n",
              "  'worlds',\n",
              "  'sovereign\\nand',\n",
              "  'afterwards']]"
            ]
          },
          "metadata": {},
          "execution_count": 68
        }
      ]
    },
    {
      "cell_type": "markdown",
      "source": [
        "---"
      ],
      "metadata": {
        "id": "BC2kR_VcSALT"
      }
    },
    {
      "cell_type": "markdown",
      "source": [
        "###Exploratory data analysis"
      ],
      "metadata": {
        "id": "8GAkOJA6SALT"
      }
    },
    {
      "cell_type": "markdown",
      "source": [
        "As a first exploratory data analysis, we are going to compute for each night how many sentences it contains and how many words. It is quite easy to count the number of sentences per night, since each night is represented by a list of sentences."
      ],
      "metadata": {
        "id": "Z7eoiJjgSALT"
      }
    },
    {
      "cell_type": "code",
      "source": [
        "sentences_per_night = []\n",
        "for night in corpus:\n",
        "    sentences_per_night.append(len(night))\n",
        "print(sentences_per_night[:10])"
      ],
      "outputs": [
        {
          "output_type": "stream",
          "name": "stdout",
          "text": [
            "[]\n"
          ]
        }
      ],
      "metadata": {
        "id": "BfmcbKG0SALT",
        "colab": {
          "base_uri": "https://localhost:8080/"
        },
        "outputId": "b4e6f269-5c4f-465b-de20-0729e6794c64"
      },
      "execution_count": null
    },
    {
      "cell_type": "markdown",
      "source": [
        "Using the function `max` we can find out what the highest number of sentences is:"
      ],
      "metadata": {
        "id": "9yrpn5GbSALU"
      }
    },
    {
      "cell_type": "code",
      "source": [
        "max(sentences_per_night)"
      ],
      "outputs": [
        {
          "output_type": "error",
          "ename": "ValueError",
          "evalue": "ignored",
          "traceback": [
            "\u001b[0;31m---------------------------------------------------------------------------\u001b[0m",
            "\u001b[0;31mValueError\u001b[0m                                Traceback (most recent call last)",
            "\u001b[0;32m<ipython-input-61-232ab409c595>\u001b[0m in \u001b[0;36m<module>\u001b[0;34m\u001b[0m\n\u001b[0;32m----> 1\u001b[0;31m \u001b[0mmax\u001b[0m\u001b[0;34m(\u001b[0m\u001b[0msentences_per_night\u001b[0m\u001b[0;34m)\u001b[0m\u001b[0;34m\u001b[0m\u001b[0;34m\u001b[0m\u001b[0m\n\u001b[0m",
            "\u001b[0;31mValueError\u001b[0m: max() arg is an empty sequence"
          ]
        }
      ],
      "metadata": {
        "id": "eUoWI_JqSALU",
        "colab": {
          "base_uri": "https://localhost:8080/",
          "height": 165
        },
        "outputId": "dcd28d26-ace4-4c7b-d3de-aa2718afe706"
      },
      "execution_count": null
    },
    {
      "cell_type": "markdown",
      "source": [
        "Similarly, if we would like to now what the lowest number of sentences is, we use the function `min`:"
      ],
      "metadata": {
        "id": "WGK7ZnqlSALU"
      }
    },
    {
      "cell_type": "code",
      "source": [
        "min(sentences_per_night)"
      ],
      "outputs": [
        {
          "output_type": "execute_result",
          "data": {
            "text/plain": [
              "1"
            ]
          },
          "metadata": {},
          "execution_count": 71
        }
      ],
      "metadata": {
        "id": "QVeEH5rwSALU",
        "colab": {
          "base_uri": "https://localhost:8080/"
        },
        "outputId": "2434b530-6b1f-4b49-bdb7-3303d0d75bc7"
      },
      "execution_count": null
    },
    {
      "cell_type": "markdown",
      "source": [
        "---"
      ],
      "metadata": {
        "id": "_DbyGX-6SALU"
      }
    },
    {
      "cell_type": "markdown",
      "source": [
        "####Quiz!"
      ],
      "metadata": {
        "id": "dFn-f-Y3SALU"
      }
    },
    {
      "cell_type": "markdown",
      "source": [
        "The function `sum` takes a list of numbers as input and returns the sum:"
      ],
      "metadata": {
        "id": "7plA_avwSALU"
      }
    },
    {
      "cell_type": "code",
      "source": [
        "print(sum([1, 3, 3, 4]))"
      ],
      "outputs": [
        {
          "output_type": "stream",
          "name": "stdout",
          "text": [
            "11\n"
          ]
        }
      ],
      "metadata": {
        "id": "IzUBF-dESALV",
        "colab": {
          "base_uri": "https://localhost:8080/"
        },
        "outputId": "1e3a75a3-1c0a-4e52-99b7-e97a8d4f3233"
      },
      "execution_count": null
    },
    {
      "cell_type": "markdown",
      "source": [
        "Use this function to compute the average number of sentences per night. Note if you use Python 2.7, you will need to convert the result of sum, which will be an integer to a `float`, using `float(some_number)`. "
      ],
      "metadata": {
        "id": "Nkeq313pSALV"
      }
    },
    {
      "cell_type": "code",
      "source": [
        "# if you use Python 3.x, both print statements will return \n",
        "# the same thing and you don't need to worry.\n",
        "number = 1\n",
        "print(number)\n",
        "number = float(number)\n",
        "print(number)"
      ],
      "outputs": [
        {
          "output_type": "stream",
          "name": "stdout",
          "text": [
            "1\n",
            "1.0\n"
          ]
        }
      ],
      "metadata": {
        "id": "mENXxRrBSALV",
        "colab": {
          "base_uri": "https://localhost:8080/"
        },
        "outputId": "dec81693-f3f5-4533-9d1f-562a60edab41"
      },
      "execution_count": null
    },
    {
      "cell_type": "code",
      "source": [
        "# insert your code here for the average number of sentences per night\n",
        "# remember that the mean of set of numbers is the sum of those numbers over the size of the set (the number of numbers)\n",
        "\n",
        "sum(sentences_per_night)/len(sentences_per_night)\n"
      ],
      "outputs": [
        {
          "output_type": "execute_result",
          "data": {
            "text/plain": [
              "21.094094094094093"
            ]
          },
          "metadata": {},
          "execution_count": 74
        }
      ],
      "metadata": {
        "id": "sWqk8NZ7SALV",
        "colab": {
          "base_uri": "https://localhost:8080/"
        },
        "outputId": "08b8def3-b60a-43a4-a4ad-d72c5c05afa3"
      },
      "execution_count": null
    },
    {
      "cell_type": "markdown",
      "source": [
        "---"
      ],
      "metadata": {
        "id": "J4iVGHb0SALW"
      }
    },
    {
      "cell_type": "markdown",
      "source": [
        "Given our data structure of a list of sentences which are themselves lists of words, it is a little trickier to count for each night how many words it contains. One possible way is the following:"
      ],
      "metadata": {
        "id": "sa8XouFBSALW"
      }
    },
    {
      "cell_type": "code",
      "source": [
        "words_per_night = []\n",
        "for night in corpus:\n",
        "    n_words = 0\n",
        "    for sentence in night:\n",
        "        n_words += len(sentence)\n",
        "    words_per_night.append(n_words)"
      ],
      "outputs": [],
      "metadata": {
        "id": "x1AhSBG0SALW"
      },
      "execution_count": null
    },
    {
      "cell_type": "code",
      "source": [
        "words_per_night[:20]"
      ],
      "metadata": {
        "colab": {
          "base_uri": "https://localhost:8080/"
        },
        "id": "jg9qsuKthMVj",
        "outputId": "d16c8150-e47b-490f-a065-622fc63dfd1a"
      },
      "execution_count": null,
      "outputs": [
        {
          "output_type": "execute_result",
          "data": {
            "text/plain": [
              "[11371,\n",
              " 4314,\n",
              " 1999,\n",
              " 1783,\n",
              " 4492,\n",
              " 1381,\n",
              " 2674,\n",
              " 1330,\n",
              " 1174,\n",
              " 1749,\n",
              " 1030,\n",
              " 1694,\n",
              " 915,\n",
              " 849,\n",
              " 2686,\n",
              " 1215,\n",
              " 958,\n",
              " 1070,\n",
              " 1312,\n",
              " 1249]"
            ]
          },
          "metadata": {},
          "execution_count": 76
        }
      ]
    },
    {
      "cell_type": "markdown",
      "source": [
        "Make sure you really understand these lines of code as you will need them in the next quiz. "
      ],
      "metadata": {
        "id": "4v2_9vmDSALW"
      }
    },
    {
      "cell_type": "markdown",
      "source": [
        "The suspense created by Shahrazad’s story-telling skills is intriguing, especially the “cliff-hanger” ending each night which she uses to avert her own execution (and possibly that of womanhood). Every night she tells the Sultan a story only to stop at dawn and she picks up the thread the next night. But does it really take the whole night to tell a particular story?\n",
        "\n",
        "I am not aware of any exact numbers about how many words people speak per minute. Averages seem to fluctuate between 100 and 200 words per minute. Narrators are advised to use approximately 150 words per minute in audiobooks. I suspect that this number is a little lower for live storytelling and assume it lies around 130 words per minute (including pauses). Using this information, we can compute the time it takes to tell a particular story as follows:\n",
        "\n",
        "$$\\textrm{story time}(\\textrm{text}) = \\frac{\\textrm{number of words in text}}{\\textrm{number of words per minute}}$$"
      ],
      "metadata": {
        "id": "5KZKO8nLSALX"
      }
    },
    {
      "cell_type": "markdown",
      "source": [
        "---"
      ],
      "metadata": {
        "id": "ZitJtdNNSALX"
      }
    },
    {
      "cell_type": "markdown",
      "source": [
        "####Quiz!"
      ],
      "metadata": {
        "id": "KPFdE2uOSALX"
      }
    },
    {
      "cell_type": "markdown",
      "source": [
        "**1)** Write a function called `story_time` that takes as input a text. Given a speed of 130 words per minute, compute how long it takes to tell that text."
      ],
      "metadata": {
        "id": "AJGWs-E9SALY"
      }
    },
    {
      "cell_type": "code",
      "source": [
        "def story_time(text):\n",
        "  # insert your code here\n",
        "  len_words = 0\n",
        "  for sent in text:\n",
        "    len_words += len(sent)\n",
        "  len_minutes = len_words/130\n",
        "  return(len_minutes)\n",
        "\n",
        "# these tests should return True if your code is correct\n",
        "print(story_time([[\"story\", \"story\"]]) * 130 == 2.0)"
      ],
      "outputs": [
        {
          "output_type": "stream",
          "name": "stdout",
          "text": [
            "True\n"
          ]
        }
      ],
      "metadata": {
        "id": "UqbSQd9cSALY",
        "colab": {
          "base_uri": "https://localhost:8080/"
        },
        "outputId": "98c0afc8-4a8f-4823-e519-a928d1fa2526"
      },
      "execution_count": null
    },
    {
      "cell_type": "markdown",
      "source": [
        "**2)** Compute the story_time for each night in our corpus. Assign the result to the variable `story_time_per_night`."
      ],
      "metadata": {
        "id": "GYg7CWaiSALZ"
      }
    },
    {
      "cell_type": "code",
      "source": [
        "story_time_per_night = []\n",
        "# insert your code here\n",
        "for story in corpus:\n",
        "  time = story_time(story)\n",
        "  story_time_per_night.append(time)\n",
        "  \n",
        "print(story_time_per_night[:10])"
      ],
      "outputs": [
        {
          "output_type": "stream",
          "name": "stdout",
          "text": [
            "[87.46923076923076, 33.184615384615384, 15.376923076923077, 13.715384615384615, 34.55384615384615, 10.623076923076923, 20.56923076923077, 10.23076923076923, 9.03076923076923, 13.453846153846154]\n"
          ]
        }
      ],
      "metadata": {
        "id": "N-EkvBbqSALZ",
        "colab": {
          "base_uri": "https://localhost:8080/"
        },
        "outputId": "d12c8bfd-c654-4386-dc5d-2618940d43f2"
      },
      "execution_count": null
    },
    {
      "cell_type": "markdown",
      "source": [
        "Note that we can accomplish the same goal more directly using the word counts that we already computed. "
      ],
      "metadata": {
        "id": "TpszxDg5hh35"
      }
    },
    {
      "cell_type": "code",
      "source": [
        "story_times = []\n",
        "for word_count in words_per_night:\n",
        "    time = word_count / 130\n",
        "    story_times.append(time)\n",
        "\n",
        "\n",
        "story_times[:10]"
      ],
      "metadata": {
        "colab": {
          "base_uri": "https://localhost:8080/"
        },
        "id": "XuIJbaG4gcrz",
        "outputId": "21c88850-e02c-453c-a0ee-b3678ecd155c"
      },
      "execution_count": null,
      "outputs": [
        {
          "output_type": "execute_result",
          "data": {
            "text/plain": [
              "[87.46923076923076,\n",
              " 33.184615384615384,\n",
              " 15.376923076923077,\n",
              " 13.715384615384615,\n",
              " 34.55384615384615,\n",
              " 10.623076923076923,\n",
              " 20.56923076923077,\n",
              " 10.23076923076923,\n",
              " 9.03076923076923,\n",
              " 13.453846153846154]"
            ]
          },
          "metadata": {},
          "execution_count": 83
        }
      ]
    },
    {
      "cell_type": "markdown",
      "source": [
        "**3**) Compute the average, minimum and maximum story telling time."
      ],
      "metadata": {
        "id": "nJP8bPz2SALa"
      }
    },
    {
      "cell_type": "code",
      "source": [
        "# insert your code here\n",
        "def average(nums):\n",
        "  numerator = sum(nums)\n",
        "  denominator = len(nums)\n",
        "  return numerator/denominator\n",
        "\n",
        "average(story_times)"
      ],
      "metadata": {
        "colab": {
          "base_uri": "https://localhost:8080/"
        },
        "id": "ygbAJMgtib68",
        "outputId": "91ab8d1a-a91c-4dde-a83d-d019b472cbd9"
      },
      "execution_count": null,
      "outputs": [
        {
          "output_type": "execute_result",
          "data": {
            "text/plain": [
              "9.58785708785709"
            ]
          },
          "metadata": {},
          "execution_count": 86
        }
      ]
    },
    {
      "cell_type": "markdown",
      "source": [
        "(Or we can use `numpy`)"
      ],
      "metadata": {
        "id": "NzEqfEviizMo"
      }
    },
    {
      "cell_type": "code",
      "source": [
        "from numpy import mean\n",
        "\n",
        "mean(story_times)"
      ],
      "metadata": {
        "colab": {
          "base_uri": "https://localhost:8080/"
        },
        "id": "uoG4-4Emi1qs",
        "outputId": "06bee93e-db4d-4b5b-8962-90f12a76b5d4"
      },
      "execution_count": null,
      "outputs": [
        {
          "output_type": "execute_result",
          "data": {
            "text/plain": [
              "9.587857087857088"
            ]
          },
          "metadata": {},
          "execution_count": 87
        }
      ]
    },
    {
      "cell_type": "code",
      "source": [
        "max(story_times)"
      ],
      "outputs": [
        {
          "output_type": "execute_result",
          "data": {
            "text/plain": [
              "87.46923076923076"
            ]
          },
          "metadata": {},
          "execution_count": 84
        }
      ],
      "metadata": {
        "id": "uA1ZbdIqSALa",
        "colab": {
          "base_uri": "https://localhost:8080/"
        },
        "outputId": "8456daf4-0536-4c73-c7f7-ffd95bac628a"
      },
      "execution_count": null
    },
    {
      "cell_type": "code",
      "source": [
        "min(story_times)"
      ],
      "metadata": {
        "colab": {
          "base_uri": "https://localhost:8080/"
        },
        "id": "Mo4PsgkvkH8M",
        "outputId": "ce8510da-2a89-488c-aa29-453769a3f2b1"
      },
      "execution_count": null,
      "outputs": [
        {
          "output_type": "execute_result",
          "data": {
            "text/plain": [
              "2.330769230769231"
            ]
          },
          "metadata": {},
          "execution_count": 85
        }
      ]
    },
    {
      "cell_type": "markdown",
      "source": [
        "---"
      ],
      "metadata": {
        "id": "g8zqbwZ8SALb"
      }
    },
    {
      "cell_type": "markdown",
      "source": [
        "###Visualizing general statistics"
      ],
      "metadata": {
        "id": "rRJ7FnhXSALb"
      }
    },
    {
      "cell_type": "markdown",
      "source": [
        "Now that we have computed a range of general statistics for our corpus, it would be nice to visualize them. Python's plotting library *matplotlib* (see [here](http://matplotlib.org)) allows us to produce all kinds of graphs. We could for example, plot for each story, how many sentences it contains:"
      ],
      "metadata": {
        "id": "sO14BQbTSALb"
      }
    },
    {
      "cell_type": "code",
      "source": [
        "import matplotlib.pyplot as plt\n",
        "\n",
        "plt.plot(sentences_per_night)"
      ],
      "outputs": [
        {
          "output_type": "execute_result",
          "data": {
            "text/plain": [
              "[<matplotlib.lines.Line2D at 0x7f6281518f10>]"
            ]
          },
          "metadata": {},
          "execution_count": 88
        },
        {
          "output_type": "display_data",
          "data": {
            "text/plain": [
              "<Figure size 432x288 with 1 Axes>"
            ],
            "image/png": "[encoded data removed]"
          },
          "metadata": {
            "needs_background": "light"
          }
        }
      ],
      "metadata": {
        "id": "bcD0bJzbSALc",
        "colab": {
          "base_uri": "https://localhost:8080/",
          "height": 282
        },
        "outputId": "0b684f81-dbd7-4e8e-94dd-77ca3ab795e6"
      },
      "execution_count": null
    },
    {
      "cell_type": "markdown",
      "source": [
        "---"
      ],
      "metadata": {
        "id": "7k9EiYCzSALc"
      }
    },
    {
      "cell_type": "markdown",
      "source": [
        "####Quiz!"
      ],
      "metadata": {
        "id": "QgqDcVcrSALc"
      }
    },
    {
      "cell_type": "markdown",
      "source": [
        "**1)** Can you do the same for `words_per_night`?"
      ],
      "metadata": {
        "id": "_T-OvXGASALc"
      }
    },
    {
      "cell_type": "code",
      "source": [
        "# insert your code here\n",
        "plt.plot(words_per_night)\n"
      ],
      "outputs": [
        {
          "output_type": "execute_result",
          "data": {
            "text/plain": [
              "[<matplotlib.lines.Line2D at 0x7f627f3a01d0>]"
            ]
          },
          "metadata": {},
          "execution_count": 90
        },
        {
          "output_type": "display_data",
          "data": {
            "text/plain": [
              "<Figure size 432x288 with 1 Axes>"
            ],
            "image/png": "[encoded data removed]"
          },
          "metadata": {
            "needs_background": "light"
          }
        }
      ],
      "metadata": {
        "id": "dzIGJkOUSALc",
        "colab": {
          "base_uri": "https://localhost:8080/",
          "height": 282
        },
        "outputId": "88f6a86b-88e9-4efd-ba3a-71cceea85c25"
      },
      "execution_count": null
    },
    {
      "cell_type": "markdown",
      "source": [
        "**2)** And can you do the same for `story_time_per_night`?"
      ],
      "metadata": {
        "id": "-lukT_f8SALc"
      }
    },
    {
      "cell_type": "code",
      "source": [
        "# insert your code here\n",
        "plt.plot(story_time_per_night)"
      ],
      "outputs": [
        {
          "output_type": "execute_result",
          "data": {
            "text/plain": [
              "[<matplotlib.lines.Line2D at 0x7f627f300a90>]"
            ]
          },
          "metadata": {},
          "execution_count": 92
        },
        {
          "output_type": "display_data",
          "data": {
            "text/plain": [
              "<Figure size 432x288 with 1 Axes>"
            ],
            "image/png": "[encoded data removed]"
          },
          "metadata": {
            "needs_background": "light"
          }
        }
      ],
      "metadata": {
        "id": "hiIVE7GGSALc",
        "colab": {
          "base_uri": "https://localhost:8080/",
          "height": 282
        },
        "outputId": "f57431d6-60f3-48c1-f84f-a48e4c95e69a"
      },
      "execution_count": null
    },
    {
      "cell_type": "markdown",
      "source": [
        "**3)** In this final exercise we will put everything together what we have learnt so far. We want you to write a function `positions_of` that returns for a given word all sentence positions in the *Arabian Nights* where that word occurs. We are not interested in the positions relative to a particular night, but only to the corpus as a whole. Use that function to find all occurences of the name Sharahzad and store the corresponding indexes in the variable `positions_of_shahrazad`. Do the same thing for the name *Ali*. Store the result in `positions_of_ali`. Finally, find all occurences of *Egypt* and store the indexes in `positions_of_egypt`. Tip: (1) remember that we lowercased the entire corpus! (2) remember that indexes start at 0."
      ],
      "metadata": {
        "id": "uEA1pM9lSALc"
      }
    },
    {
      "cell_type": "code",
      "source": [
        "def positions_of(word):\n",
        "    # Keep track of the current position (start at 0)\n",
        "    pos = 0\n",
        "    # Open a list to store the positions for any matches\n",
        "    positions = []\n",
        "    # Go through the corpus file by file (with the sorted corpus)\n",
        "    for doc in corpus:\n",
        "      for sent in doc:\n",
        "        #...now down to the word level...\n",
        "        for token in sent:\n",
        "          # We can check if the word matches our target\n",
        "          if token == word:\n",
        "            # If so, take down its position\n",
        "            positions.append(pos)\n",
        "          # Increase position to indicate that we will now go one word further in the corpus\n",
        "          pos += 1\n",
        "    return(positions)\n",
        "\n",
        "\n",
        "\n",
        "positions_of_shahrazad = positions_of(\"shahrazad\")\n",
        "positions_of_ali = positions_of(\"ali\")\n",
        "positions_of_egypt = positions_of(\"egypt\")"
      ],
      "outputs": [],
      "metadata": {
        "id": "GAmxoXJUSALd"
      },
      "execution_count": null
    },
    {
      "cell_type": "markdown",
      "source": [
        "If everything went well, the following lines of code should produce a nice dispersion plot of all sentence occurences of Shahrazad, Ali and Egypt in the corpus."
      ],
      "metadata": {
        "id": "9EKwSP3PSALd"
      }
    },
    {
      "cell_type": "code",
      "source": [
        "plt.figure(figsize=(20, 8))\n",
        "names = [\"Shahrazad\", \"Ali\", \"Egypt\"]\n",
        "plt.plot(positions_of_shahrazad, [1]*len(positions_of_shahrazad), \"|\", markersize=100)\n",
        "plt.plot(positions_of_ali, [2]*len(positions_of_ali), \"|\", markersize=100)\n",
        "plt.plot(positions_of_egypt, [0]*len(positions_of_egypt), \"|\", markersize=100)\n",
        "plt.yticks(range(len(names)), names)\n",
        "_ = plt.ylim(-1, 3)"
      ],
      "outputs": [
        {
          "output_type": "display_data",
          "data": {
            "text/plain": [
              "<Figure size 1440x576 with 1 Axes>"
            ],
            "image/png": "[encoded data removed]"
          },
          "metadata": {
            "needs_background": "light"
          }
        }
      ],
      "metadata": {
        "id": "CGln7Z5cSALd",
        "colab": {
          "base_uri": "https://localhost:8080/",
          "height": 496
        },
        "outputId": "dc0474b1-e672-4785-c9b4-61fce7b92f19"
      },
      "execution_count": null
    },
    {
      "cell_type": "markdown",
      "source": [
        "---"
      ],
      "metadata": {
        "id": "-5jrVw1cSALd"
      }
    },
    {
      "cell_type": "markdown",
      "source": [
        "> Then Shahrazad reached the morning, and fell silent in the telling of her tale…"
      ],
      "metadata": {
        "id": "NKiFEAgeSALd"
      }
    },
    {
      "cell_type": "markdown",
      "source": [
        "Let's try some other things! \n",
        "\n",
        "First, let's try to count the frequency of all words in the entire Arabian Nights.\n",
        "\n",
        "For this, we will use the `nltk` library. It has a very useful function `FreqDist` which takes a list of words as input, and outputs a dictionary in which the keys are the words and the values are the corresponding frequencies. "
      ],
      "metadata": {
        "id": "-nl_EsAMhYIH"
      }
    },
    {
      "cell_type": "code",
      "source": [
        "from nltk.probability import FreqDist"
      ],
      "metadata": {
        "id": "GbnTdrrlh0Hl"
      },
      "execution_count": null,
      "outputs": []
    },
    {
      "cell_type": "markdown",
      "source": [
        "Let's see a sample"
      ],
      "metadata": {
        "id": "Shng1_Lph6ev"
      }
    },
    {
      "cell_type": "code",
      "source": [
        "sample_word_list = \"It was the best of times it was the worst of times\".lower().split()\n",
        "print(sample_word_list)\n"
      ],
      "metadata": {
        "colab": {
          "base_uri": "https://localhost:8080/"
        },
        "id": "T4atwt5Bh5bT",
        "outputId": "77cf5d09-231f-494b-9f4f-ee923504a8c3"
      },
      "execution_count": null,
      "outputs": [
        {
          "output_type": "stream",
          "name": "stdout",
          "text": [
            "['it', 'was', 'the', 'best', 'of', 'times', 'it', 'was', 'the', 'worst', 'of', 'times']\n"
          ]
        }
      ]
    },
    {
      "cell_type": "code",
      "source": [
        "fd = FreqDist(sample_word_list)"
      ],
      "metadata": {
        "id": "TdIXgl_cic0e"
      },
      "execution_count": null,
      "outputs": []
    },
    {
      "cell_type": "code",
      "source": [
        "fd"
      ],
      "metadata": {
        "colab": {
          "base_uri": "https://localhost:8080/"
        },
        "id": "4WRDaEuGin-t",
        "outputId": "cf45c9ff-c716-4a24-ed1a-06936f40294f"
      },
      "execution_count": null,
      "outputs": [
        {
          "output_type": "execute_result",
          "data": {
            "text/plain": [
              "FreqDist({'it': 2, 'was': 2, 'the': 2, 'of': 2, 'times': 2, 'best': 1, 'worst': 1})"
            ]
          },
          "metadata": {},
          "execution_count": 100
        }
      ]
    },
    {
      "cell_type": "markdown",
      "source": [
        "We access the frequency of any specific element just like in a normal dictionary."
      ],
      "metadata": {
        "id": "3Cu_6raClvow"
      }
    },
    {
      "cell_type": "code",
      "source": [
        "fd['it']"
      ],
      "metadata": {
        "colab": {
          "base_uri": "https://localhost:8080/"
        },
        "id": "ejc2dIXqijEH",
        "outputId": "3c2d1a75-b1e8-46ce-e0c3-134a42cb4984"
      },
      "execution_count": null,
      "outputs": [
        {
          "output_type": "execute_result",
          "data": {
            "text/plain": [
              "2"
            ]
          },
          "metadata": {},
          "execution_count": 101
        }
      ]
    },
    {
      "cell_type": "markdown",
      "source": [
        "We can see the total number of observations (i.e., the total number of words in whatever sample we feed it) using `.N()`"
      ],
      "metadata": {
        "id": "wkf7pyDQl2Pf"
      }
    },
    {
      "cell_type": "code",
      "source": [
        "fd.N()"
      ],
      "metadata": {
        "colab": {
          "base_uri": "https://localhost:8080/"
        },
        "id": "Ql6lliH0ipZF",
        "outputId": "b55535ab-6bf3-4bc3-c000-a44e2de1fa8a"
      },
      "execution_count": null,
      "outputs": [
        {
          "output_type": "execute_result",
          "data": {
            "text/plain": [
              "12"
            ]
          },
          "metadata": {},
          "execution_count": 102
        }
      ]
    },
    {
      "cell_type": "markdown",
      "source": [
        "To find the element that occurs most frequently, we can use `.max()`"
      ],
      "metadata": {
        "id": "tplsMIpJl_7J"
      }
    },
    {
      "cell_type": "code",
      "source": [
        "fd.max()"
      ],
      "metadata": {
        "colab": {
          "base_uri": "https://localhost:8080/",
          "height": 37
        },
        "id": "A8Ve85ZMir9F",
        "outputId": "2ce01dd0-f839-4c61-fdbe-264c3369b28c"
      },
      "execution_count": null,
      "outputs": [
        {
          "output_type": "execute_result",
          "data": {
            "text/plain": [
              "'it'"
            ],
            "application/vnd.google.colaboratory.intrinsic+json": {
              "type": "string"
            }
          },
          "metadata": {},
          "execution_count": 103
        }
      ]
    },
    {
      "cell_type": "markdown",
      "source": [
        "What's happening here?"
      ],
      "metadata": {
        "id": "JkWeC2soiwLo"
      }
    },
    {
      "cell_type": "markdown",
      "source": [
        "Alternatively, we can use `.most_common` to (a) get a specified number of the most frequent elements, (b) order them by their frequency, and (c) show not only the key but the actual frequency, as well. "
      ],
      "metadata": {
        "id": "8_jYlhpQmG_t"
      }
    },
    {
      "cell_type": "code",
      "source": [
        "fd.most_common(5)"
      ],
      "metadata": {
        "colab": {
          "base_uri": "https://localhost:8080/"
        },
        "id": "NcqGXLlNkR3Q",
        "outputId": "f72b0674-477b-4fa5-f3c7-faffc713f8c3"
      },
      "execution_count": null,
      "outputs": [
        {
          "output_type": "execute_result",
          "data": {
            "text/plain": [
              "[('it', 2), ('was', 2), ('the', 2), ('of', 2), ('times', 2)]"
            ]
          },
          "metadata": {},
          "execution_count": 104
        }
      ]
    },
    {
      "cell_type": "markdown",
      "source": [
        "Sometimes it is useful to identify not the most frequent, but the LEAST frequent elements. In particular, the ones that occur only once. These are known in linguistics circles as *hapax legomena* from the Greek ~ \"said once\".\n",
        "\n",
        "These unique tokens can often be the most distinctive for a text, genre, style, and so on. They are therefore useful for classifying. \n",
        "\n",
        "One also might want to remove them. Most words occur only once in any given text. However, for statistical analyses, single observations cause various problems. "
      ],
      "metadata": {
        "id": "D1TxSjWNmXr6"
      }
    },
    {
      "cell_type": "code",
      "source": [
        "fd.hapaxes()"
      ],
      "metadata": {
        "colab": {
          "base_uri": "https://localhost:8080/"
        },
        "id": "d5lLAy2XkIgL",
        "outputId": "f5bd91bc-7b13-41b6-f8c7-afcaff462ee8"
      },
      "execution_count": null,
      "outputs": [
        {
          "output_type": "execute_result",
          "data": {
            "text/plain": [
              "['best', 'worst']"
            ]
          },
          "metadata": {},
          "execution_count": 105
        }
      ]
    },
    {
      "cell_type": "markdown",
      "source": [
        "We can update the frequency distribution using the method `.update`. This method takes a list of elements to be counted as its sole argument."
      ],
      "metadata": {
        "id": "AC_VhlDKlBVl"
      }
    },
    {
      "cell_type": "code",
      "source": [
        "fd.update([\"worst\"]*3)\n"
      ],
      "metadata": {
        "id": "jUH_yoa8kZvj"
      },
      "execution_count": null,
      "outputs": []
    },
    {
      "cell_type": "code",
      "source": [
        "fd.max()\n",
        "fd.most_common()"
      ],
      "metadata": {
        "colab": {
          "base_uri": "https://localhost:8080/"
        },
        "id": "sIUCobyWkmsO",
        "outputId": "484bf771-252e-4ae9-e00b-90c3a6a80a81"
      },
      "execution_count": null,
      "outputs": [
        {
          "output_type": "execute_result",
          "data": {
            "text/plain": [
              "[('worst', 4),\n",
              " ('it', 2),\n",
              " ('was', 2),\n",
              " ('the', 2),\n",
              " ('of', 2),\n",
              " ('times', 2),\n",
              " ('best', 1)]"
            ]
          },
          "metadata": {},
          "execution_count": 107
        }
      ]
    },
    {
      "cell_type": "markdown",
      "source": [
        "You can get the number of unique types (the **type count** in your list using `len`, as with a dictionary; recall that for dictionaries, when you apply `len`, you get the number of keys). "
      ],
      "metadata": {
        "id": "pFQqsGNan9yY"
      }
    },
    {
      "cell_type": "code",
      "source": [
        "len(fd)"
      ],
      "metadata": {
        "colab": {
          "base_uri": "https://localhost:8080/"
        },
        "id": "Iu5a0zDvnyit",
        "outputId": "b767bceb-4b40-489c-8299-8db0e5ed1f52"
      },
      "execution_count": null,
      "outputs": [
        {
          "output_type": "execute_result",
          "data": {
            "text/plain": [
              "7"
            ]
          },
          "metadata": {},
          "execution_count": 108
        }
      ]
    },
    {
      "cell_type": "markdown",
      "source": [
        "---"
      ],
      "metadata": {
        "id": "PMuLWD-rSALd"
      }
    },
    {
      "cell_type": "markdown",
      "source": [
        "Now let's go through the files of the Arabian nights, and first calculate the overall frequency of all words that appear therein. "
      ],
      "metadata": {
        "id": "d1xmUI1qnWVb"
      }
    },
    {
      "cell_type": "code",
      "source": [
        "#Counting AN words\n",
        "fd = FreqDist()\n",
        "# For each document in the corpus\n",
        "for doc in corpus:\n",
        "  # Get each sentence...\n",
        "  for sent in doc:\n",
        "    # And update the frequency distribution (notice that .update takes a list -- see below)\n",
        "    fd.update(sent)"
      ],
      "metadata": {
        "id": "962rItc8nfUQ"
      },
      "execution_count": null,
      "outputs": []
    },
    {
      "cell_type": "code",
      "source": [
        "fd"
      ],
      "metadata": {
        "colab": {
          "base_uri": "https://localhost:8080/"
        },
        "id": "laASFIKZgFdU",
        "outputId": "5a9ce7aa-2161-4fd0-e85c-5a45f75d4053"
      },
      "execution_count": null,
      "outputs": [
        {
          "output_type": "execute_result",
          "data": {
            "text/plain": [
              "FreqDist({'and': 81245, 'the': 68692, 'of': 36786, 'to': 33698, 'he': 21856, 'i': 18287, 'him': 17171, 'a': 16504, 'his': 15483, 'in': 15124, ...})"
            ]
          },
          "metadata": {},
          "execution_count": 139
        }
      ]
    },
    {
      "cell_type": "markdown",
      "source": [
        "To see how `.update` works, check out what happens when we add new instances of 'and' and 'the'"
      ],
      "metadata": {
        "id": "ioKSm8yPltXu"
      }
    },
    {
      "cell_type": "code",
      "source": [
        "# old counts\n",
        "print(\"old and: \" + str(fd['and']))\n",
        "\n",
        "print(\"old the: \" + str(fd['the']))\n",
        "\n",
        "# Update\n",
        "new_tokens = ['and', 'and', 'and', 'the', 'the']\n",
        "fd.update(new_tokens)\n",
        "\n",
        "# Check to see if the updated values are as expected\n",
        "print(fd['and'] == 81245 + 3)\n",
        "print(fd['the'] == 68692 + 2)"
      ],
      "metadata": {
        "colab": {
          "base_uri": "https://localhost:8080/"
        },
        "id": "lGHsveXflsHb",
        "outputId": "03bcad5d-76c4-44c8-cf74-414c444d775c"
      },
      "execution_count": null,
      "outputs": [
        {
          "output_type": "stream",
          "name": "stdout",
          "text": [
            "old and: 81245\n",
            "old the: 68692\n",
            "True\n",
            "True\n"
          ]
        }
      ]
    },
    {
      "cell_type": "markdown",
      "source": [
        "More generally, you can create and update `FreqDists` objects as follows:"
      ],
      "metadata": {
        "id": "yB_3EKmLmoRP"
      }
    },
    {
      "cell_type": "code",
      "source": [
        "fd = FreqDist()"
      ],
      "metadata": {
        "id": "OTe3ZoVIer9f"
      },
      "execution_count": null,
      "outputs": []
    },
    {
      "cell_type": "code",
      "source": [
        "fd.update([\"a\"])"
      ],
      "metadata": {
        "id": "APPE4CoIfFYW"
      },
      "execution_count": null,
      "outputs": []
    },
    {
      "cell_type": "code",
      "source": [
        "fd"
      ],
      "metadata": {
        "colab": {
          "base_uri": "https://localhost:8080/"
        },
        "id": "dxEIS3b7fMb4",
        "outputId": "bd4af25b-06de-4648-bcec-0631492d1f0a"
      },
      "execution_count": null,
      "outputs": [
        {
          "output_type": "execute_result",
          "data": {
            "text/plain": [
              "FreqDist({'a': 1})"
            ]
          },
          "metadata": {},
          "execution_count": 117
        }
      ]
    },
    {
      "cell_type": "markdown",
      "source": [
        "Another tool is the `ConditionalFreqDist`. This allows us to compute a frequency distribution for some set of elements given some conditioning factor. For example, what is the frequency of words that follow 'the'? \n",
        "\n",
        "Let's see how it works. "
      ],
      "metadata": {
        "id": "hcaxFDnVniQ_"
      }
    },
    {
      "cell_type": "code",
      "source": [
        "from nltk.probability import ConditionalFreqDist as cfd\n",
        "\n",
        "cond = cfd([('the', 'cat'), ('the', 'dog'), ('a', 'man')])"
      ],
      "metadata": {
        "colab": {
          "base_uri": "https://localhost:8080/"
        },
        "id": "mwhUoIbeoLE0",
        "outputId": "35e500b8-dd52-46d0-c757-ebf5148a3a6e"
      },
      "execution_count": null,
      "outputs": [
        {
          "output_type": "execute_result",
          "data": {
            "text/plain": [
              "FreqDist({'cat': 1, 'dog': 1})"
            ]
          },
          "metadata": {},
          "execution_count": 119
        }
      ]
    },
    {
      "cell_type": "code",
      "source": [
        "cond['the']"
      ],
      "metadata": {
        "colab": {
          "base_uri": "https://localhost:8080/"
        },
        "id": "xGAtm9jQm9G8",
        "outputId": "926716c5-3f98-4f56-bc35-8b1f32ba3ebf"
      },
      "execution_count": null,
      "outputs": [
        {
          "output_type": "execute_result",
          "data": {
            "text/plain": [
              "FreqDist({'cat': 1, 'dog': 1})"
            ]
          },
          "metadata": {},
          "execution_count": 121
        }
      ]
    },
    {
      "cell_type": "code",
      "source": [
        "cond['a']"
      ],
      "metadata": {
        "id": "1pvFbNIcyJDY",
        "colab": {
          "base_uri": "https://localhost:8080/"
        },
        "outputId": "1e489ecb-9457-4eb4-e765-57ff1434e8d5"
      },
      "execution_count": null,
      "outputs": [
        {
          "output_type": "execute_result",
          "data": {
            "text/plain": [
              "FreqDist({'man': 1})"
            ]
          },
          "metadata": {},
          "execution_count": 120
        }
      ]
    },
    {
      "cell_type": "markdown",
      "source": [
        "Here, we might be interested in using the particular AN story as the conditioning factor. \n",
        "\n",
        "The first thing we will need to do is to associate each word in a text with the text label itself in the form `(story_number, word)`. \n",
        "\n",
        "To make things easier, we will use the `word_tokenize` function from `nltk`, which works like this:"
      ],
      "metadata": {
        "id": "AojipIFDoWph"
      }
    },
    {
      "cell_type": "code",
      "source": [
        "import nltk\n",
        "from nltk import word_tokenize\n",
        "# (need to download the punctuation recognizer if working in colab)\n",
        "nltk.download(\"punkt\", quiet=True)"
      ],
      "metadata": {
        "colab": {
          "base_uri": "https://localhost:8080/"
        },
        "id": "9dE-ReuzoZHN",
        "outputId": "53fff820-abf3-4263-c6f4-b9fea6e38233"
      },
      "execution_count": null,
      "outputs": [
        {
          "output_type": "execute_result",
          "data": {
            "text/plain": [
              "True"
            ]
          },
          "metadata": {},
          "execution_count": 124
        }
      ]
    },
    {
      "cell_type": "code",
      "source": [
        "word_tokenize(\"Boy, I wish someone would tokenize this string.\")"
      ],
      "metadata": {
        "colab": {
          "base_uri": "https://localhost:8080/"
        },
        "id": "sXLAvE3Kpj4c",
        "outputId": "12299482-0837-4346-939c-58c2e7879155"
      },
      "execution_count": null,
      "outputs": [
        {
          "output_type": "execute_result",
          "data": {
            "text/plain": [
              "['Boy',\n",
              " ',',\n",
              " 'I',\n",
              " 'wish',\n",
              " 'someone',\n",
              " 'would',\n",
              " 'tokenize',\n",
              " 'this',\n",
              " 'string',\n",
              " '.']"
            ]
          },
          "metadata": {},
          "execution_count": 123
        }
      ]
    },
    {
      "cell_type": "markdown",
      "source": [
        "Now we want to \n",
        "- iterate through each file\n",
        "- read it in as a string\n",
        "- tokenize it with `word_tokenize`\n",
        "- take each word and put it into the `(filename, word)` format to return a list of the form `[(filename, word1), (filename, word2), ...]\n",
        "  - we need this format to generate the `ConditionalFreqDist` object\n",
        "  - filenames will be the keys (known as *conditions*\n",
        "  - values will be frequency distributions (`FreqDist`) objects **given the filename** -- $count(\\text{word}|\\text{filename})$\n",
        "- grow this list for each new file (i.e., we want one list of tuples at the end\n",
        "- apply CFD to the result"
      ],
      "metadata": {
        "id": "LaBu0QvGqF_v"
      }
    },
    {
      "cell_type": "code",
      "source": [
        "# Get the filenames\n",
        "filenames = list_textfiles(path + \"/arabian_nights\")\n",
        "\n",
        "# Sort them using our \"get_night\" function\n",
        "filenames.sort(key=get_night)\n",
        "\n",
        "# Check the result\n",
        "print(filenames[:5])\n",
        "print(filenames[-5:])"
      ],
      "metadata": {
        "id": "whDoWJmkrL3g",
        "colab": {
          "base_uri": "https://localhost:8080/"
        },
        "outputId": "fa997f9e-2874-4698-d5c8-2f5b3eff533b"
      },
      "execution_count": null,
      "outputs": [
        {
          "output_type": "stream",
          "name": "stdout",
          "text": [
            "['/content/drive/My Drive/data/arabian_nights/1.txt', '/content/drive/My Drive/data/arabian_nights/2.txt', '/content/drive/My Drive/data/arabian_nights/3.txt', '/content/drive/My Drive/data/arabian_nights/4.txt', '/content/drive/My Drive/data/arabian_nights/5.txt']\n",
            "['/content/drive/My Drive/data/arabian_nights/997.txt', '/content/drive/My Drive/data/arabian_nights/998.txt', '/content/drive/My Drive/data/arabian_nights/999.txt', '/content/drive/My Drive/data/arabian_nights/1000.txt', '/content/drive/My Drive/data/arabian_nights/1001.txt']\n"
          ]
        }
      ]
    },
    {
      "cell_type": "code",
      "source": [
        "# Open a list to store our (filename, word) tuples\n",
        "new_list = []\n",
        "# Iterate through the filenames\n",
        "for filename in filenames:\n",
        "    # read in the file as string\n",
        "    text = read_file(filename)\n",
        "    # tokenize into sentences and words\n",
        "    tok_text = tokenize(text)\n",
        "    # Let's trim down the filename\n",
        "    fn = get_filename(filename)\n",
        "    # extract just the information about the relationship between filename and word\n",
        "    new_list += [(fn, w) for sent in tok_text for w in sent]"
      ],
      "metadata": {
        "id": "uf6s55IpXl7T"
      },
      "execution_count": null,
      "outputs": []
    },
    {
      "cell_type": "markdown",
      "source": [
        "Have a look at the result:"
      ],
      "metadata": {
        "id": "xxySseZcZDQ7"
      }
    },
    {
      "cell_type": "code",
      "source": [
        "new_list[0]"
      ],
      "metadata": {
        "colab": {
          "base_uri": "https://localhost:8080/"
        },
        "id": "86qKy8s-pSEh",
        "outputId": "85f8e584-56c0-4699-b3b4-76fd5eb9966e"
      },
      "execution_count": null,
      "outputs": [
        {
          "output_type": "execute_result",
          "data": {
            "text/plain": [
              "('1', 'in')"
            ]
          },
          "metadata": {},
          "execution_count": 153
        }
      ]
    },
    {
      "cell_type": "markdown",
      "source": [
        "Looks good, so we can now generate the `ConditionalFreqDist`:"
      ],
      "metadata": {
        "id": "xxWi2ja4ZHHz"
      }
    },
    {
      "cell_type": "code",
      "source": [
        "cond_freq = cfd(new_list)"
      ],
      "metadata": {
        "id": "5lvaIRwDpZuH"
      },
      "execution_count": null,
      "outputs": []
    },
    {
      "cell_type": "markdown",
      "source": [
        "If we just call the result, we can see its length, i.e., the number of conditions. \n",
        "\n",
        "We expect 999 conditions: one for each night in our sample. "
      ],
      "metadata": {
        "id": "kY1wd7_pZQRt"
      }
    },
    {
      "cell_type": "code",
      "source": [
        "cond_freq"
      ],
      "metadata": {
        "colab": {
          "base_uri": "https://localhost:8080/"
        },
        "id": "I6oCgCU-pjqI",
        "outputId": "f09897fe-a8e5-4ab4-801c-b626e9339cf9"
      },
      "execution_count": null,
      "outputs": [
        {
          "output_type": "execute_result",
          "data": {
            "text/plain": [
              "<ConditionalFreqDist with 999 conditions>"
            ]
          },
          "metadata": {},
          "execution_count": 155
        }
      ]
    },
    {
      "cell_type": "markdown",
      "source": [
        "Success! \n",
        "\n",
        "You can also find the length of a `ConditionalFreqDist` using `len`. "
      ],
      "metadata": {
        "id": "vnro-VLEZkFI"
      }
    },
    {
      "cell_type": "code",
      "source": [
        "len(cond_freq)"
      ],
      "metadata": {
        "colab": {
          "base_uri": "https://localhost:8080/"
        },
        "id": "7AozhC7rZqhx",
        "outputId": "196df03d-4c2a-481d-8719-0547665aac2a"
      },
      "execution_count": null,
      "outputs": [
        {
          "output_type": "execute_result",
          "data": {
            "text/plain": [
              "999"
            ]
          },
          "metadata": {},
          "execution_count": 156
        }
      ]
    },
    {
      "cell_type": "markdown",
      "source": [
        "We can access the list of conditions using `.keys()` (as we would with any dictionary)"
      ],
      "metadata": {
        "id": "l0QNFSE0tMLr"
      }
    },
    {
      "cell_type": "code",
      "source": [
        "list(cond_freq.keys())[0]"
      ],
      "metadata": {
        "colab": {
          "base_uri": "https://localhost:8080/",
          "height": 37
        },
        "id": "HvN56Ak7qSPi",
        "outputId": "ac29b85e-92c0-474b-b658-6ab8d5eb3286"
      },
      "execution_count": null,
      "outputs": [
        {
          "output_type": "execute_result",
          "data": {
            "text/plain": [
              "'1'"
            ],
            "application/vnd.google.colaboratory.intrinsic+json": {
              "type": "string"
            }
          },
          "metadata": {},
          "execution_count": 157
        }
      ]
    },
    {
      "cell_type": "markdown",
      "source": [
        "Also similar to other dictionary-style objects, you can access values for a given key using the `cfd[key]` notation"
      ],
      "metadata": {
        "id": "8VT6p84DuU8P"
      }
    },
    {
      "cell_type": "code",
      "source": [
        "# For the 89th night\n",
        "cond_freq['89']"
      ],
      "metadata": {
        "colab": {
          "base_uri": "https://localhost:8080/"
        },
        "id": "3JJBh9pgneDA",
        "outputId": "923a95de-1eb6-4eef-a18c-e0c67e4301a5"
      },
      "execution_count": null,
      "outputs": [
        {
          "output_type": "execute_result",
          "data": {
            "text/plain": [
              "FreqDist({'the': 81, 'and': 62, 'of': 37, 'to': 27, 'in': 15, 'with': 14, 'it': 13, 'them': 12, 'they': 11, 'king': 10, ...})"
            ]
          },
          "metadata": {},
          "execution_count": 158
        }
      ]
    },
    {
      "cell_type": "code",
      "source": [
        "from IPython.core.display import HTML\n",
        "def css_styling():\n",
        "    styles = open(\"styles/custom.css\", \"r\").read()\n",
        "    return HTML(styles)\n",
        "css_styling()"
      ],
      "outputs": [
        {
          "output_type": "execute_result",
          "data": {},
          "metadata": {},
          "execution_count": 2
        }
      ],
      "metadata": {
        "id": "H9ZV6wtFSALe",
        "outputId": "7c7767a4-651c-4118-aa67-1d29e9cc6ebf"
      },
      "execution_count": null
    },
    {
      "cell_type": "markdown",
      "source": [
        "---"
      ],
      "metadata": {
        "id": "RIeuApw8SALe"
      }
    },
    {
      "cell_type": "markdown",
      "source": [
        "<p><small><a rel=\"license\" href=\"http://creativecommons.org/licenses/by-sa/4.0/\"><img alt=\"Creative Commons License\" style=\"border-width:0\" src=\"https://i.creativecommons.org/l/by-sa/4.0/88x31.png\" /></a><br /><span xmlns:dct=\"http://purl.org/dc/terms/\" property=\"dct:title\">Python Programming for the Humanities</span> by <a xmlns:cc=\"http://creativecommons.org/ns#\" href=\"http://fbkarsdorp.github.io/python-course\" property=\"cc:attributionName\" rel=\"cc:attributionURL\">http://fbkarsdorp.github.io/python-course</a> is licensed under a <a rel=\"license\" href=\"http://creativecommons.org/licenses/by-sa/4.0/\">Creative Commons Attribution-ShareAlike 4.0 International License</a>. Based on a work at <a xmlns:dct=\"http://purl.org/dc/terms/\" href=\"https://github.com/fbkarsdorp/python-course\" rel=\"dct:source\">https://github.com/fbkarsdorp/python-course</a>.</small></p>"
      ],
      "metadata": {
        "id": "VHvfUnY_SALf"
      }
    }
  ]
}